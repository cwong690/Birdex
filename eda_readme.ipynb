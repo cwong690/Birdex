{
 "cells": [
  {
   "cell_type": "code",
   "execution_count": 1,
   "metadata": {},
   "outputs": [],
   "source": [
    "import pandas as pd\n",
    "import numpy as np\n",
    "# import seaborn as sns\n",
    "import matplotlib.pyplot as plt\n",
    "import os\n",
    "import cv2\n",
    "\n",
    "import random\n",
    "import math\n",
    "import networkx as nx\n",
    "\n",
    "import boto3\n",
    "from PIL import Image\n",
    "\n",
    "import requests\n",
    "import json\n",
    "\n",
    "from tqdm import tqdm\n",
    "getattr(tqdm, '_instances', {}).clear()  # ⬅ add this line\n",
    "\n",
    "# %matplotlib inline\n",
    "plt.style.use('ggplot')\n",
    "\n",
    "\n",
    "pd.set_option('display.max_columns', 50)"
   ]
  },
  {
   "cell_type": "code",
   "execution_count": 2,
   "metadata": {},
   "outputs": [],
   "source": [
    "import pickle # save images\n",
    "import time # get time stamp of models trained\n",
    "\n",
    "import matplotlib.image as mpimg # show images\n",
    "from io import BytesIO # reading bytes"
   ]
  },
  {
   "cell_type": "code",
   "execution_count": null,
   "metadata": {},
   "outputs": [],
   "source": [
    "# orders_df = pd.read_csv('data/orders_df.csv', index_col=0)\n",
    "\n",
    "# orders_df.head(2)\n",
    "\n",
    "# # sns.set()\n",
    "# # sns.palplot(sns.dark_palette(\"purple\"))"
   ]
  },
  {
   "cell_type": "markdown",
   "metadata": {},
   "source": [
    "## Full Data Number of Species"
   ]
  },
  {
   "cell_type": "code",
   "execution_count": null,
   "metadata": {},
   "outputs": [],
   "source": [
    "# fig, ax = plt.subplots(figsize=(10,10))\n",
    "\n",
    "# ax = sns.countplot(orders_df['species_group'], order=orders_df.groupby('species_group').count()['family'].sort_values(ascending=False).index);\n",
    "# plt.xticks(rotation=90);\n",
    "# ax.set_title('Number of Species in Family Group')\n",
    "# ax.set_xlabel('Family Groups')\n",
    "# ax.set_ylabel('Number of Species')\n",
    "# ax.grid(False)\n",
    "# plt.tight_layout()"
   ]
  },
  {
   "cell_type": "code",
   "execution_count": null,
   "metadata": {},
   "outputs": [],
   "source": [
    "# final_orders.to_csv('data/final_orders.csv')"
   ]
  },
  {
   "cell_type": "markdown",
   "metadata": {},
   "source": [
    "## Read in final csv"
   ]
  },
  {
   "cell_type": "code",
   "execution_count": null,
   "metadata": {},
   "outputs": [],
   "source": [
    "final_orders = pd.read_csv('data/final_orders.csv', index_col=0)"
   ]
  },
  {
   "cell_type": "code",
   "execution_count": null,
   "metadata": {},
   "outputs": [],
   "source": [
    "final_orders.info()"
   ]
  },
  {
   "cell_type": "code",
   "execution_count": null,
   "metadata": {},
   "outputs": [],
   "source": [
    "group_sort = final_orders.groupby('species_group').count()['family'].sort_values(ascending=False)"
   ]
  },
  {
   "cell_type": "code",
   "execution_count": null,
   "metadata": {},
   "outputs": [],
   "source": [
    "fig, ax = plt.subplots(figsize=(10,10))\n",
    "\n",
    "ax = sns.countplot(final_orders['species_group'], order=np.arange(1,40));\n",
    "plt.xticks(rotation=90, fontsize=15);\n",
    "ax.set_title('Number of Species in Family Group', fontsize=30)\n",
    "ax.set_xlabel('Family Groups', fontsize=20)\n",
    "ax.set_ylabel('Number of Species', fontsize=20)\n",
    "ax.grid(False)\n",
    "\n",
    "plt.tight_layout()\n",
    "\n",
    "plt.savefig('graphs/readme_num_fam_group.png')"
   ]
  },
  {
   "cell_type": "code",
   "execution_count": null,
   "metadata": {},
   "outputs": [],
   "source": [
    "group_top5 = final_orders.groupby('species_group').count()['family'].sort_values(ascending=False)[:5]"
   ]
  },
  {
   "cell_type": "code",
   "execution_count": null,
   "metadata": {},
   "outputs": [],
   "source": [
    "fig, ax = plt.subplots(figsize=(10,10))\n",
    "\n",
    "ax = sns.barplot(x=group_top5.index.values, y=group_top5.values);\n",
    "plt.xticks(rotation=90, fontsize=20);\n",
    "ax.set_title('Number of Species in Family Group', fontsize=30)\n",
    "ax.set_xlabel('Family Groups', fontsize=20)\n",
    "ax.set_ylabel('Number of Species', fontsize=20)\n",
    "ax.grid(False)\n",
    "plt.tight_layout()\n",
    "\n",
    "plt.savefig('graphs/readme_top5_fam_group.png')"
   ]
  },
  {
   "cell_type": "code",
   "execution_count": null,
   "metadata": {},
   "outputs": [],
   "source": [
    "order_sort = final_orders.groupby('order').count()['species_group'].sort_values(ascending=False)"
   ]
  },
  {
   "cell_type": "code",
   "execution_count": null,
   "metadata": {},
   "outputs": [],
   "source": [
    "fig, ax = plt.subplots(figsize=(15,10))\n",
    "\n",
    "ax = sns.countplot(final_orders['order'], order=order_sort.index);\n",
    "plt.xticks(rotation=90, fontsize=20);\n",
    "ax.set_title('Number of Species per Order', fontsize=30)\n",
    "ax.set_xlabel('Name of Order Group', fontsize=20)\n",
    "ax.set_ylabel('Number of Species', fontsize=20)\n",
    "ax.grid(False)\n",
    "plt.tight_layout()\n",
    "\n",
    "plt.savefig('graphs/readme_num_species_order.png')"
   ]
  },
  {
   "cell_type": "markdown",
   "metadata": {},
   "source": [
    "## Plot Num Species in Orders"
   ]
  },
  {
   "cell_type": "code",
   "execution_count": null,
   "metadata": {},
   "outputs": [],
   "source": [
    "final_orders[final_orders['species_group']=='Cardinals, Grosbeaks, and Allies']['file_path'][1055:1057]"
   ]
  },
  {
   "cell_type": "code",
   "execution_count": null,
   "metadata": {},
   "outputs": [],
   "source": [
    "bucket = 'cwbirdsimages'\n",
    "img_dir = 'images'"
   ]
  },
  {
   "cell_type": "code",
   "execution_count": null,
   "metadata": {},
   "outputs": [],
   "source": [
    "s3 = boto3.client('s3')\n",
    "\n",
    "# grab duck image\n",
    "obj = s3.get_object(Bucket=bucket, Key=f'images/0337/47b4bab08e524f0f9dff439c5386b70b.jpg')\n",
    "img_bytes = BytesIO(obj['Body'].read())\n",
    "waterfowl1 = Image.open(img_bytes)\n",
    "\n",
    "# grab hawk image\n",
    "obj = s3.get_object(Bucket=bucket, Key=f'images/0860/9593362c9fe54d1297356000a11f6aa5.jpg')\n",
    "img_bytes = BytesIO(obj['Body'].read())\n",
    "woodwarbler1 = Image.open(img_bytes)\n",
    "\n",
    "# grab finch image\n",
    "obj = s3.get_object(Bucket=bucket, Key=f'images/0988/914616d508cc46dd8b155c997c41b37f.jpg')\n",
    "img_bytes = BytesIO(obj['Body'].read())\n",
    "blackbird1 = Image.open(img_bytes)\n",
    "\n",
    "# grab finch image\n",
    "obj = s3.get_object(Bucket=bucket, Key=f'images/0899/77cf5ac8c6b243509384657586229871.jpg')\n",
    "img_bytes = BytesIO(obj['Body'].read())\n",
    "newworldsparrow1 = Image.open(img_bytes)\n",
    "\n",
    "# grab finch image\n",
    "obj = s3.get_object(Bucket=bucket, Key=f'images/0771/ed7362f8ad1a4939a2c89bc7ed81a283.jpg')\n",
    "img_bytes = BytesIO(obj['Body'].read())\n",
    "cardinals1 = Image.open(img_bytes)"
   ]
  },
  {
   "cell_type": "code",
   "execution_count": null,
   "metadata": {},
   "outputs": [],
   "source": [
    "plt.title('New World Sparrow',fontsize=35)\n",
    "plt.imshow(newworldsparrow1);\n",
    "plt.savefig('graphs/readme_newworldsparrow.png')"
   ]
  },
  {
   "cell_type": "code",
   "execution_count": null,
   "metadata": {},
   "outputs": [],
   "source": []
  },
  {
   "cell_type": "code",
   "execution_count": null,
   "metadata": {},
   "outputs": [],
   "source": [
    "order_fam = final_orders[final_orders['order']=='Passeriformes'].groupby('species_group').count()['order'].sort_values(ascending=False)"
   ]
  },
  {
   "cell_type": "code",
   "execution_count": null,
   "metadata": {},
   "outputs": [],
   "source": [
    "order_fam.index.values"
   ]
  },
  {
   "cell_type": "code",
   "execution_count": null,
   "metadata": {},
   "outputs": [],
   "source": [
    "fig, ax = plt.subplots(figsize=(10,10))\n",
    "\n",
    "ax = sns.barplot(x=order_fam.index.values, y=order_fam.values);\n",
    "plt.xticks(rotation=90, fontsize=15);\n",
    "ax.set_title('Number of Species in Passeriformes Order', fontsize=20)\n",
    "ax.set_xlabel('Species Family Groups in Passeriformes', fontsize=15)\n",
    "ax.set_ylabel('Number of Species', fontsize=15)\n",
    "ax.grid(False)\n",
    "plt.tight_layout()\n",
    "\n",
    "plt.savefig('graphs/readme_num_passer_order.png')"
   ]
  },
  {
   "cell_type": "code",
   "execution_count": null,
   "metadata": {},
   "outputs": [],
   "source": [
    "img_dir = 'images' # folder containing all other folders of images\n",
    "paths = orders_df['file_path']\n",
    "bucket = 'cwbirdsimages'\n",
    "\n",
    "def resize_images_array(img_dir, file_paths):\n",
    "    # arrays of image pixels\n",
    "    img_arrays = []\n",
    "    \n",
    "    paths = []\n",
    "    \n",
    "    # loop through the dataframe that is linked to its label so that all images are in the same order\n",
    "    for path in tqdm(file_paths):\n",
    "        s3 = boto3.client('s3')\n",
    "        try:\n",
    "            obj = s3.get_object(Bucket=bucket, Key=f'{img_dir}/{path}')\n",
    "            img_bytes = BytesIO(obj['Body'].read())\n",
    "            open_img = Image.open(img_bytes)\n",
    "            arr = np.array(open_img.resize((299,299))) # resize to 200,200. possible to play around with better or worse resolution\n",
    "            img_arrays.append(arr)\n",
    "            paths.append(path)\n",
    "        except:\n",
    "#             print(path) # get file_path of ones that fail to load\n",
    "            continue\n",
    "    return np.array(img_arrays)"
   ]
  },
  {
   "cell_type": "code",
   "execution_count": null,
   "metadata": {},
   "outputs": [],
   "source": [
    "# # X = resize_images_array(img_dir, orders_df['file_path'][:21129])\n",
    "\n",
    "# print('length of sample: ', len(X))\n",
    "# X.shape\n",
    "\n",
    "# # normalize the RBG values\n",
    "# X = X/255.0\n",
    "\n",
    "# # grab numeric label\n",
    "# # VALUES MUST BE NP.ARRAYS\n",
    "# label = np.array(orders_df['species_group'][:21129].values)\n",
    "\n",
    "# # labels are alphabetical\n",
    "# y = (label.reshape(-1,1) == np.unique(orders_df['species_group'][:21129])).astype(float)\n",
    "\n",
    "# y[0]\n",
    "\n",
    "# print('label shape: ', y.shape)\n",
    "# print('features shape: ', X.shape)"
   ]
  },
  {
   "cell_type": "markdown",
   "metadata": {},
   "source": [
    "## Transfer Learning"
   ]
  },
  {
   "cell_type": "code",
   "execution_count": null,
   "metadata": {},
   "outputs": [],
   "source": [
    "import tensorflow as tf\n",
    "from tensorflow.keras.models import Sequential\n",
    "from tensorflow.keras.layers import Dense, Dropout, Activation, Flatten, GlobalAveragePooling2D\n",
    "from tensorflow.keras.layers import Conv2D, MaxPool2D, BatchNormalization # CNN\n",
    "from tensorflow.keras.models import Model\n",
    "\n",
    "from tensorflow.keras.applications.xception import preprocess_input\n",
    "from tensorflow.keras.applications import Xception\n",
    "from tensorflow.keras.preprocessing.image import img_to_array, load_img\n",
    "from tensorflow.keras.models import Model\n",
    "from tensorflow.keras.optimizers import SGD, RMSprop\n",
    "\n",
    "from tensorflow.keras.callbacks import TensorBoard # graphical visual of loss and accuracy over the epochs of train and test set\n",
    "from sklearn.metrics import accuracy_score\n",
    "from sklearn.model_selection import train_test_split\n",
    "\n",
    "import datetime\n",
    "\n",
    "tf.__version__"
   ]
  },
  {
   "cell_type": "code",
   "execution_count": null,
   "metadata": {},
   "outputs": [],
   "source": [
    "# X_train, X_test, y_train, y_test = train_test_split(X, y, test_size=0.2)\n",
    "\n",
    "# print('X_train shape: ', X_train.shape)\n",
    "# print('X_test shape: ', X_test.shape)\n",
    "# print('y_train shape: ', y_train.shape)\n",
    "# print('y_test shape: ', y_test.shape)\n",
    "\n",
    "# log_xcept = os.path.join(\"logs/orders_xception\", datetime.datetime.now().strftime(\"%Y%m%d-%H%M%S\"))\n",
    "# tensorboard_callback = TensorBoard(log_dir=log_xcept, histogram_freq=1)\n",
    "\n",
    "# input_size = (299,299,3)\n",
    "\n",
    "# n_categories = y.shape[1]\n",
    "\n",
    "# def create_transfer_model(input_size, n_categories, weights = 'imagenet'):\n",
    "#         # note that the \"top\" is not included in the weights below\n",
    "#         base_model = Xception(weights=weights,\n",
    "#                           include_top=False,\n",
    "#                           input_shape=input_size)\n",
    "        \n",
    "#         model = base_model.output\n",
    "#         model = GlobalAveragePooling2D()(model)\n",
    "#         predictions = Dense(n_categories, activation='softmax')(model)\n",
    "#         model = Model(inputs=base_model.input, outputs=predictions)\n",
    "        \n",
    "#         return model\n",
    "\n",
    "# def change_trainable_layers(model, trainable_index):\n",
    "#     for layer in model.layers[:trainable_index]:\n",
    "#         layer.trainable = False\n",
    "#     for layer in model.layers[trainable_index:]:\n",
    "#         layer.trainable = True\n",
    "\n",
    "# transfer_model = create_transfer_model((299,299,3),n_categories)\n",
    "\n",
    "# _ = change_trainable_layers(transfer_model, 132)\n",
    "\n",
    "# print_model_properties(transfer_model, 130)\n",
    "\n",
    "# transfer_model.compile(optimizer=RMSprop(lr=0.001), loss='categorical_crossentropy', metrics=['accuracy'])\n",
    "\n",
    "# xception_final = transfer_model.fit(X, y, batch_size=1000, epochs=5, validation_split=0.1, callbacks=[tensorboard_callback])\n",
    "\n",
    "# %reload_ext tensorboard\n",
    "# %tensorboard --logdir logs/\n",
    "\n",
    "# # transfer_model.save('saved_models/orders_xception.h5')\n",
    "# species_xception = tf.keras.models.load_model('saved_models/species3_xception.h5')\n",
    "\n",
    "# species_xception.summary()\n",
    "\n",
    "# pickle.dump(species_xception, open('saved_models/species_xception.p', 'wb'))"
   ]
  },
  {
   "cell_type": "code",
   "execution_count": null,
   "metadata": {},
   "outputs": [],
   "source": [
    "file = 'static/images/meet_duck.png'\n",
    "a = Image.open(file)\n",
    "c = np.array(a.resize((299,299)))"
   ]
  },
  {
   "cell_type": "code",
   "execution_count": null,
   "metadata": {},
   "outputs": [],
   "source": [
    "ans = species_xception.predict(c.reshape(1,299,299,3))"
   ]
  },
  {
   "cell_type": "code",
   "execution_count": null,
   "metadata": {},
   "outputs": [],
   "source": [
    "ans"
   ]
  },
  {
   "cell_type": "code",
   "execution_count": null,
   "metadata": {},
   "outputs": [],
   "source": [
    "np.round(ans * 100, 1)[0].argsort()[-1:-4:-1]"
   ]
  },
  {
   "cell_type": "code",
   "execution_count": 3,
   "metadata": {},
   "outputs": [],
   "source": [
    "conf_mat = pd.read_csv('data/confusion_matrix.csv', header=None)"
   ]
  },
  {
   "cell_type": "code",
   "execution_count": 4,
   "metadata": {},
   "outputs": [],
   "source": [
    "confusion_mat = []\n",
    "\n",
    "for i in conf_mat[0]:\n",
    "    row = np.round(np.array(i.split(' ')).astype(float)).astype(int)\n",
    "    confusion_mat.append(row)"
   ]
  },
  {
   "cell_type": "code",
   "execution_count": null,
   "metadata": {},
   "outputs": [],
   "source": [
    "# !pip install mlxtend"
   ]
  },
  {
   "cell_type": "code",
   "execution_count": 6,
   "metadata": {},
   "outputs": [],
   "source": [
    "from mlxtend.plotting import plot_confusion_matrix"
   ]
  },
  {
   "cell_type": "code",
   "execution_count": 7,
   "metadata": {},
   "outputs": [],
   "source": [
    "plt.style.use('ggplot')"
   ]
  },
  {
   "cell_type": "code",
   "execution_count": 8,
   "metadata": {},
   "outputs": [],
   "source": [
    "plot_confusion_matrix(conf_mat=np.array(confusion_mat), figsize=(20,20), show_absolute=False, show_normed=True, class_names=np.arange(1,40), cmap='afmhot_r', colorbar=True)[0]\n",
    "plt.savefig('graphs/readme_confusion_mat.png')"
   ]
  },
  {
   "cell_type": "markdown",
   "metadata": {},
   "source": [
    "Accent, Accent_r, Blues, Blues_r, BrBG, BrBG_r, BuGn, BuGn_r, BuPu, BuPu_r, CMRmap, CMRmap_r, Dark2, Dark2_r, GnBu, GnBu_r, Greens, Greens_r, Greys, Greys_r, OrRd, OrRd_r, Oranges, Oranges_r, PRGn, PRGn_r, Paired, Paired_r, Pastel1, Pastel1_r, Pastel2, Pastel2_r, PiYG, PiYG_r, PuBu, PuBuGn, PuBuGn_r, PuBu_r, PuOr, PuOr_r, PuRd, PuRd_r, Purples, Purples_r, RdBu, RdBu_r, RdGy, RdGy_r, RdPu, RdPu_r, RdYlBu, RdYlBu_r, RdYlGn, RdYlGn_r, Reds, Reds_r, Set1, Set1_r, Set2, Set2_r, Set3, Set3_r, Spectral, Spectral_r, Wistia, Wistia_r, YlGn, YlGnBu, YlGnBu_r, YlGn_r, YlOrBr, YlOrBr_r, YlOrRd, YlOrRd_r, afmhot, afmhot_r, autumn, autumn_r, binary, binary_r, bone, bone_r, brg, brg_r, bwr, bwr_r, cividis, cividis_r, cool, cool_r, coolwarm, coolwarm_r, copper, copper_r, cubehelix, cubehelix_r, flag, flag_r, gist_earth, gist_earth_r, gist_gray, gist_gray_r, gist_heat, gist_heat_r, gist_ncar, gist_ncar_r, gist_rainbow, gist_rainbow_r, gist_stern, gist_stern_r, gist_yarg, gist_yarg_r, gnuplot, gnuplot2, gnuplot2_r, gnuplot_r, gray, gray_r, hot, hot_r, hsv, hsv_r, icefire, icefire_r, inferno, inferno_r, jet, jet_r, magma, magma_r, mako, mako_r, nipy_spectral, nipy_spectral_r, ocean, ocean_r, pink, pink_r, plasma, plasma_r, prism, prism_r, rainbow, rainbow_r, rocket, rocket_r, seismic, seismic_r, spring, spring_r, summer, summer_r, tab10, tab10_r, tab20, tab20_r, tab20b, tab20b_r, tab20c, tab20c_r, terrain, terrain_r, twilight, twilight_r, twilight_shifted, twilight_shifted_r, viridis, viridis_r, vlag, vlag_r, winter, winter_r"
   ]
  },
  {
   "cell_type": "code",
   "execution_count": null,
   "metadata": {},
   "outputs": [],
   "source": [
    "acc_loss = pd.read_csv('data/accuracy.csv', index_col=0)"
   ]
  },
  {
   "cell_type": "code",
   "execution_count": null,
   "metadata": {},
   "outputs": [],
   "source": [
    "acc = acc_loss['accuracy']\n",
    "val_acc = acc_loss['val_accuracy']\n",
    "\n",
    "loss = acc_loss['loss']\n",
    "val_loss = acc_loss['val_loss']"
   ]
  },
  {
   "cell_type": "code",
   "execution_count": null,
   "metadata": {},
   "outputs": [],
   "source": [
    "fig, ax = plt.subplots(figsize=(8, 8))\n",
    "ax.plot(acc, label='Training Accuracy')\n",
    "ax.plot(val_acc, label='Validation Accuracy')\n",
    "ax.legend(loc='lower right')\n",
    "ax.set_ylabel('Accuracy', fontsize=15)\n",
    "ax.set_xlabel('Number of Epoch', fontsize=15)\n",
    "ax.set_ylim([min(plt.ylim()),1])\n",
    "ax.grid(False)\n",
    "plt.title('Training and Validation Accuracy', fontsize=20)\n",
    "plt.savefig('graphs/readme_xception_acc.png')"
   ]
  },
  {
   "cell_type": "code",
   "execution_count": null,
   "metadata": {},
   "outputs": [],
   "source": [
    "fig, ax = plt.subplots(figsize=(8, 8))\n",
    "ax.plot(loss, label='Training Loss')\n",
    "ax.plot(val_loss, label='Validation Loss')\n",
    "ax.legend(loc='lower left')\n",
    "ax.set_ylabel('Cross Entropy', fontsize=15)\n",
    "ax.set_xlabel('Number of Epoch', fontsize=15)\n",
    "ax.set_ylim([min(plt.ylim()),1])\n",
    "ax.grid(False)\n",
    "plt.title('Training and Validation Loss', fontsize=20)\n",
    "plt.savefig('graphs/readme_xception_loss.png')"
   ]
  },
  {
   "cell_type": "code",
   "execution_count": 9,
   "metadata": {},
   "outputs": [],
   "source": [
    "# makeup=np.array([[0.3,0.5,0.1,0.7,0.3,0.8],[0.9,0.5,0.1,0.7,0.3,0.8]])\n",
    "\n",
    "# for i in makeup:\n",
    "#     i[i.argmax()] = 1\n",
    "#     i[i < 1] = 0\n",
    "#     print(i)\n",
    "\n",
    "# makeup[makeup.argmax(axis=1)] = 1\n",
    "\n",
    "# makeup[makeup < 1] = 0\n",
    "\n",
    "# makeup"
   ]
  }
 ],
 "metadata": {
  "kernelspec": {
   "display_name": "Python 3",
   "language": "python",
   "name": "python3"
  },
  "language_info": {
   "codemirror_mode": {
    "name": "ipython",
    "version": 3
   },
   "file_extension": ".py",
   "mimetype": "text/x-python",
   "name": "python",
   "nbconvert_exporter": "python",
   "pygments_lexer": "ipython3",
   "version": "3.6.10"
  }
 },
 "nbformat": 4,
 "nbformat_minor": 4
}

{
 "cells": [
  {
   "cell_type": "code",
   "execution_count": 133,
   "metadata": {},
   "outputs": [],
   "source": [
    "import pandas as pd\n",
    "import numpy as np\n",
    "import seaborn as sns\n",
    "import matplotlib.pyplot as plt\n",
    "import os\n",
    "import cv2\n",
    "\n",
    "import random\n",
    "import math\n",
    "import networkx as nx\n",
    "\n",
    "import boto3\n",
    "from PIL import Image\n",
    "\n",
    "import requests\n",
    "import json\n",
    "\n",
    "from tqdm import tqdm\n",
    "getattr(tqdm, '_instances', {}).clear()  # ⬅ add this line\n",
    "\n",
    "%matplotlib inline\n",
    "\n",
    "plt.style.use('ggplot')\n",
    "\n",
    "pd.set_option('display.max_columns', 50)"
   ]
  },
  {
   "cell_type": "code",
   "execution_count": 2,
   "metadata": {},
   "outputs": [],
   "source": [
    "import pickle # save images\n",
    "import time # get time stamp of models trained"
   ]
  },
  {
   "cell_type": "markdown",
   "metadata": {},
   "source": [
    "## Import text files (image names, labels)"
   ]
  },
  {
   "cell_type": "code",
   "execution_count": 3,
   "metadata": {},
   "outputs": [],
   "source": [
    "import matplotlib.image as mpimg # show images\n",
    "from io import BytesIO # reading bytes"
   ]
  },
  {
   "cell_type": "markdown",
   "metadata": {},
   "source": [
    "#### Create dataframe with images.txt\n",
    "\n",
    "_Contains name of images and file path_  \n",
    "- Split into file path, image name, and folder number"
   ]
  },
  {
   "cell_type": "code",
   "execution_count": 4,
   "metadata": {},
   "outputs": [],
   "source": [
    "bucket = 'cwbirdsimages'"
   ]
  },
  {
   "cell_type": "code",
   "execution_count": 5,
   "metadata": {},
   "outputs": [],
   "source": [
    "s3 = boto3.client('s3')\n",
    "img_txt = s3.get_object(Bucket=bucket, Key='images.txt')\n",
    "\n",
    "img_names = BytesIO(img_txt['Body'].read())"
   ]
  },
  {
   "cell_type": "code",
   "execution_count": 6,
   "metadata": {},
   "outputs": [],
   "source": [
    "img_data = pd.read_csv(img_names, header=None, low_memory=False, na_values='n/a')"
   ]
  },
  {
   "cell_type": "code",
   "execution_count": 7,
   "metadata": {},
   "outputs": [],
   "source": [
    "img_data['file_path'] = img_data[0].apply(lambda x: x.split()[1])\n",
    "img_data['img_name'] = img_data[0].apply(lambda x: x.split()[0])\n",
    "\n",
    "img_data['class_id'] = img_data['file_path'].apply(lambda x: x.split('/')[0])"
   ]
  },
  {
   "cell_type": "code",
   "execution_count": 8,
   "metadata": {},
   "outputs": [],
   "source": [
    "img_data.drop(0, axis=1, inplace=True)"
   ]
  },
  {
   "cell_type": "code",
   "execution_count": 9,
   "metadata": {},
   "outputs": [
    {
     "name": "stdout",
     "output_type": "stream",
     "text": [
      "<class 'pandas.core.frame.DataFrame'>\n",
      "RangeIndex: 48562 entries, 0 to 48561\n",
      "Data columns (total 3 columns):\n",
      " #   Column     Non-Null Count  Dtype \n",
      "---  ------     --------------  ----- \n",
      " 0   file_path  48562 non-null  object\n",
      " 1   img_name   48562 non-null  object\n",
      " 2   class_id   48562 non-null  object\n",
      "dtypes: object(3)\n",
      "memory usage: 1.1+ MB\n"
     ]
    }
   ],
   "source": [
    "img_data.info()"
   ]
  },
  {
   "cell_type": "code",
   "execution_count": 10,
   "metadata": {},
   "outputs": [],
   "source": [
    "# 'class_id' should be int\n",
    "img_data['class_id'] = img_data['class_id'].apply(lambda x: int(x))"
   ]
  },
  {
   "cell_type": "markdown",
   "metadata": {},
   "source": [
    "#### Create dataframe of image_class_labels.txt\n",
    "\n",
    "_Contains name of image file and corresponding folder number_  \n",
    "- Split into image name, and folder number"
   ]
  },
  {
   "cell_type": "code",
   "execution_count": 11,
   "metadata": {},
   "outputs": [],
   "source": [
    "s3 = boto3.client('s3')\n",
    "img_class = s3.get_object(Bucket=bucket, Key='image_class_labels.txt')\n",
    "\n",
    "img_class_labels = BytesIO(img_class['Body'].read())"
   ]
  },
  {
   "cell_type": "code",
   "execution_count": 12,
   "metadata": {},
   "outputs": [],
   "source": [
    "labels_df = pd.read_csv(img_class_labels, header=None, low_memory=False, na_values='n/a')"
   ]
  },
  {
   "cell_type": "code",
   "execution_count": 13,
   "metadata": {},
   "outputs": [
    {
     "data": {
      "text/html": [
       "<div>\n",
       "<style scoped>\n",
       "    .dataframe tbody tr th:only-of-type {\n",
       "        vertical-align: middle;\n",
       "    }\n",
       "\n",
       "    .dataframe tbody tr th {\n",
       "        vertical-align: top;\n",
       "    }\n",
       "\n",
       "    .dataframe thead th {\n",
       "        text-align: right;\n",
       "    }\n",
       "</style>\n",
       "<table border=\"1\" class=\"dataframe\">\n",
       "  <thead>\n",
       "    <tr style=\"text-align: right;\">\n",
       "      <th></th>\n",
       "      <th>0</th>\n",
       "    </tr>\n",
       "  </thead>\n",
       "  <tbody>\n",
       "    <tr>\n",
       "      <th>0</th>\n",
       "      <td>0000139e-21dc-4d0c-bfe1-4cae3c85c829 817</td>\n",
       "    </tr>\n",
       "    <tr>\n",
       "      <th>1</th>\n",
       "      <td>0000d9fc-4e02-4c06-a0af-a55cfb16b12b 860</td>\n",
       "    </tr>\n",
       "    <tr>\n",
       "      <th>2</th>\n",
       "      <td>00019306-9d83-4334-b255-a447742edce3 900</td>\n",
       "    </tr>\n",
       "    <tr>\n",
       "      <th>3</th>\n",
       "      <td>0001afd4-99a1-4a67-b940-d419413e23b3 645</td>\n",
       "    </tr>\n",
       "    <tr>\n",
       "      <th>4</th>\n",
       "      <td>000332b8-997c-4540-9647-2f0a8495aecf 929</td>\n",
       "    </tr>\n",
       "    <tr>\n",
       "      <th>...</th>\n",
       "      <td>...</td>\n",
       "    </tr>\n",
       "    <tr>\n",
       "      <th>48557</th>\n",
       "      <td>fff86e8b-795f-400a-91e8-565bbb8c453a 891</td>\n",
       "    </tr>\n",
       "    <tr>\n",
       "      <th>48558</th>\n",
       "      <td>fff926d7-ccad-4788-839e-97af2dd99372 660</td>\n",
       "    </tr>\n",
       "    <tr>\n",
       "      <th>48559</th>\n",
       "      <td>fffa33ef-a765-408d-8d66-6efc7f504c71 492</td>\n",
       "    </tr>\n",
       "    <tr>\n",
       "      <th>48560</th>\n",
       "      <td>ffff0d87-bc84-4ef2-a47e-a4bfa48502ce 372</td>\n",
       "    </tr>\n",
       "    <tr>\n",
       "      <th>48561</th>\n",
       "      <td>fffff3a5-2a75-47d0-887f-03871e3f9a37 880</td>\n",
       "    </tr>\n",
       "  </tbody>\n",
       "</table>\n",
       "<p>48562 rows × 1 columns</p>\n",
       "</div>"
      ],
      "text/plain": [
       "                                              0\n",
       "0      0000139e-21dc-4d0c-bfe1-4cae3c85c829 817\n",
       "1      0000d9fc-4e02-4c06-a0af-a55cfb16b12b 860\n",
       "2      00019306-9d83-4334-b255-a447742edce3 900\n",
       "3      0001afd4-99a1-4a67-b940-d419413e23b3 645\n",
       "4      000332b8-997c-4540-9647-2f0a8495aecf 929\n",
       "...                                         ...\n",
       "48557  fff86e8b-795f-400a-91e8-565bbb8c453a 891\n",
       "48558  fff926d7-ccad-4788-839e-97af2dd99372 660\n",
       "48559  fffa33ef-a765-408d-8d66-6efc7f504c71 492\n",
       "48560  ffff0d87-bc84-4ef2-a47e-a4bfa48502ce 372\n",
       "48561  fffff3a5-2a75-47d0-887f-03871e3f9a37 880\n",
       "\n",
       "[48562 rows x 1 columns]"
      ]
     },
     "execution_count": 13,
     "metadata": {},
     "output_type": "execute_result"
    }
   ],
   "source": [
    "labels_df"
   ]
  },
  {
   "cell_type": "code",
   "execution_count": 14,
   "metadata": {},
   "outputs": [],
   "source": [
    "labels_df['img_name'] = labels_df[0].apply(lambda x: x.split()[0])\n",
    "labels_df['class_id'] = labels_df[0].apply(lambda x: x.split()[1])"
   ]
  },
  {
   "cell_type": "code",
   "execution_count": 15,
   "metadata": {},
   "outputs": [],
   "source": [
    "labels_df.drop(0, axis=1, inplace=True)"
   ]
  },
  {
   "cell_type": "code",
   "execution_count": 16,
   "metadata": {},
   "outputs": [
    {
     "data": {
      "text/html": [
       "<div>\n",
       "<style scoped>\n",
       "    .dataframe tbody tr th:only-of-type {\n",
       "        vertical-align: middle;\n",
       "    }\n",
       "\n",
       "    .dataframe tbody tr th {\n",
       "        vertical-align: top;\n",
       "    }\n",
       "\n",
       "    .dataframe thead th {\n",
       "        text-align: right;\n",
       "    }\n",
       "</style>\n",
       "<table border=\"1\" class=\"dataframe\">\n",
       "  <thead>\n",
       "    <tr style=\"text-align: right;\">\n",
       "      <th></th>\n",
       "      <th>img_name</th>\n",
       "      <th>class_id</th>\n",
       "    </tr>\n",
       "  </thead>\n",
       "  <tbody>\n",
       "    <tr>\n",
       "      <th>0</th>\n",
       "      <td>0000139e-21dc-4d0c-bfe1-4cae3c85c829</td>\n",
       "      <td>817</td>\n",
       "    </tr>\n",
       "    <tr>\n",
       "      <th>1</th>\n",
       "      <td>0000d9fc-4e02-4c06-a0af-a55cfb16b12b</td>\n",
       "      <td>860</td>\n",
       "    </tr>\n",
       "    <tr>\n",
       "      <th>2</th>\n",
       "      <td>00019306-9d83-4334-b255-a447742edce3</td>\n",
       "      <td>900</td>\n",
       "    </tr>\n",
       "    <tr>\n",
       "      <th>3</th>\n",
       "      <td>0001afd4-99a1-4a67-b940-d419413e23b3</td>\n",
       "      <td>645</td>\n",
       "    </tr>\n",
       "    <tr>\n",
       "      <th>4</th>\n",
       "      <td>000332b8-997c-4540-9647-2f0a8495aecf</td>\n",
       "      <td>929</td>\n",
       "    </tr>\n",
       "    <tr>\n",
       "      <th>...</th>\n",
       "      <td>...</td>\n",
       "      <td>...</td>\n",
       "    </tr>\n",
       "    <tr>\n",
       "      <th>48557</th>\n",
       "      <td>fff86e8b-795f-400a-91e8-565bbb8c453a</td>\n",
       "      <td>891</td>\n",
       "    </tr>\n",
       "    <tr>\n",
       "      <th>48558</th>\n",
       "      <td>fff926d7-ccad-4788-839e-97af2dd99372</td>\n",
       "      <td>660</td>\n",
       "    </tr>\n",
       "    <tr>\n",
       "      <th>48559</th>\n",
       "      <td>fffa33ef-a765-408d-8d66-6efc7f504c71</td>\n",
       "      <td>492</td>\n",
       "    </tr>\n",
       "    <tr>\n",
       "      <th>48560</th>\n",
       "      <td>ffff0d87-bc84-4ef2-a47e-a4bfa48502ce</td>\n",
       "      <td>372</td>\n",
       "    </tr>\n",
       "    <tr>\n",
       "      <th>48561</th>\n",
       "      <td>fffff3a5-2a75-47d0-887f-03871e3f9a37</td>\n",
       "      <td>880</td>\n",
       "    </tr>\n",
       "  </tbody>\n",
       "</table>\n",
       "<p>48562 rows × 2 columns</p>\n",
       "</div>"
      ],
      "text/plain": [
       "                                   img_name class_id\n",
       "0      0000139e-21dc-4d0c-bfe1-4cae3c85c829      817\n",
       "1      0000d9fc-4e02-4c06-a0af-a55cfb16b12b      860\n",
       "2      00019306-9d83-4334-b255-a447742edce3      900\n",
       "3      0001afd4-99a1-4a67-b940-d419413e23b3      645\n",
       "4      000332b8-997c-4540-9647-2f0a8495aecf      929\n",
       "...                                     ...      ...\n",
       "48557  fff86e8b-795f-400a-91e8-565bbb8c453a      891\n",
       "48558  fff926d7-ccad-4788-839e-97af2dd99372      660\n",
       "48559  fffa33ef-a765-408d-8d66-6efc7f504c71      492\n",
       "48560  ffff0d87-bc84-4ef2-a47e-a4bfa48502ce      372\n",
       "48561  fffff3a5-2a75-47d0-887f-03871e3f9a37      880\n",
       "\n",
       "[48562 rows x 2 columns]"
      ]
     },
     "execution_count": 16,
     "metadata": {},
     "output_type": "execute_result"
    }
   ],
   "source": [
    "labels_df"
   ]
  },
  {
   "cell_type": "code",
   "execution_count": 17,
   "metadata": {},
   "outputs": [],
   "source": [
    "# 'class_id' should be int\n",
    "labels_df['class_id'] = labels_df['class_id'].apply(lambda x: int(x))"
   ]
  },
  {
   "cell_type": "code",
   "execution_count": 18,
   "metadata": {},
   "outputs": [
    {
     "name": "stdout",
     "output_type": "stream",
     "text": [
      "<class 'pandas.core.frame.DataFrame'>\n",
      "RangeIndex: 48562 entries, 0 to 48561\n",
      "Data columns (total 2 columns):\n",
      " #   Column    Non-Null Count  Dtype \n",
      "---  ------    --------------  ----- \n",
      " 0   img_name  48562 non-null  object\n",
      " 1   class_id  48562 non-null  int64 \n",
      "dtypes: int64(1), object(1)\n",
      "memory usage: 758.9+ KB\n"
     ]
    }
   ],
   "source": [
    "labels_df.info()"
   ]
  },
  {
   "cell_type": "markdown",
   "metadata": {},
   "source": [
    "#### Create dataframe with hierarchy.txt\n",
    "\n",
    "_Contains folder number and class number_  \n",
    "- Split into folder number and class number"
   ]
  },
  {
   "cell_type": "code",
   "execution_count": 19,
   "metadata": {},
   "outputs": [],
   "source": [
    "s3 = boto3.client('s3')\n",
    "hierarchy_txt = s3.get_object(Bucket=bucket, Key='hierarchy.txt')\n",
    "\n",
    "hierarchy = BytesIO(hierarchy_txt['Body'].read())"
   ]
  },
  {
   "cell_type": "code",
   "execution_count": 20,
   "metadata": {},
   "outputs": [],
   "source": [
    "hier_df = pd.read_csv(hierarchy, header=None, low_memory=False, na_values='n/a')"
   ]
  },
  {
   "cell_type": "code",
   "execution_count": 21,
   "metadata": {},
   "outputs": [
    {
     "data": {
      "text/html": [
       "<div>\n",
       "<style scoped>\n",
       "    .dataframe tbody tr th:only-of-type {\n",
       "        vertical-align: middle;\n",
       "    }\n",
       "\n",
       "    .dataframe tbody tr th {\n",
       "        vertical-align: top;\n",
       "    }\n",
       "\n",
       "    .dataframe thead th {\n",
       "        text-align: right;\n",
       "    }\n",
       "</style>\n",
       "<table border=\"1\" class=\"dataframe\">\n",
       "  <thead>\n",
       "    <tr style=\"text-align: right;\">\n",
       "      <th></th>\n",
       "      <th>0</th>\n",
       "    </tr>\n",
       "  </thead>\n",
       "  <tbody>\n",
       "    <tr>\n",
       "      <th>0</th>\n",
       "      <td>1 0</td>\n",
       "    </tr>\n",
       "    <tr>\n",
       "      <th>1</th>\n",
       "      <td>2 0</td>\n",
       "    </tr>\n",
       "    <tr>\n",
       "      <th>2</th>\n",
       "      <td>3 0</td>\n",
       "    </tr>\n",
       "    <tr>\n",
       "      <th>3</th>\n",
       "      <td>4 0</td>\n",
       "    </tr>\n",
       "    <tr>\n",
       "      <th>4</th>\n",
       "      <td>5 0</td>\n",
       "    </tr>\n",
       "  </tbody>\n",
       "</table>\n",
       "</div>"
      ],
      "text/plain": [
       "     0\n",
       "0  1 0\n",
       "1  2 0\n",
       "2  3 0\n",
       "3  4 0\n",
       "4  5 0"
      ]
     },
     "execution_count": 21,
     "metadata": {},
     "output_type": "execute_result"
    }
   ],
   "source": [
    "hier_df.head()"
   ]
  },
  {
   "cell_type": "code",
   "execution_count": 22,
   "metadata": {},
   "outputs": [],
   "source": [
    "hier_df['folder_num'] = hier_df[0].apply(lambda x: x.split()[0])\n",
    "hier_df['class_id'] = hier_df[0].apply(lambda x: x.split()[1])"
   ]
  },
  {
   "cell_type": "code",
   "execution_count": 23,
   "metadata": {},
   "outputs": [],
   "source": [
    "hier_df.drop(0, axis=1, inplace=True)"
   ]
  },
  {
   "cell_type": "code",
   "execution_count": 24,
   "metadata": {},
   "outputs": [
    {
     "data": {
      "text/html": [
       "<div>\n",
       "<style scoped>\n",
       "    .dataframe tbody tr th:only-of-type {\n",
       "        vertical-align: middle;\n",
       "    }\n",
       "\n",
       "    .dataframe tbody tr th {\n",
       "        vertical-align: top;\n",
       "    }\n",
       "\n",
       "    .dataframe thead th {\n",
       "        text-align: right;\n",
       "    }\n",
       "</style>\n",
       "<table border=\"1\" class=\"dataframe\">\n",
       "  <thead>\n",
       "    <tr style=\"text-align: right;\">\n",
       "      <th></th>\n",
       "      <th>folder_num</th>\n",
       "      <th>class_id</th>\n",
       "    </tr>\n",
       "  </thead>\n",
       "  <tbody>\n",
       "    <tr>\n",
       "      <th>0</th>\n",
       "      <td>1</td>\n",
       "      <td>0</td>\n",
       "    </tr>\n",
       "    <tr>\n",
       "      <th>1</th>\n",
       "      <td>2</td>\n",
       "      <td>0</td>\n",
       "    </tr>\n",
       "    <tr>\n",
       "      <th>2</th>\n",
       "      <td>3</td>\n",
       "      <td>0</td>\n",
       "    </tr>\n",
       "    <tr>\n",
       "      <th>3</th>\n",
       "      <td>4</td>\n",
       "      <td>0</td>\n",
       "    </tr>\n",
       "    <tr>\n",
       "      <th>4</th>\n",
       "      <td>5</td>\n",
       "      <td>0</td>\n",
       "    </tr>\n",
       "    <tr>\n",
       "      <th>...</th>\n",
       "      <td>...</td>\n",
       "      <td>...</td>\n",
       "    </tr>\n",
       "    <tr>\n",
       "      <th>1005</th>\n",
       "      <td>1006</td>\n",
       "      <td>591</td>\n",
       "    </tr>\n",
       "    <tr>\n",
       "      <th>1006</th>\n",
       "      <td>1007</td>\n",
       "      <td>259</td>\n",
       "    </tr>\n",
       "    <tr>\n",
       "      <th>1007</th>\n",
       "      <td>1008</td>\n",
       "      <td>704</td>\n",
       "    </tr>\n",
       "    <tr>\n",
       "      <th>1008</th>\n",
       "      <td>1009</td>\n",
       "      <td>691</td>\n",
       "    </tr>\n",
       "    <tr>\n",
       "      <th>1009</th>\n",
       "      <td>1010</td>\n",
       "      <td>744</td>\n",
       "    </tr>\n",
       "  </tbody>\n",
       "</table>\n",
       "<p>1010 rows × 2 columns</p>\n",
       "</div>"
      ],
      "text/plain": [
       "     folder_num class_id\n",
       "0             1        0\n",
       "1             2        0\n",
       "2             3        0\n",
       "3             4        0\n",
       "4             5        0\n",
       "...         ...      ...\n",
       "1005       1006      591\n",
       "1006       1007      259\n",
       "1007       1008      704\n",
       "1008       1009      691\n",
       "1009       1010      744\n",
       "\n",
       "[1010 rows x 2 columns]"
      ]
     },
     "execution_count": 24,
     "metadata": {},
     "output_type": "execute_result"
    }
   ],
   "source": [
    "hier_df"
   ]
  },
  {
   "cell_type": "markdown",
   "metadata": {},
   "source": [
    "#### Create dataframe with classes.txt\n",
    "\n",
    "_Contains class number and class labels_  \n",
    "- Split into class number and class labels_"
   ]
  },
  {
   "cell_type": "code",
   "execution_count": 25,
   "metadata": {},
   "outputs": [],
   "source": [
    "s3 = boto3.client('s3')\n",
    "classes_txt = s3.get_object(Bucket=bucket, Key='classes.txt')\n",
    "\n",
    "classes = BytesIO(classes_txt['Body'].read())"
   ]
  },
  {
   "cell_type": "code",
   "execution_count": 26,
   "metadata": {},
   "outputs": [],
   "source": [
    "classes_df = pd.read_csv(classes, sep='\\t', header=None, low_memory=False, na_values='n/a')"
   ]
  },
  {
   "cell_type": "code",
   "execution_count": 27,
   "metadata": {},
   "outputs": [
    {
     "data": {
      "text/html": [
       "<div>\n",
       "<style scoped>\n",
       "    .dataframe tbody tr th:only-of-type {\n",
       "        vertical-align: middle;\n",
       "    }\n",
       "\n",
       "    .dataframe tbody tr th {\n",
       "        vertical-align: top;\n",
       "    }\n",
       "\n",
       "    .dataframe thead th {\n",
       "        text-align: right;\n",
       "    }\n",
       "</style>\n",
       "<table border=\"1\" class=\"dataframe\">\n",
       "  <thead>\n",
       "    <tr style=\"text-align: right;\">\n",
       "      <th></th>\n",
       "      <th>0</th>\n",
       "    </tr>\n",
       "  </thead>\n",
       "  <tbody>\n",
       "    <tr>\n",
       "      <th>0</th>\n",
       "      <td>0 Birds</td>\n",
       "    </tr>\n",
       "    <tr>\n",
       "      <th>1</th>\n",
       "      <td>1 Ducks, Geese, and Swans</td>\n",
       "    </tr>\n",
       "    <tr>\n",
       "      <th>2</th>\n",
       "      <td>2 Grouse, Quail, and Allies</td>\n",
       "    </tr>\n",
       "    <tr>\n",
       "      <th>3</th>\n",
       "      <td>3 Loons</td>\n",
       "    </tr>\n",
       "    <tr>\n",
       "      <th>4</th>\n",
       "      <td>4 Grebes</td>\n",
       "    </tr>\n",
       "  </tbody>\n",
       "</table>\n",
       "</div>"
      ],
      "text/plain": [
       "                             0\n",
       "0                      0 Birds\n",
       "1    1 Ducks, Geese, and Swans\n",
       "2  2 Grouse, Quail, and Allies\n",
       "3                      3 Loons\n",
       "4                     4 Grebes"
      ]
     },
     "execution_count": 27,
     "metadata": {},
     "output_type": "execute_result"
    }
   ],
   "source": [
    "classes_df.head()"
   ]
  },
  {
   "cell_type": "code",
   "execution_count": 28,
   "metadata": {},
   "outputs": [],
   "source": [
    "classes_df['class_id'] = classes_df[0].apply(lambda x: x.split(' ', 1)[0])\n",
    "classes_df['txt_labels'] = classes_df[0].apply(lambda x: x.split(' ', 1)[1])"
   ]
  },
  {
   "cell_type": "code",
   "execution_count": 29,
   "metadata": {},
   "outputs": [],
   "source": [
    "classes_df.drop(0, axis=1, inplace=True)"
   ]
  },
  {
   "cell_type": "code",
   "execution_count": 30,
   "metadata": {},
   "outputs": [],
   "source": [
    "# 'class_id' should be int\n",
    "classes_df['class_id'] = classes_df['class_id'].apply(lambda x: int(x))"
   ]
  },
  {
   "cell_type": "markdown",
   "metadata": {},
   "source": [
    "## Merge all dataframes\n",
    "\n",
    "The folder numbers corresponds to the class ids\n",
    "merge the **img_data** dataframe (containing file path, image name, and class id) and the **classes_df** dataframe (class id and txt_labels)"
   ]
  },
  {
   "cell_type": "code",
   "execution_count": 31,
   "metadata": {},
   "outputs": [],
   "source": [
    "master_df = img_data.merge(classes_df, on='class_id')"
   ]
  },
  {
   "cell_type": "code",
   "execution_count": 32,
   "metadata": {},
   "outputs": [
    {
     "data": {
      "text/html": [
       "<div>\n",
       "<style scoped>\n",
       "    .dataframe tbody tr th:only-of-type {\n",
       "        vertical-align: middle;\n",
       "    }\n",
       "\n",
       "    .dataframe tbody tr th {\n",
       "        vertical-align: top;\n",
       "    }\n",
       "\n",
       "    .dataframe thead th {\n",
       "        text-align: right;\n",
       "    }\n",
       "</style>\n",
       "<table border=\"1\" class=\"dataframe\">\n",
       "  <thead>\n",
       "    <tr style=\"text-align: right;\">\n",
       "      <th></th>\n",
       "      <th>file_path</th>\n",
       "      <th>img_name</th>\n",
       "      <th>class_id</th>\n",
       "      <th>txt_labels</th>\n",
       "    </tr>\n",
       "  </thead>\n",
       "  <tbody>\n",
       "    <tr>\n",
       "      <th>0</th>\n",
       "      <td>0817/0000139e21dc4d0cbfe14cae3c85c829.jpg</td>\n",
       "      <td>0000139e-21dc-4d0c-bfe1-4cae3c85c829</td>\n",
       "      <td>817</td>\n",
       "      <td>Oak Titmouse</td>\n",
       "    </tr>\n",
       "    <tr>\n",
       "      <th>1</th>\n",
       "      <td>0817/01a472d8e93047a080aae4f958a2ef47.jpg</td>\n",
       "      <td>01a472d8-e930-47a0-80aa-e4f958a2ef47</td>\n",
       "      <td>817</td>\n",
       "      <td>Oak Titmouse</td>\n",
       "    </tr>\n",
       "    <tr>\n",
       "      <th>2</th>\n",
       "      <td>0817/036fba7c96374635853511ead2c1c728.jpg</td>\n",
       "      <td>036fba7c-9637-4635-8535-11ead2c1c728</td>\n",
       "      <td>817</td>\n",
       "      <td>Oak Titmouse</td>\n",
       "    </tr>\n",
       "    <tr>\n",
       "      <th>3</th>\n",
       "      <td>0817/07814887f59b44cb9b7f399999634fba.jpg</td>\n",
       "      <td>07814887-f59b-44cb-9b7f-399999634fba</td>\n",
       "      <td>817</td>\n",
       "      <td>Oak Titmouse</td>\n",
       "    </tr>\n",
       "    <tr>\n",
       "      <th>4</th>\n",
       "      <td>0817/0822865741de43128a6a6c8897387975.jpg</td>\n",
       "      <td>08228657-41de-4312-8a6a-6c8897387975</td>\n",
       "      <td>817</td>\n",
       "      <td>Oak Titmouse</td>\n",
       "    </tr>\n",
       "    <tr>\n",
       "      <th>...</th>\n",
       "      <td>...</td>\n",
       "      <td>...</td>\n",
       "      <td>...</td>\n",
       "      <td>...</td>\n",
       "    </tr>\n",
       "    <tr>\n",
       "      <th>48557</th>\n",
       "      <td>0627/e0e4460e044e4f90a2087ee711be9d37.jpg</td>\n",
       "      <td>e0e4460e-044e-4f90-a208-7ee711be9d37</td>\n",
       "      <td>627</td>\n",
       "      <td>Harlequin Duck (Female/juvenile)</td>\n",
       "    </tr>\n",
       "    <tr>\n",
       "      <th>48558</th>\n",
       "      <td>0627/e363eeb0b467477c8e35be4ff9186e5d.jpg</td>\n",
       "      <td>e363eeb0-b467-477c-8e35-be4ff9186e5d</td>\n",
       "      <td>627</td>\n",
       "      <td>Harlequin Duck (Female/juvenile)</td>\n",
       "    </tr>\n",
       "    <tr>\n",
       "      <th>48559</th>\n",
       "      <td>0627/e546eb5307d34eaf870eccc659d314a1.jpg</td>\n",
       "      <td>e546eb53-07d3-4eaf-870e-ccc659d314a1</td>\n",
       "      <td>627</td>\n",
       "      <td>Harlequin Duck (Female/juvenile)</td>\n",
       "    </tr>\n",
       "    <tr>\n",
       "      <th>48560</th>\n",
       "      <td>0627/e6d7531c575642b19e41669d140a0cd0.jpg</td>\n",
       "      <td>e6d7531c-5756-42b1-9e41-669d140a0cd0</td>\n",
       "      <td>627</td>\n",
       "      <td>Harlequin Duck (Female/juvenile)</td>\n",
       "    </tr>\n",
       "    <tr>\n",
       "      <th>48561</th>\n",
       "      <td>0627/f70e3f79460443aaa9d033ce06f188c2.jpg</td>\n",
       "      <td>f70e3f79-4604-43aa-a9d0-33ce06f188c2</td>\n",
       "      <td>627</td>\n",
       "      <td>Harlequin Duck (Female/juvenile)</td>\n",
       "    </tr>\n",
       "  </tbody>\n",
       "</table>\n",
       "<p>48562 rows × 4 columns</p>\n",
       "</div>"
      ],
      "text/plain": [
       "                                       file_path  \\\n",
       "0      0817/0000139e21dc4d0cbfe14cae3c85c829.jpg   \n",
       "1      0817/01a472d8e93047a080aae4f958a2ef47.jpg   \n",
       "2      0817/036fba7c96374635853511ead2c1c728.jpg   \n",
       "3      0817/07814887f59b44cb9b7f399999634fba.jpg   \n",
       "4      0817/0822865741de43128a6a6c8897387975.jpg   \n",
       "...                                          ...   \n",
       "48557  0627/e0e4460e044e4f90a2087ee711be9d37.jpg   \n",
       "48558  0627/e363eeb0b467477c8e35be4ff9186e5d.jpg   \n",
       "48559  0627/e546eb5307d34eaf870eccc659d314a1.jpg   \n",
       "48560  0627/e6d7531c575642b19e41669d140a0cd0.jpg   \n",
       "48561  0627/f70e3f79460443aaa9d033ce06f188c2.jpg   \n",
       "\n",
       "                                   img_name  class_id  \\\n",
       "0      0000139e-21dc-4d0c-bfe1-4cae3c85c829       817   \n",
       "1      01a472d8-e930-47a0-80aa-e4f958a2ef47       817   \n",
       "2      036fba7c-9637-4635-8535-11ead2c1c728       817   \n",
       "3      07814887-f59b-44cb-9b7f-399999634fba       817   \n",
       "4      08228657-41de-4312-8a6a-6c8897387975       817   \n",
       "...                                     ...       ...   \n",
       "48557  e0e4460e-044e-4f90-a208-7ee711be9d37       627   \n",
       "48558  e363eeb0-b467-477c-8e35-be4ff9186e5d       627   \n",
       "48559  e546eb53-07d3-4eaf-870e-ccc659d314a1       627   \n",
       "48560  e6d7531c-5756-42b1-9e41-669d140a0cd0       627   \n",
       "48561  f70e3f79-4604-43aa-a9d0-33ce06f188c2       627   \n",
       "\n",
       "                             txt_labels  \n",
       "0                          Oak Titmouse  \n",
       "1                          Oak Titmouse  \n",
       "2                          Oak Titmouse  \n",
       "3                          Oak Titmouse  \n",
       "4                          Oak Titmouse  \n",
       "...                                 ...  \n",
       "48557  Harlequin Duck (Female/juvenile)  \n",
       "48558  Harlequin Duck (Female/juvenile)  \n",
       "48559  Harlequin Duck (Female/juvenile)  \n",
       "48560  Harlequin Duck (Female/juvenile)  \n",
       "48561  Harlequin Duck (Female/juvenile)  \n",
       "\n",
       "[48562 rows x 4 columns]"
      ]
     },
     "execution_count": 32,
     "metadata": {},
     "output_type": "execute_result"
    }
   ],
   "source": [
    "master_df"
   ]
  },
  {
   "cell_type": "code",
   "execution_count": 33,
   "metadata": {},
   "outputs": [
    {
     "data": {
      "text/plain": [
       "(48562, 4)"
      ]
     },
     "execution_count": 33,
     "metadata": {},
     "output_type": "execute_result"
    }
   ],
   "source": [
    "master_df.shape"
   ]
  },
  {
   "cell_type": "code",
   "execution_count": 34,
   "metadata": {},
   "outputs": [
    {
     "name": "stdout",
     "output_type": "stream",
     "text": [
      "<class 'pandas.core.frame.DataFrame'>\n",
      "Int64Index: 48562 entries, 0 to 48561\n",
      "Data columns (total 4 columns):\n",
      " #   Column      Non-Null Count  Dtype \n",
      "---  ------      --------------  ----- \n",
      " 0   file_path   48562 non-null  object\n",
      " 1   img_name    48562 non-null  object\n",
      " 2   class_id    48562 non-null  int64 \n",
      " 3   txt_labels  48562 non-null  object\n",
      "dtypes: int64(1), object(3)\n",
      "memory usage: 1.9+ MB\n"
     ]
    }
   ],
   "source": [
    "master_df.info()"
   ]
  },
  {
   "cell_type": "code",
   "execution_count": 47,
   "metadata": {},
   "outputs": [
    {
     "data": {
      "text/plain": [
       "0        0817/0000139e21dc4d0cbfe14cae3c85c829.jpg\n",
       "1        0817/01a472d8e93047a080aae4f958a2ef47.jpg\n",
       "2        0817/036fba7c96374635853511ead2c1c728.jpg\n",
       "3        0817/07814887f59b44cb9b7f399999634fba.jpg\n",
       "4        0817/0822865741de43128a6a6c8897387975.jpg\n",
       "                           ...                    \n",
       "48557    0627/e0e4460e044e4f90a2087ee711be9d37.jpg\n",
       "48558    0627/e363eeb0b467477c8e35be4ff9186e5d.jpg\n",
       "48559    0627/e546eb5307d34eaf870eccc659d314a1.jpg\n",
       "48560    0627/e6d7531c575642b19e41669d140a0cd0.jpg\n",
       "48561    0627/f70e3f79460443aaa9d033ce06f188c2.jpg\n",
       "Name: file_path, Length: 48562, dtype: object"
      ]
     },
     "execution_count": 47,
     "metadata": {},
     "output_type": "execute_result"
    }
   ],
   "source": [
    "master_df['file_path']"
   ]
  },
  {
   "cell_type": "code",
   "execution_count": 35,
   "metadata": {},
   "outputs": [
    {
     "data": {
      "text/plain": [
       "array(['Chestnut-sided Warbler (Breeding male)',\n",
       "       'Chestnut-sided Warbler (Female/immature male)', 'Canada Warbler',\n",
       "       'Blackpoll Warbler (Breeding male)',\n",
       "       'Yellow-rumped Warbler (Winter/juvenile Myrtle)',\n",
       "       'Black-throated Gray Warbler',\n",
       "       'Yellow-rumped Warbler (Breeding Myrtle)',\n",
       "       'Black-throated Green Warbler',\n",
       "       'Blackpoll Warbler (Female/juvenile)', 'Black-and-white Warbler',\n",
       "       'Hermit Warbler', 'Yellow-throated Warbler', \"Wilson's Warbler\",\n",
       "       'Nashville Warbler', \"MacGillivray's Warbler\", 'Tennessee Warbler',\n",
       "       'Palm Warbler', 'Magnolia Warbler (Female/immature male)',\n",
       "       'Yellow Warbler', 'Hooded Warbler', 'Cape May Warbler',\n",
       "       'Prairie Warbler',\n",
       "       'Black-throated Blue Warbler (Female/Immature male)',\n",
       "       'Bay-breasted Warbler (Breeding male)', 'Prothonotary Warbler',\n",
       "       'Blue-winged Warbler', 'Black-throated Blue Warbler (Adult Male)',\n",
       "       'Pine Warbler', 'Blackburnian Warbler',\n",
       "       'Bay-breasted Warbler (Female, Nonbreeding male, Immature)',\n",
       "       \"Yellow-rumped Warbler (Breeding Audubon's)\", 'Mourning Warbler',\n",
       "       'Orange-crowned Warbler', 'Magnolia Warbler (Breeding male)',\n",
       "       \"Yellow-rumped Warbler (Winter/juvenile Audubon's)\",\n",
       "       \"Townsend's Warbler\"], dtype=object)"
      ]
     },
     "execution_count": 35,
     "metadata": {},
     "output_type": "execute_result"
    }
   ],
   "source": [
    "master_df[master_df['txt_labels'].str.contains('Warbler')]['txt_labels'].unique()"
   ]
  },
  {
   "cell_type": "markdown",
   "metadata": {},
   "source": [
    "## Import images"
   ]
  },
  {
   "cell_type": "code",
   "execution_count": 49,
   "metadata": {},
   "outputs": [
    {
     "data": {
      "text/plain": [
       "48562"
      ]
     },
     "execution_count": 49,
     "metadata": {},
     "output_type": "execute_result"
    }
   ],
   "source": [
    "len(master_df['file_path'])"
   ]
  },
  {
   "cell_type": "code",
   "execution_count": 129,
   "metadata": {},
   "outputs": [],
   "source": [
    "# grab and resize image from and to s3 bucket\n",
    "\n",
    "img_dir = 'images' # folder containing all other folders of images\n",
    "paths = master_df['file_path']\n",
    "\n",
    "def resize_images_array(img_dir, file_paths):\n",
    "    # arrays of image pixels\n",
    "    img_arrays = []\n",
    "    \n",
    "    # loop through the dataframe that is linked to its label so that all images are in the same order\n",
    "    for path in tqdm(file_paths):\n",
    "        s3 = boto3.client('s3')\n",
    "        try:\n",
    "            obj = s3.get_object(Bucket=bucket, Key=f'{img_dir}/{path}')\n",
    "            img_bytes = BytesIO(obj['Body'].read())\n",
    "            open_img = Image.open(img_bytes)\n",
    "            arr = np.array(open_img.resize((200,200))) # resize to 200,200. possible to play around with better or worse resolution\n",
    "            img_arrays.append(arr)\n",
    "        except:\n",
    "#             print(path) # get file_path of ones that fail to load\n",
    "            continue\n",
    "\n",
    "    return np.array(img_arrays)"
   ]
  },
  {
   "cell_type": "markdown",
   "metadata": {},
   "source": [
    "##### 9713 images code"
   ]
  },
  {
   "cell_type": "code",
   "execution_count": 44,
   "metadata": {
    "jupyter": {
     "source_hidden": true
    }
   },
   "outputs": [],
   "source": [
    "# X = resize_images_array(img_dir, master_df['file_path'][::5]) # grabs 9713 images, ~19:30mins"
   ]
  },
  {
   "cell_type": "markdown",
   "metadata": {},
   "source": [
    "##### 486 images code"
   ]
  },
  {
   "cell_type": "code",
   "execution_count": 55,
   "metadata": {
    "collapsed": true,
    "jupyter": {
     "outputs_hidden": true,
     "source_hidden": true
    }
   },
   "outputs": [
    {
     "name": "stderr",
     "output_type": "stream",
     "text": [
      "100%|██████████| 486/486 [00:51<00:00,  9.40it/s]\n"
     ]
    }
   ],
   "source": [
    "# sm_samp = resize_images_array(img_dir, master_df['file_path'][::100])"
   ]
  },
  {
   "cell_type": "code",
   "execution_count": 161,
   "metadata": {},
   "outputs": [
    {
     "name": "stderr",
     "output_type": "stream",
     "text": [
      "100%|██████████| 101/101 [00:09<00:00, 10.29it/s]\n"
     ]
    }
   ],
   "source": [
    "xs_samp = resize_images_array(img_dir, master_df['file_path'][::485])"
   ]
  },
  {
   "cell_type": "markdown",
   "metadata": {},
   "source": [
    "##### small sample len and shape"
   ]
  },
  {
   "cell_type": "code",
   "execution_count": 105,
   "metadata": {
    "collapsed": true,
    "jupyter": {
     "outputs_hidden": true,
     "source_hidden": true
    }
   },
   "outputs": [
    {
     "name": "stdout",
     "output_type": "stream",
     "text": [
      "length of small sample:  486\n"
     ]
    },
    {
     "data": {
      "text/plain": [
       "(486, 200, 200, 3)"
      ]
     },
     "execution_count": 105,
     "metadata": {},
     "output_type": "execute_result"
    }
   ],
   "source": [
    "# print('length of small sample: ', len(sm_samp))\n",
    "# sm_samp.shape"
   ]
  },
  {
   "cell_type": "code",
   "execution_count": 162,
   "metadata": {},
   "outputs": [
    {
     "name": "stdout",
     "output_type": "stream",
     "text": [
      "length of x-small sample:  101\n"
     ]
    },
    {
     "data": {
      "text/plain": [
       "(101, 200, 200, 3)"
      ]
     },
     "execution_count": 162,
     "metadata": {},
     "output_type": "execute_result"
    }
   ],
   "source": [
    "print('length of x-small sample: ', len(xs_samp))\n",
    "xs_samp.shape"
   ]
  },
  {
   "cell_type": "code",
   "execution_count": 169,
   "metadata": {},
   "outputs": [
    {
     "data": {
      "text/plain": [
       "<matplotlib.image.AxesImage at 0x7ff5f295ef50>"
      ]
     },
     "execution_count": 169,
     "metadata": {},
     "output_type": "execute_result"
    },
    {
     "data": {
      "image/png": "[encoded data removed]",
      "text/plain": [
       "<Figure size 432x288 with 1 Axes>"
      ]
     },
     "metadata": {},
     "output_type": "display_data"
    }
   ],
   "source": [
    "plt.imshow(xs_samp[1])"
   ]
  },
  {
   "cell_type": "markdown",
   "metadata": {},
   "source": [
    "##### small sample normalize"
   ]
  },
  {
   "cell_type": "code",
   "execution_count": 84,
   "metadata": {
    "collapsed": true,
    "jupyter": {
     "outputs_hidden": true,
     "source_hidden": true
    }
   },
   "outputs": [
    {
     "data": {
      "text/plain": [
       "array([0.18823529, 0.18039216, 0.19215686])"
      ]
     },
     "execution_count": 84,
     "metadata": {},
     "output_type": "execute_result"
    }
   ],
   "source": [
    "# # normalize the RBG values\n",
    "# sm_samp = sm_samp/255.0"
   ]
  },
  {
   "cell_type": "code",
   "execution_count": 164,
   "metadata": {},
   "outputs": [],
   "source": [
    "# normalize the RBG values\n",
    "xs_samp = xs_samp/255.0"
   ]
  },
  {
   "cell_type": "code",
   "execution_count": 168,
   "metadata": {},
   "outputs": [
    {
     "data": {
      "text/plain": [
       "<matplotlib.image.AxesImage at 0x7ff5af16a3d0>"
      ]
     },
     "execution_count": 168,
     "metadata": {},
     "output_type": "execute_result"
    },
    {
     "data": {
      "image/png": "[encoded data removed]",
      "text/plain": [
       "<Figure size 432x288 with 1 Axes>"
      ]
     },
     "metadata": {},
     "output_type": "display_data"
    }
   ],
   "source": [
    "plt.imshow(xs_samp[1])"
   ]
  },
  {
   "cell_type": "code",
   "execution_count": 187,
   "metadata": {},
   "outputs": [],
   "source": [
    "# grab numeric label\n",
    "# VALUES MUST BE NP.ARRAYS\n",
    "\n",
    "y = np.array(master_df['class_id'][::485].values)\n",
    "y_txt_label = np.array(master_df['txt_labels'][::485].values)"
   ]
  },
  {
   "cell_type": "code",
   "execution_count": 188,
   "metadata": {},
   "outputs": [
    {
     "name": "stdout",
     "output_type": "stream",
     "text": [
      "[817 929 698 555 985]\n"
     ]
    },
    {
     "data": {
      "text/plain": [
       "array(['Oak Titmouse', 'Eastern Phoebe', 'Ruddy Duck (Female/juvenile)',\n",
       "       'Red-naped Sapsucker', 'Painted Bunting (Female/juvenile)'],\n",
       "      dtype=object)"
      ]
     },
     "execution_count": 188,
     "metadata": {},
     "output_type": "execute_result"
    }
   ],
   "source": [
    "print(y[:5])\n",
    "y_txt_label[:5]"
   ]
  },
  {
   "cell_type": "markdown",
   "metadata": {},
   "source": [
    "## Random Forest Classifier"
   ]
  },
  {
   "cell_type": "code",
   "execution_count": 104,
   "metadata": {
    "jupyter": {
     "source_hidden": true
    }
   },
   "outputs": [],
   "source": [
    "# from sklearn.ensemble import RandomForestClassifier\n",
    "# from sklearn.metrics import accuracy_score\n",
    "# from sklearn.model_selection import train_test_split\n",
    "\n",
    "# sample = [x.flatten() for x in xs_samp]\n",
    "\n",
    "# len(sample[0])\n",
    "\n",
    "# xs_samp.shape\n",
    "\n",
    "# # clf = RandomForestClassifier(n_estimators=100, n_jobs=-1)\n",
    "\n",
    "# # X_train, X_test, y_train, y_test = train_test_split(sample, y, test_size=0.2, random_state=42)\n",
    "\n",
    "# # print(\"Train model\")\n",
    "# # clf.fit(X_train, y_train)\n",
    "\n",
    "# # print(\"Predictions\")\n",
    "# # predicted = clf.predict(X_test)\n",
    "\n",
    "# # there are too many labels\n",
    "\n",
    "# # print(\"Accuracy: \", accuracy_score(y_test, predicted))"
   ]
  },
  {
   "cell_type": "markdown",
   "metadata": {},
   "source": [
    "## Neural Network Model 1"
   ]
  },
  {
   "cell_type": "code",
   "execution_count": 146,
   "metadata": {},
   "outputs": [],
   "source": [
    "# keras and tensorflow downloads\n",
    "import tensorflow as tf\n",
    "from tensorflow.keras.models import Sequential\n",
    "from tensorflow.keras.layers import Dense, Dropout, Activation, Flatten\n",
    "from tensorflow.keras.layers import Conv2D, MaxPool2D # CNN\n",
    "from tensorflow.keras.callbacks import TensorBoard # graphical visual of loss and accuracy over the epochs of train and test set"
   ]
  },
  {
   "cell_type": "code",
   "execution_count": 147,
   "metadata": {},
   "outputs": [
    {
     "data": {
      "text/plain": [
       "'2.2.0'"
      ]
     },
     "execution_count": 147,
     "metadata": {},
     "output_type": "execute_result"
    }
   ],
   "source": [
    "tf.__version__"
   ]
  },
  {
   "cell_type": "code",
   "execution_count": 157,
   "metadata": {},
   "outputs": [
    {
     "data": {
      "text/plain": [
       "(101, 200, 200, 3)"
      ]
     },
     "execution_count": 157,
     "metadata": {},
     "output_type": "execute_result"
    }
   ],
   "source": [
    "xs_samp.shape"
   ]
  },
  {
   "cell_type": "code",
   "execution_count": 186,
   "metadata": {},
   "outputs": [
    {
     "name": "stdout",
     "output_type": "stream",
     "text": [
      "519 Semipalmated Sandpiper\n"
     ]
    },
    {
     "data": {
      "image/png": "[encoded data removed]",
      "text/plain": [
       "<Figure size 432x288 with 1 Axes>"
      ]
     },
     "metadata": {},
     "output_type": "display_data"
    }
   ],
   "source": [
    "# check to make sure the bird images and labels are aligned\n",
    "# this is indeed a semipalmated sandpiper\n",
    "\n",
    "print(y[57], y_txt_label[57])\n",
    "plt.imshow(xs_samp[57]);"
   ]
  },
  {
   "cell_type": "markdown",
   "metadata": {},
   "source": [
    "1. X, and y defined\n",
    "- make sure they are arrays!!\n",
    "\n",
    "2. normalize X values by dividing by 255\n",
    "3. check images\n",
    "4. train test split\n",
    "5. make model Sequential()\n",
    "6. add input layer\n",
    "7. add multiple hidden layers\n",
    "8. ADD FLATTEN LAYER, MUST BE BEFORE OUTPUT\n",
    "9. add dense layer, which are fully connected layers\n",
    "10. add output dense layer, will be the amount of labels there are\n",
    "11. model.compile(loss = 'sparse_categorical_crossentropy', optimizer= 'adam', metrics=['accuracy'])\n",
    "12. model.fit(xtrain, ytrain, epochs) also has validation_split (out of sample) do about 0.1, batchsize: how many at a time, more data requires bigger (20-200 range)\n",
    "13. model.evaluate(xtest,ytest) returns val loss and val accuracy  \n",
    "\n",
    "14. model.save('name') saves the model\n",
    "- to load: new_model = tf.keras.models.load_model('name')"
   ]
  },
  {
   "cell_type": "code",
   "execution_count": null,
   "metadata": {},
   "outputs": [],
   "source": []
  }
 ],
 "metadata": {
  "kernelspec": {
   "display_name": "Python 3",
   "language": "python",
   "name": "python3"
  },
  "language_info": {
   "codemirror_mode": {
    "name": "ipython",
    "version": 3
   },
   "file_extension": ".py",
   "mimetype": "text/x-python",
   "name": "python",
   "nbconvert_exporter": "python",
   "pygments_lexer": "ipython3",
   "version": "3.7.6"
  }
 },
 "nbformat": 4,
 "nbformat_minor": 4
}

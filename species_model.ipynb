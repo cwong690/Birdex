{
 "cells": [
  {
   "cell_type": "code",
   "execution_count": 3,
   "metadata": {},
   "outputs": [],
   "source": [
    "import pandas as pd\n",
    "import numpy as np\n",
    "# import seaborn as sns\n",
    "import matplotlib.pyplot as plt\n",
    "import os\n",
    "import cv2\n",
    "\n",
    "import random\n",
    "import math\n",
    "import networkx as nx\n",
    "\n",
    "import boto3\n",
    "from PIL import Image\n",
    "\n",
    "import requests\n",
    "import json\n",
    "\n",
    "from tqdm import tqdm\n",
    "getattr(tqdm, '_instances', {}).clear()  # ⬅ add this line\n",
    "\n",
    "# %matplotlib inline\n",
    "\n",
    "plt.style.use('dark_background')\n",
    "\n",
    "pd.set_option('display.max_columns', 50)"
   ]
  },
  {
   "cell_type": "code",
   "execution_count": 4,
   "metadata": {},
   "outputs": [],
   "source": [
    "import pickle # save images\n",
    "import time # get time stamp of models trained\n",
    "\n",
    "import matplotlib.image as mpimg # show images\n",
    "from io import BytesIO # reading bytes"
   ]
  },
  {
   "cell_type": "code",
   "execution_count": null,
   "metadata": {},
   "outputs": [],
   "source": [
    "# orders_df = pd.read_csv('data/orders_df.csv', index_col=0)\n",
    "\n",
    "# orders_df.head(2)\n",
    "\n",
    "# # sns.set()\n",
    "# # sns.palplot(sns.dark_palette(\"purple\"))"
   ]
  },
  {
   "cell_type": "markdown",
   "metadata": {},
   "source": [
    "## Full Data Number of Species"
   ]
  },
  {
   "cell_type": "code",
   "execution_count": null,
   "metadata": {},
   "outputs": [],
   "source": [
    "# fig, ax = plt.subplots(figsize=(10,10))\n",
    "\n",
    "# ax = sns.countplot(orders_df['species_group'], order=orders_df.groupby('species_group').count()['family'].sort_values(ascending=False).index);\n",
    "# plt.xticks(rotation=90);\n",
    "# ax.set_title('Number of Species in Family Group')\n",
    "# ax.set_xlabel('Family Groups')\n",
    "# ax.set_ylabel('Number of Species')\n",
    "# ax.grid(False)\n",
    "# plt.tight_layout()"
   ]
  },
  {
   "cell_type": "code",
   "execution_count": null,
   "metadata": {},
   "outputs": [],
   "source": [
    "# final_orders.to_csv('data/final_orders.csv')"
   ]
  },
  {
   "cell_type": "markdown",
   "metadata": {},
   "source": [
    "## Read in final csv"
   ]
  },
  {
   "cell_type": "code",
   "execution_count": null,
   "metadata": {},
   "outputs": [],
   "source": [
    "final_orders = pd.read_csv('data/final_orders.csv', index_col=0)"
   ]
  },
  {
   "cell_type": "code",
   "execution_count": null,
   "metadata": {},
   "outputs": [],
   "source": [
    "final_orders.info()"
   ]
  },
  {
   "cell_type": "code",
   "execution_count": null,
   "metadata": {},
   "outputs": [],
   "source": [
    "np.unique(final_orders['species_group'])"
   ]
  },
  {
   "cell_type": "code",
   "execution_count": null,
   "metadata": {},
   "outputs": [],
   "source": [
    "np.unique(final_orders['family'])"
   ]
  },
  {
   "cell_type": "code",
   "execution_count": null,
   "metadata": {},
   "outputs": [],
   "source": [
    "group_sort = final_orders.groupby('species_group').count()['family'].sort_values(ascending=False)"
   ]
  },
  {
   "cell_type": "code",
   "execution_count": null,
   "metadata": {},
   "outputs": [],
   "source": [
    "fig, ax = plt.subplots(figsize=(10,10))\n",
    "\n",
    "ax = sns.countplot(final_orders['species_group'], order=group_sort.index);\n",
    "plt.xticks(rotation=90, fontsize=15);\n",
    "ax.set_title('Number of Species in Family Group', fontsize=30)\n",
    "ax.set_xlabel('Family Groups', fontsize=20)\n",
    "ax.set_ylabel('Number of Species', fontsize=20)\n",
    "ax.grid(False)\n",
    "\n",
    "plt.tight_layout()\n",
    "\n",
    "plt.savefig('graphs/num_fam_group.png')"
   ]
  },
  {
   "cell_type": "code",
   "execution_count": null,
   "metadata": {},
   "outputs": [],
   "source": [
    "group_top5 = final_orders.groupby('species_group').count()['family'].sort_values(ascending=False)[:5]"
   ]
  },
  {
   "cell_type": "code",
   "execution_count": null,
   "metadata": {},
   "outputs": [],
   "source": [
    "fig, ax = plt.subplots(figsize=(10,10))\n",
    "\n",
    "ax = sns.barplot(x=group_top5.index.values, y=group_top5.values);\n",
    "plt.xticks(rotation=90, fontsize=20);\n",
    "ax.set_title('Number of Species in Family Group', fontsize=30)\n",
    "ax.set_xlabel('Family Groups', fontsize=20)\n",
    "ax.set_ylabel('Number of Species', fontsize=20)\n",
    "ax.grid(False)\n",
    "plt.tight_layout()\n",
    "\n",
    "plt.savefig('graphs/top5_fam_group.png')"
   ]
  },
  {
   "cell_type": "code",
   "execution_count": null,
   "metadata": {},
   "outputs": [],
   "source": [
    "order_sort = final_orders.groupby('order').count()['species_group'].sort_values(ascending=False)"
   ]
  },
  {
   "cell_type": "code",
   "execution_count": null,
   "metadata": {},
   "outputs": [],
   "source": [
    "fig, ax = plt.subplots(figsize=(15,10))\n",
    "\n",
    "ax = sns.countplot(final_orders['order'], order=order_sort.index);\n",
    "plt.xticks(rotation=90, fontsize=20);\n",
    "ax.set_title('Number of Species per Order', fontsize=30)\n",
    "ax.set_xlabel('Name of Order Group', fontsize=20)\n",
    "ax.set_ylabel('Number of Species', fontsize=20)\n",
    "ax.grid(False)\n",
    "plt.tight_layout()\n",
    "\n",
    "plt.savefig('graphs/num_species_order.png')"
   ]
  },
  {
   "cell_type": "markdown",
   "metadata": {},
   "source": [
    "## Plot Num Species in Orders"
   ]
  },
  {
   "cell_type": "code",
   "execution_count": null,
   "metadata": {},
   "outputs": [],
   "source": [
    "final_orders[final_orders['species_group']=='Cardinals, Grosbeaks, and Allies']['file_path'][1055:1057]"
   ]
  },
  {
   "cell_type": "code",
   "execution_count": null,
   "metadata": {},
   "outputs": [],
   "source": [
    "bucket = 'cwbirdsimages'\n",
    "img_dir = 'images'"
   ]
  },
  {
   "cell_type": "code",
   "execution_count": null,
   "metadata": {},
   "outputs": [],
   "source": [
    "s3 = boto3.client('s3')\n",
    "\n",
    "# grab duck image\n",
    "obj = s3.get_object(Bucket=bucket, Key=f'images/0337/47b4bab08e524f0f9dff439c5386b70b.jpg')\n",
    "img_bytes = BytesIO(obj['Body'].read())\n",
    "waterfowl1 = Image.open(img_bytes)\n",
    "\n",
    "# grab hawk image\n",
    "obj = s3.get_object(Bucket=bucket, Key=f'images/0860/9593362c9fe54d1297356000a11f6aa5.jpg')\n",
    "img_bytes = BytesIO(obj['Body'].read())\n",
    "woodwarbler1 = Image.open(img_bytes)\n",
    "\n",
    "# grab finch image\n",
    "obj = s3.get_object(Bucket=bucket, Key=f'images/0988/914616d508cc46dd8b155c997c41b37f.jpg')\n",
    "img_bytes = BytesIO(obj['Body'].read())\n",
    "blackbird1 = Image.open(img_bytes)\n",
    "\n",
    "# grab finch image\n",
    "obj = s3.get_object(Bucket=bucket, Key=f'images/0899/77cf5ac8c6b243509384657586229871.jpg')\n",
    "img_bytes = BytesIO(obj['Body'].read())\n",
    "newworldsparrow1 = Image.open(img_bytes)\n",
    "\n",
    "# grab finch image\n",
    "obj = s3.get_object(Bucket=bucket, Key=f'images/0771/ed7362f8ad1a4939a2c89bc7ed81a283.jpg')\n",
    "img_bytes = BytesIO(obj['Body'].read())\n",
    "cardinals1 = Image.open(img_bytes)"
   ]
  },
  {
   "cell_type": "code",
   "execution_count": null,
   "metadata": {},
   "outputs": [],
   "source": [
    "# fig, axes = plt.subplots(3, 4, figsize=(20,10));\n",
    "\n",
    "# fig.suptitle('RGB Channels of Images', y=1.1, fontsize=20)\n",
    "\n",
    "# axes[0][0].imshow(waterfowl1);\n",
    "# axes[0][0].set_title('original')\n",
    "# for ax, channel, name in zip(axes[0][1:], waterfowl1.split(), ['red channel', 'green channel', 'blue channel']):\n",
    "#     ax.imshow(channel, cmap=f'{name.split()[0].capitalize()}s_r');\n",
    "#     ax.set_title(name)\n",
    "    \n",
    "# axes[1][0].imshow(woodwarbler1);\n",
    "# axes[1][0].set_title('original')\n",
    "# for ax, channel, name in zip(axes[1][1:], woodwarbler1.split(), ['red channel', 'green channel', 'blue channel']):\n",
    "#     ax.imshow(channel, cmap=f'{name.split()[0].capitalize()}s_r');\n",
    "#     ax.set_title(name)\n",
    "    \n",
    "# axes[2][0].imshow(blackbird1);\n",
    "# axes[2][0].set_title('original')\n",
    "# for ax, channel, name in zip(axes[2][1:], blackbird1.split(), ['red channel', 'green channel', 'blue channel']):\n",
    "#     ax.imshow(channel, cmap=f'{name.split()[0].capitalize()}s_r');\n",
    "#     ax.set_title(name)\n",
    "\n",
    "# plt.tight_layout()"
   ]
  },
  {
   "cell_type": "code",
   "execution_count": null,
   "metadata": {},
   "outputs": [],
   "source": [
    "plt.title('New World Sparrow',fontsize=35)\n",
    "plt.imshow(newworldsparrow1);\n",
    "plt.savefig('graphs/newworldsparrow.png')"
   ]
  },
  {
   "cell_type": "code",
   "execution_count": null,
   "metadata": {},
   "outputs": [],
   "source": []
  },
  {
   "cell_type": "code",
   "execution_count": null,
   "metadata": {},
   "outputs": [],
   "source": [
    "order_fam = final_orders[final_orders['order']=='Passeriformes'].groupby('species_group').count()['order'].sort_values(ascending=False)"
   ]
  },
  {
   "cell_type": "code",
   "execution_count": null,
   "metadata": {},
   "outputs": [],
   "source": [
    "order_fam.index.values"
   ]
  },
  {
   "cell_type": "code",
   "execution_count": null,
   "metadata": {},
   "outputs": [],
   "source": [
    "plt.style.use('dark_background')\n",
    "\n",
    "fig, ax = plt.subplots(figsize=(10,10))\n",
    "\n",
    "ax = sns.barplot(x=order_fam.index.values, y=order_fam.values);\n",
    "plt.xticks(rotation=90, fontsize=15);\n",
    "ax.set_title('Number of Species in Passeriformes Order', fontsize=20)\n",
    "ax.set_xlabel('Species Family Groups in Passeriformes', fontsize=15)\n",
    "ax.set_ylabel('Number of Species', fontsize=15)\n",
    "ax.grid(False)\n",
    "plt.tight_layout()\n",
    "\n",
    "plt.savefig('graphs/num_passer_order.png')"
   ]
  },
  {
   "cell_type": "code",
   "execution_count": null,
   "metadata": {},
   "outputs": [],
   "source": [
    "img_dir = 'images' # folder containing all other folders of images\n",
    "paths = orders_df['file_path']\n",
    "bucket = 'cwbirdsimages'\n",
    "\n",
    "def resize_images_array(img_dir, file_paths):\n",
    "    # arrays of image pixels\n",
    "    img_arrays = []\n",
    "    \n",
    "    paths = []\n",
    "    \n",
    "    # loop through the dataframe that is linked to its label so that all images are in the same order\n",
    "    for path in tqdm(file_paths):\n",
    "        s3 = boto3.client('s3')\n",
    "        try:\n",
    "            obj = s3.get_object(Bucket=bucket, Key=f'{img_dir}/{path}')\n",
    "            img_bytes = BytesIO(obj['Body'].read())\n",
    "            open_img = Image.open(img_bytes)\n",
    "            arr = np.array(open_img.resize((299,299))) # resize to 200,200. possible to play around with better or worse resolution\n",
    "            img_arrays.append(arr)\n",
    "            paths.append(path)\n",
    "        except:\n",
    "#             print(path) # get file_path of ones that fail to load\n",
    "            continue\n",
    "    return np.array(img_arrays)"
   ]
  },
  {
   "cell_type": "code",
   "execution_count": null,
   "metadata": {},
   "outputs": [],
   "source": [
    "# X = resize_images_array(img_dir, orders_df['file_path'][:21129])"
   ]
  },
  {
   "cell_type": "code",
   "execution_count": null,
   "metadata": {},
   "outputs": [],
   "source": [
    "print('length of sample: ', len(X))\n",
    "X.shape"
   ]
  },
  {
   "cell_type": "code",
   "execution_count": null,
   "metadata": {},
   "outputs": [],
   "source": [
    "# normalize the RBG values\n",
    "X = X/255.0"
   ]
  },
  {
   "cell_type": "code",
   "execution_count": null,
   "metadata": {},
   "outputs": [],
   "source": [
    "# grab numeric label\n",
    "# VALUES MUST BE NP.ARRAYS\n",
    "label = np.array(orders_df['species_group'][:21129].values)\n",
    "\n",
    "# labels are alphabetical\n",
    "y = (label.reshape(-1,1) == np.unique(orders_df['species_group'][:21129])).astype(float)"
   ]
  },
  {
   "cell_type": "code",
   "execution_count": null,
   "metadata": {},
   "outputs": [],
   "source": [
    "y[0]"
   ]
  },
  {
   "cell_type": "code",
   "execution_count": null,
   "metadata": {},
   "outputs": [],
   "source": [
    "print('label shape: ', y.shape)\n",
    "print('features shape: ', X.shape)"
   ]
  },
  {
   "cell_type": "markdown",
   "metadata": {},
   "source": [
    "## Transfer Learning"
   ]
  },
  {
   "cell_type": "code",
   "execution_count": null,
   "metadata": {},
   "outputs": [],
   "source": [
    "import tensorflow as tf\n",
    "from tensorflow.keras.models import Sequential\n",
    "from tensorflow.keras.layers import Dense, Dropout, Activation, Flatten, GlobalAveragePooling2D\n",
    "from tensorflow.keras.layers import Conv2D, MaxPool2D, BatchNormalization # CNN\n",
    "from tensorflow.keras.models import Model\n",
    "\n",
    "from tensorflow.keras.applications.xception import preprocess_input\n",
    "from tensorflow.keras.applications import Xception\n",
    "from tensorflow.keras.preprocessing.image import img_to_array, load_img\n",
    "from tensorflow.keras.models import Model\n",
    "from tensorflow.keras.optimizers import SGD, RMSprop\n",
    "\n",
    "from tensorflow.keras.callbacks import TensorBoard # graphical visual of loss and accuracy over the epochs of train and test set\n",
    "from sklearn.metrics import accuracy_score\n",
    "from sklearn.model_selection import train_test_split\n",
    "\n",
    "import datetime\n",
    "\n",
    "tf.__version__"
   ]
  },
  {
   "cell_type": "code",
   "execution_count": null,
   "metadata": {},
   "outputs": [],
   "source": [
    "X_train, X_test, y_train, y_test = train_test_split(X, y, test_size=0.2)"
   ]
  },
  {
   "cell_type": "code",
   "execution_count": null,
   "metadata": {},
   "outputs": [],
   "source": [
    "print('X_train shape: ', X_train.shape)\n",
    "print('X_test shape: ', X_test.shape)\n",
    "print('y_train shape: ', y_train.shape)\n",
    "print('y_test shape: ', y_test.shape)"
   ]
  },
  {
   "cell_type": "code",
   "execution_count": null,
   "metadata": {},
   "outputs": [],
   "source": [
    "log_xcept = os.path.join(\"logs/orders_xception\", datetime.datetime.now().strftime(\"%Y%m%d-%H%M%S\"))\n",
    "tensorboard_callback = TensorBoard(log_dir=log_xcept, histogram_freq=1)"
   ]
  },
  {
   "cell_type": "code",
   "execution_count": null,
   "metadata": {},
   "outputs": [],
   "source": [
    "input_size = (299,299,3)\n",
    "\n",
    "n_categories = y.shape[1]"
   ]
  },
  {
   "cell_type": "code",
   "execution_count": null,
   "metadata": {},
   "outputs": [],
   "source": [
    "def create_transfer_model(input_size, n_categories, weights = 'imagenet'):\n",
    "        # note that the \"top\" is not included in the weights below\n",
    "        base_model = Xception(weights=weights,\n",
    "                          include_top=False,\n",
    "                          input_shape=input_size)\n",
    "        \n",
    "        model = base_model.output\n",
    "        model = GlobalAveragePooling2D()(model)\n",
    "        predictions = Dense(n_categories, activation='softmax')(model)\n",
    "        model = Model(inputs=base_model.input, outputs=predictions)\n",
    "        \n",
    "        return model\n",
    "\n",
    "def change_trainable_layers(model, trainable_index):\n",
    "    for layer in model.layers[:trainable_index]:\n",
    "        layer.trainable = False\n",
    "    for layer in model.layers[trainable_index:]:\n",
    "        layer.trainable = True"
   ]
  },
  {
   "cell_type": "code",
   "execution_count": null,
   "metadata": {},
   "outputs": [],
   "source": [
    "transfer_model = create_transfer_model((299,299,3),n_categories)"
   ]
  },
  {
   "cell_type": "code",
   "execution_count": null,
   "metadata": {},
   "outputs": [],
   "source": [
    "_ = change_trainable_layers(transfer_model, 132)"
   ]
  },
  {
   "cell_type": "code",
   "execution_count": null,
   "metadata": {},
   "outputs": [],
   "source": [
    "# print_model_properties(transfer_model, 130)"
   ]
  },
  {
   "cell_type": "code",
   "execution_count": null,
   "metadata": {},
   "outputs": [],
   "source": [
    "transfer_model.compile(optimizer=RMSprop(lr=0.001), loss='categorical_crossentropy', metrics=['accuracy'])"
   ]
  },
  {
   "cell_type": "code",
   "execution_count": null,
   "metadata": {},
   "outputs": [],
   "source": [
    "xception_final = transfer_model.fit(X, y, batch_size=1000, epochs=5, validation_split=0.1, callbacks=[tensorboard_callback])"
   ]
  },
  {
   "cell_type": "code",
   "execution_count": null,
   "metadata": {},
   "outputs": [],
   "source": [
    "# %reload_ext tensorboard\n",
    "# %tensorboard --logdir logs/"
   ]
  },
  {
   "cell_type": "code",
   "execution_count": null,
   "metadata": {},
   "outputs": [],
   "source": [
    "# transfer_model.save('saved_models/orders_xception.h5')\n",
    "species_xception = tf.keras.models.load_model('saved_models/species3_xception.h5')"
   ]
  },
  {
   "cell_type": "code",
   "execution_count": null,
   "metadata": {},
   "outputs": [],
   "source": [
    "species_xception.summary()"
   ]
  },
  {
   "cell_type": "code",
   "execution_count": null,
   "metadata": {},
   "outputs": [],
   "source": [
    "# pickle.dump(species_xception, open('saved_models/species_xception.p', 'wb'))"
   ]
  },
  {
   "cell_type": "code",
   "execution_count": null,
   "metadata": {},
   "outputs": [],
   "source": [
    "file = 'static/images/meet_duck.png'\n",
    "a = Image.open(file)\n",
    "c = np.array(a.resize((299,299)))"
   ]
  },
  {
   "cell_type": "code",
   "execution_count": null,
   "metadata": {},
   "outputs": [],
   "source": [
    "ans = species_xception.predict(c.reshape(1,299,299,3))"
   ]
  },
  {
   "cell_type": "code",
   "execution_count": null,
   "metadata": {},
   "outputs": [],
   "source": [
    "ans"
   ]
  },
  {
   "cell_type": "code",
   "execution_count": null,
   "metadata": {},
   "outputs": [],
   "source": [
    "np.round(ans * 100, 1)[0].argsort()[-1:-4:-1]"
   ]
  },
  {
   "cell_type": "code",
   "execution_count": 5,
   "metadata": {},
   "outputs": [],
   "source": [
    "conf_mat = pd.read_csv('data/confusion_matrix.csv', header=None)"
   ]
  },
  {
   "cell_type": "code",
   "execution_count": 6,
   "metadata": {},
   "outputs": [],
   "source": [
    "confusion_mat = []\n",
    "\n",
    "for i in conf_mat[0]:\n",
    "    row = np.round(np.array(i.split(' ')).astype(float)).astype(int)\n",
    "    confusion_mat.append(row)"
   ]
  },
  {
   "cell_type": "code",
   "execution_count": 7,
   "metadata": {
    "collapsed": true,
    "jupyter": {
     "outputs_hidden": true
    }
   },
   "outputs": [
    {
     "data": {
      "text/plain": [
       "[array([31,  0,  0,  0,  0,  0,  0,  0,  0,  0,  1,  0,  0,  0,  0,  0,  0,\n",
       "         0,  0,  0,  0,  0,  0,  0,  0,  0,  0,  0,  0,  0,  0,  0,  0,  0,\n",
       "         0, 11,  0,  0,  0]),\n",
       " array([  0, 219,  21,   3,   0,   4,   0,   7,   0,   0,   0,   0,   2,\n",
       "          2,   0,   0,   0,   0,   0,   8,   0,   2,   0,   0,   0,   0,\n",
       "          0,   3,   0,   1,   1,  18,   0,   5,   1,   2,  22,   0,   1]),\n",
       " array([  0,   6, 188,   0,   0,   0,   0,   3,   0,   0,   0,   0,   0,\n",
       "          0,   0,   0,   0,   0,   2,  11,   0,   0,   0,   0,   1,   0,\n",
       "          0,   0,   0,   3,   0,  13,   1,   0,   1,   0,  17,   0,   2]),\n",
       " array([ 0,  6,  0, 17,  0,  2,  0,  0,  0,  0,  0,  0,  0,  1,  0,  0,  0,\n",
       "         0,  0,  2,  0,  0,  0,  0,  0,  0,  0,  1,  0,  3,  3,  3,  1,  0,\n",
       "         0,  0,  1,  1,  0]),\n",
       " array([ 0,  2,  0,  0, 78,  0,  0,  0,  0,  0,  0,  2,  0,  0,  0,  0,  0,\n",
       "         0,  0,  0,  0,  0,  0,  0,  0,  0,  0,  0,  0,  0,  0,  0,  0,  2,\n",
       "         0,  5,  0,  0,  0]),\n",
       " array([ 0,  1,  0,  0,  0, 30,  0,  0,  0,  0,  0,  3,  0,  0,  0,  0,  0,\n",
       "         0,  0,  2,  1,  0,  0,  0,  0,  0,  2,  0,  0,  0,  0,  2,  0,  1,\n",
       "         0,  0,  3,  1,  0]),\n",
       " array([ 1,  1,  0,  0,  0,  1, 45,  1,  0,  0,  4,  0,  0,  0,  0,  0,  0,\n",
       "         0,  0,  1,  0,  5,  0,  0,  0,  1,  0,  0,  2,  0,  0,  0,  0, 24,\n",
       "         0,  2,  0,  1,  0]),\n",
       " array([  0,   6,   9,   0,   0,   0,   0, 136,   0,   0,   0,   0,   0,\n",
       "          0,   0,   0,   0,   0,   0,  15,   0,   0,   0,   0,   0,   0,\n",
       "          1,   0,   0,   0,   0,   4,   0,   0,   1,   0,  11,   0,   0]),\n",
       " array([ 1,  0,  0,  0,  0,  0,  0,  0, 37,  0,  0,  0,  0,  0,  0,  0,  0,\n",
       "         0,  0,  0,  0,  0,  0,  0,  0,  0,  0,  0,  0,  0,  0,  0,  0,  0,\n",
       "         0,  4,  0,  0,  0]),\n",
       " array([ 0,  1,  0,  0,  1,  0,  0,  0,  0, 81,  0,  1,  0,  0,  0,  0,  0,\n",
       "         0,  0,  1,  0,  1,  0,  0,  0,  0,  0,  0,  0,  0,  0,  0,  0,  2,\n",
       "         0,  0,  0,  0,  0]),\n",
       " array([  3,   0,   0,   0,   2,   0,   0,   0,   0,   0, 192,   2,   0,\n",
       "          0,   0,   0,   0,   2,   0,   0,   0,   0,   0,   0,   0,   2,\n",
       "          0,   0,   1,   0,   0,   0,   0,   5,   0,   3,   0,   0,   0]),\n",
       " array([  0,   0,   0,   0,   1,   1,   0,   0,   0,   0,   2, 140,   0,\n",
       "          0,   0,   0,   0,   0,   0,   0,   0,   3,   0,   0,   0,   0,\n",
       "          1,   0,   0,   0,   0,   0,   0,   2,   0,   1,   1,   1,   0]),\n",
       " array([  0,   0,   0,   0,   0,   0,   0,   0,   0,   0,   0,   0, 168,\n",
       "          0,   0,   0,   0,   0,   0,   1,   0,   1,   0,   0,   0,   0,\n",
       "          1,   1,   0,   0,   0,   0,   0,   0,   0,   0,   1,   0,   0]),\n",
       " array([ 0, 15,  0,  1,  0,  0,  0,  0,  0,  0,  0,  0,  0, 38,  0,  0,  0,\n",
       "         0,  0,  1,  0,  0,  0,  0,  0,  0,  0,  1,  1,  0,  0,  1,  0,  3,\n",
       "         0,  1,  0,  0,  0]),\n",
       " array([ 0,  0,  0,  0,  1,  0,  0,  0,  0,  0,  0,  0,  0,  0, 15,  0,  0,\n",
       "         0,  0,  0,  0,  0,  0,  0,  0,  0,  0,  0,  0,  0,  0,  0,  0,  1,\n",
       "         0,  1,  1,  0,  0]),\n",
       " array([ 0,  0,  0,  0,  0,  0,  0,  1,  0,  0,  0,  0,  0,  0,  0,  3,  0,\n",
       "         0,  0,  1,  0,  0,  0,  0,  0,  0,  0,  0,  0,  0,  2,  2,  4,  0,\n",
       "         0,  0, 13,  0,  1]),\n",
       " array([ 0,  0,  0,  0,  0,  0,  0,  0,  0,  0,  0,  0,  0,  0,  0,  0, 15,\n",
       "         0,  0,  3,  0,  0,  0,  0,  0,  0,  0,  0,  0,  1,  0,  0,  0,  1,\n",
       "         0,  0,  1,  0,  0]),\n",
       " array([ 0,  0,  0,  0,  0,  0,  0,  0,  0,  0,  1,  0,  0,  0,  0,  0,  0,\n",
       "        16,  0,  0,  0,  0,  0,  0,  0,  0,  0,  0,  0,  0,  0,  0,  0,  0,\n",
       "         0,  3,  0,  0,  0]),\n",
       " array([ 0, 10,  0,  0,  0,  0,  2,  0,  0,  0,  2,  0,  2,  0,  0,  0,  0,\n",
       "         0, 21,  0,  0,  0,  0,  0,  0,  1,  3,  0,  0,  0,  1,  4,  0,  1,\n",
       "         0,  1,  3,  0,  0]),\n",
       " array([  0,   6,   4,   0,   0,   1,   0,   8,   0,   0,   0,   0,   0,\n",
       "          0,   0,   0,   1,   0,   0, 253,   0,   0,   0,   0,   0,   0,\n",
       "          1,   1,   0,   6,   1,   6,   0,   1,   0,   1,  21,   0,   3]),\n",
       " array([ 0,  0,  0,  0,  0,  0,  0,  0,  0,  0,  0,  0,  0,  0,  0,  0,  0,\n",
       "         0,  0,  0, 11,  0,  0,  0,  0,  0,  0,  0,  0,  0,  2,  1,  0,  0,\n",
       "         0,  0,  2,  0,  2]),\n",
       " array([  0,   0,   0,   0,   0,   0,   1,   1,   0,   0,   0,   0,   0,\n",
       "          0,   0,   0,   0,   0,   0,   0,   0, 102,   0,   0,   0,   0,\n",
       "          0,   0,   1,   0,   0,   1,   0,   5,   0,   0,   2,   1,   0]),\n",
       " array([ 0,  0,  0,  0,  0,  0,  0,  0,  0,  0,  0,  0,  0,  0,  0,  0,  0,\n",
       "         0,  0,  0,  0,  0, 13,  0,  0,  0,  0,  0,  0,  0,  0,  0,  0,  0,\n",
       "         0,  0,  0,  0,  0]),\n",
       " array([0, 1, 3, 0, 0, 0, 0, 3, 0, 0, 0, 0, 0, 0, 0, 0, 0, 0, 0, 1, 0, 0,\n",
       "        0, 7, 0, 0, 0, 0, 0, 0, 0, 1, 0, 0, 0, 0, 1, 0, 0]),\n",
       " array([ 0,  2,  1,  0,  0,  0,  0,  0,  0,  0,  1,  0,  1,  0,  0,  0,  0,\n",
       "         0,  0,  0,  0,  0,  0,  0, 30,  0,  1,  0,  0,  0,  0,  4,  0,  2,\n",
       "         0,  0,  0,  1,  0]),\n",
       " array([  0,   2,   0,   0,   0,   0,   0,   0,   0,   0,   6,   0,   0,\n",
       "          0,   0,   0,   0,   1,   0,   2,   0,   2,   0,   0,   0, 210,\n",
       "          0,   0,   0,   0,   0,   1,   0,   0,   0,   1,   0,   0,   0]),\n",
       " array([ 0,  0,  0,  0,  0,  0,  0,  0,  0,  0,  0,  0,  0,  0,  0,  0,  0,\n",
       "         0,  0,  0,  0,  0,  0,  0,  0,  0, 15,  0,  0,  0,  1,  0,  1,  0,\n",
       "         0,  0,  0,  0,  0]),\n",
       " array([ 0,  9,  0,  1,  0,  1,  0,  0,  0,  0,  0,  0,  1,  1,  0,  0,  0,\n",
       "         0,  0,  1,  0,  0,  0,  0,  0,  0,  0, 42,  0,  0,  0,  1,  0,  3,\n",
       "         0,  0,  1,  1,  0]),\n",
       " array([0, 0, 0, 1, 0, 0, 0, 0, 0, 0, 0, 0, 0, 0, 0, 0, 0, 0, 2, 0, 0, 0,\n",
       "        0, 0, 0, 0, 0, 0, 6, 0, 0, 0, 0, 0, 0, 0, 0, 0, 0]),\n",
       " array([ 0,  7,  0,  0,  0,  0,  0,  0,  0,  0,  0,  0,  0,  0,  0,  1,  0,\n",
       "         0,  0, 10,  0,  2,  0,  0,  0,  0,  2,  0,  0, 63,  1,  6,  1,  0,\n",
       "         0,  1, 20,  1,  1]),\n",
       " array([ 0,  0,  0,  0,  0,  0,  0,  1,  0,  0,  0,  0,  0,  1,  0,  0,  0,\n",
       "         0,  0,  1,  1,  0,  0,  0,  0,  0,  1,  0,  0,  0, 37,  2,  0,  0,\n",
       "         0,  0,  2,  0,  1]),\n",
       " array([ 0, 10,  8,  0,  0,  2,  0,  3,  0,  0,  0,  0,  1,  0,  0,  0,  0,\n",
       "         0,  1,  1,  0,  0,  0,  0,  0,  0,  0,  0,  0,  2,  2, 78,  3,  0,\n",
       "         0,  0, 13,  0,  0]),\n",
       " array([ 0,  2,  2,  0,  0,  0,  0,  0,  0,  0,  0,  0,  0,  0,  0,  4,  0,\n",
       "         0,  0,  2,  0,  0,  0,  0,  0,  0,  0,  0,  0,  2,  2, 10, 24,  0,\n",
       "         0,  0, 29,  0,  0]),\n",
       " array([  0,   2,   0,   0,   1,   2,   4,   0,   0,   3,   2,   1,   0,\n",
       "          0,   0,   0,   0,   0,   0,   4,   0,   1,   0,   0,   0,   0,\n",
       "          0,   0,   3,   0,   0,   0,   0, 167,   0,   0,   0,   0,   0]),\n",
       " array([0, 1, 0, 0, 0, 0, 0, 0, 0, 0, 0, 0, 0, 0, 0, 0, 0, 0, 0, 6, 0, 0,\n",
       "        0, 0, 0, 1, 0, 0, 0, 1, 0, 2, 0, 0, 4, 0, 2, 0, 0]),\n",
       " array([  9,   0,   0,   0,   5,   0,   0,   0,  10,   1,   3,   0,   0,\n",
       "          0,   0,   0,   0,   0,   1,   0,   0,   0,   0,   0,   0,   1,\n",
       "          0,   0,   0,   0,   0,   0,   0,   0,   0, 369,   0,   1,   1]),\n",
       " array([  0,  15,  14,   1,   0,   2,   0,   5,   0,   0,   0,   2,   0,\n",
       "          0,   0,   0,   2,   0,   2,  16,   1,   0,   0,   2,   1,   2,\n",
       "          0,   0,   0,   3,  10,  10,   2,   0,   2,   1, 283,   1,   3]),\n",
       " array([ 0,  1,  0,  0,  0,  0,  0,  0,  0,  0,  0,  0,  0,  0,  0,  0,  0,\n",
       "         0,  0,  1,  0,  3,  0,  0,  0,  0,  0,  0,  0,  0,  0,  0,  0,  1,\n",
       "         0,  0,  2, 57,  0]),\n",
       " array([ 0,  1,  1,  0,  0,  1,  0,  0,  0,  0,  0,  0,  0,  0,  0,  0,  0,\n",
       "         0,  0,  2,  0,  0,  0,  0,  0,  1,  0,  0,  0,  0,  1,  4,  0,  0,\n",
       "         0,  0,  4,  0, 33])]"
      ]
     },
     "execution_count": 7,
     "metadata": {},
     "output_type": "execute_result"
    }
   ],
   "source": [
    "confusion_mat"
   ]
  },
  {
   "cell_type": "code",
   "execution_count": null,
   "metadata": {},
   "outputs": [],
   "source": [
    "# !pip install mlxtend"
   ]
  },
  {
   "cell_type": "code",
   "execution_count": 8,
   "metadata": {},
   "outputs": [],
   "source": [
    "from mlxtend.plotting import plot_confusion_matrix"
   ]
  },
  {
   "cell_type": "code",
   "execution_count": 25,
   "metadata": {},
   "outputs": [],
   "source": [
    "plot_confusion_matrix(conf_mat=np.array(confusion_mat), figsize=(20,20), show_absolute=False, show_normed=True, class_names=np.arange(1,40), cmap='afmhot_r', colorbar=True)[0]\n",
    "plt.savefig('graphs/confusion_mat.png')"
   ]
  },
  {
   "cell_type": "markdown",
   "metadata": {},
   "source": [
    "Accent, Accent_r, Blues, Blues_r, BrBG, BrBG_r, BuGn, BuGn_r, BuPu, BuPu_r, CMRmap, CMRmap_r, Dark2, Dark2_r, GnBu, GnBu_r, Greens, Greens_r, Greys, Greys_r, OrRd, OrRd_r, Oranges, Oranges_r, PRGn, PRGn_r, Paired, Paired_r, Pastel1, Pastel1_r, Pastel2, Pastel2_r, PiYG, PiYG_r, PuBu, PuBuGn, PuBuGn_r, PuBu_r, PuOr, PuOr_r, PuRd, PuRd_r, Purples, Purples_r, RdBu, RdBu_r, RdGy, RdGy_r, RdPu, RdPu_r, RdYlBu, RdYlBu_r, RdYlGn, RdYlGn_r, Reds, Reds_r, Set1, Set1_r, Set2, Set2_r, Set3, Set3_r, Spectral, Spectral_r, Wistia, Wistia_r, YlGn, YlGnBu, YlGnBu_r, YlGn_r, YlOrBr, YlOrBr_r, YlOrRd, YlOrRd_r, afmhot, afmhot_r, autumn, autumn_r, binary, binary_r, bone, bone_r, brg, brg_r, bwr, bwr_r, cividis, cividis_r, cool, cool_r, coolwarm, coolwarm_r, copper, copper_r, cubehelix, cubehelix_r, flag, flag_r, gist_earth, gist_earth_r, gist_gray, gist_gray_r, gist_heat, gist_heat_r, gist_ncar, gist_ncar_r, gist_rainbow, gist_rainbow_r, gist_stern, gist_stern_r, gist_yarg, gist_yarg_r, gnuplot, gnuplot2, gnuplot2_r, gnuplot_r, gray, gray_r, hot, hot_r, hsv, hsv_r, icefire, icefire_r, inferno, inferno_r, jet, jet_r, magma, magma_r, mako, mako_r, nipy_spectral, nipy_spectral_r, ocean, ocean_r, pink, pink_r, plasma, plasma_r, prism, prism_r, rainbow, rainbow_r, rocket, rocket_r, seismic, seismic_r, spring, spring_r, summer, summer_r, tab10, tab10_r, tab20, tab20_r, tab20b, tab20b_r, tab20c, tab20c_r, terrain, terrain_r, twilight, twilight_r, twilight_shifted, twilight_shifted_r, viridis, viridis_r, vlag, vlag_r, winter, winter_r"
   ]
  },
  {
   "cell_type": "code",
   "execution_count": null,
   "metadata": {},
   "outputs": [],
   "source": [
    "acc_loss = pd.read_csv('data/accuracy.csv', index_col=0)"
   ]
  },
  {
   "cell_type": "code",
   "execution_count": null,
   "metadata": {},
   "outputs": [],
   "source": [
    "acc_loss"
   ]
  },
  {
   "cell_type": "code",
   "execution_count": null,
   "metadata": {},
   "outputs": [],
   "source": [
    "# fig, axes = plt.subplots(1,2,figsize=(12,6))\n",
    "\n",
    "# epoch_range = range(1, 11)\n",
    "\n",
    "# axes[0].plot(epoch_range, acc_loss['accuracy'])\n",
    "# axes[0].plot(epoch_range, acc_loss['val_accuracy'])\n",
    "# axes[0].set_ylabel('Accuracy')\n",
    "# axes[0].set_xlabel('Number of Epochs')\n",
    "# axes[0].legend(['Train', 'Val'], loc='upper left')\n",
    "# axes[0].set_title('Model2 Accuracy')\n",
    "\n",
    "# axes[1].plot(epoch_range, acc_loss['loss'])\n",
    "# axes[1].plot(epoch_range, acc_loss['val_loss'])\n",
    "# axes[1].set_ylabel('Accuracy')\n",
    "# axes[1].set_xlabel('Number of Epochs')\n",
    "# axes[1].legend(['Train', 'Val'], loc='upper left')\n",
    "# axes[1].set_title('Model2 Loss')\n",
    "\n",
    "# plt.savefig('graphs/model2_acc_loss.png')"
   ]
  },
  {
   "cell_type": "code",
   "execution_count": null,
   "metadata": {},
   "outputs": [],
   "source": [
    "acc = acc_loss['accuracy']\n",
    "val_acc = acc_loss['val_accuracy']\n",
    "\n",
    "loss = acc_loss['loss']\n",
    "val_loss = acc_loss['val_loss']"
   ]
  },
  {
   "cell_type": "code",
   "execution_count": null,
   "metadata": {},
   "outputs": [],
   "source": [
    "fig, ax = plt.subplots(figsize=(8, 8))\n",
    "ax.plot(acc, label='Training Accuracy')\n",
    "ax.plot(val_acc, label='Validation Accuracy')\n",
    "ax.legend(loc='lower right')\n",
    "ax.set_ylabel('Accuracy', fontsize=15)\n",
    "ax.set_xlabel('Number of Epoch', fontsize=15)\n",
    "ax.set_ylim([min(plt.ylim()),1])\n",
    "ax.grid(False)\n",
    "plt.title('Training and Validation Accuracy', fontsize=20)\n",
    "plt.savefig('graphs/xception_acc.png')"
   ]
  },
  {
   "cell_type": "code",
   "execution_count": null,
   "metadata": {},
   "outputs": [],
   "source": [
    "fig, ax = plt.subplots(figsize=(8, 8))\n",
    "ax.plot(loss, label='Training Loss')\n",
    "ax.plot(val_loss, label='Validation Loss')\n",
    "ax.legend(loc='lower left')\n",
    "ax.set_ylabel('Cross Entropy', fontsize=15)\n",
    "ax.set_xlabel('Number of Epoch', fontsize=15)\n",
    "ax.set_ylim([min(plt.ylim()),1])\n",
    "ax.grid(False)\n",
    "plt.title('Training and Validation Loss', fontsize=20)\n",
    "plt.savefig('graphs/xception_loss.png')"
   ]
  },
  {
   "cell_type": "code",
   "execution_count": null,
   "metadata": {},
   "outputs": [],
   "source": [
    "makeup=np.array([[0.3,0.5,0.1,0.7,0.3,0.8],[0.9,0.5,0.1,0.7,0.3,0.8]])"
   ]
  },
  {
   "cell_type": "code",
   "execution_count": null,
   "metadata": {},
   "outputs": [],
   "source": [
    "for i in makeup:\n",
    "    i[i.argmax()] = 1\n",
    "    i[i < 1] = 0\n",
    "    print(i)"
   ]
  },
  {
   "cell_type": "code",
   "execution_count": null,
   "metadata": {},
   "outputs": [],
   "source": [
    "makeup[makeup.argmax(axis=1)] = 1"
   ]
  },
  {
   "cell_type": "code",
   "execution_count": null,
   "metadata": {},
   "outputs": [],
   "source": [
    "makeup[makeup < 1] = 0"
   ]
  },
  {
   "cell_type": "code",
   "execution_count": null,
   "metadata": {},
   "outputs": [],
   "source": [
    "makeup"
   ]
  },
  {
   "cell_type": "code",
   "execution_count": null,
   "metadata": {},
   "outputs": [],
   "source": [
    "np.loadtxt('data/sk_report.npy', encoding='ISO-8859–1', error_bad_lines=False)"
   ]
  },
  {
   "cell_type": "code",
   "execution_count": null,
   "metadata": {},
   "outputs": [],
   "source": [
    "testing = pd.read_csv('data/sk_report.npy', sep='\\n', encoding='ISO-8859–1')"
   ]
  },
  {
   "cell_type": "code",
   "execution_count": null,
   "metadata": {},
   "outputs": [],
   "source": [
    "testing"
   ]
  },
  {
   "cell_type": "code",
   "execution_count": null,
   "metadata": {},
   "outputs": [],
   "source": []
  }
 ],
 "metadata": {
  "kernelspec": {
   "display_name": "Python 3",
   "language": "python",
   "name": "python3"
  },
  "language_info": {
   "codemirror_mode": {
    "name": "ipython",
    "version": 3
   },
   "file_extension": ".py",
   "mimetype": "text/x-python",
   "name": "python",
   "nbconvert_exporter": "python",
   "pygments_lexer": "ipython3",
   "version": "3.6.10"
  }
 },
 "nbformat": 4,
 "nbformat_minor": 4
}

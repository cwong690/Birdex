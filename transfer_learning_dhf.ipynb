{
 "cells": [
  {
   "cell_type": "code",
   "execution_count": 1,
   "metadata": {},
   "outputs": [],
   "source": [
    "import pandas as pd\n",
    "import numpy as np\n",
    "import seaborn as sns\n",
    "import matplotlib.pyplot as plt\n",
    "import os\n",
    "import cv2\n",
    "\n",
    "import random\n",
    "import math\n",
    "import networkx as nx\n",
    "\n",
    "import boto3\n",
    "from PIL import Image\n",
    "\n",
    "import requests\n",
    "import json\n",
    "\n",
    "from tqdm import tqdm\n",
    "getattr(tqdm, '_instances', {}).clear()  # ⬅ add this line\n",
    "\n",
    "%matplotlib inline\n",
    "\n",
    "plt.style.use('ggplot')\n",
    "\n",
    "pd.set_option('display.max_columns', 50)"
   ]
  },
  {
   "cell_type": "code",
   "execution_count": 2,
   "metadata": {},
   "outputs": [],
   "source": [
    "import matplotlib.image as mpimg # show images\n",
    "from io import BytesIO # reading bytes\n",
    "\n",
    "import pickle # save images\n",
    "import time # get time stamp of models trained\n",
    "import shap"
   ]
  },
  {
   "cell_type": "markdown",
   "metadata": {},
   "source": [
    "## Import Images"
   ]
  },
  {
   "cell_type": "code",
   "execution_count": 3,
   "metadata": {},
   "outputs": [],
   "source": [
    "# grab and resize image from and to s3 bucket\n",
    "\n",
    "bucket = 'cwbirdsimages'\n",
    "img_dir = 'new_images' # folder containing all other folders of images\n",
    "folders = ['ducks', 'finches', 'hawks']\n",
    "\n",
    "def resize_images_array(img_dir, folders, bucket):\n",
    "    # arrays of image pixels\n",
    "    img_arrays = []\n",
    "    labels = []\n",
    "    \n",
    "    # loop through the dataframe that is linked to its label so that all images are in the same order\n",
    "    for folder in tqdm(folders):\n",
    "        s3 = boto3.client('s3')\n",
    "        enter_folder = s3.list_objects_v2(Bucket=bucket, Prefix=f'{img_dir}/{folder}')\n",
    "        for i in enter_folder['Contents'][2:]:\n",
    "            try:\n",
    "                filepath = i['Key']\n",
    "                obj = s3.get_object(Bucket=bucket, Key=f'{filepath}')\n",
    "                img_bytes = BytesIO(obj['Body'].read())\n",
    "                open_img = Image.open(img_bytes)\n",
    "                arr = np.array(open_img.resize((299,299))) # resize to 200,200. possible to play around with better or worse resolution\n",
    "                img_arrays.append(arr)\n",
    "                labels.append(folder)\n",
    "            except:\n",
    "                print(filepath) # get file_path of ones that fail to load\n",
    "                continue\n",
    "\n",
    "    return np.array(img_arrays), np.array(labels)"
   ]
  },
  {
   "cell_type": "code",
   "execution_count": 4,
   "metadata": {},
   "outputs": [
    {
     "name": "stderr",
     "output_type": "stream",
     "text": [
      "100%|██████████| 3/3 [04:34<00:00, 91.55s/it]\n"
     ]
    }
   ],
   "source": [
    "X, y = resize_images_array(img_dir, folders, bucket)"
   ]
  },
  {
   "cell_type": "code",
   "execution_count": 49,
   "metadata": {},
   "outputs": [
    {
     "name": "stdout",
     "output_type": "stream",
     "text": [
      "X shape:  (2986, 299, 299, 3)\n",
      "y_shape:  (2986,)\n"
     ]
    }
   ],
   "source": [
    "print('X shape: ', X.shape)\n",
    "print('y_shape: ', y.shape)"
   ]
  },
  {
   "cell_type": "code",
   "execution_count": 35,
   "metadata": {},
   "outputs": [],
   "source": [
    "# img_df = pd.DataFrame(y)\n",
    "\n",
    "# img_df['img_array'] = [i.flatten() for i in X]\n",
    "\n",
    "# img_df.info()\n",
    "\n",
    "# img_df.to_csv('data/img_df.csv')\n",
    "\n",
    "# imgs = pd.read_csv('data/img_df.csv', index_col=0)\n",
    "\n",
    "# X = [np.array(i).reshape(299,299,3) for i in imgs['img_array']]"
   ]
  },
  {
   "cell_type": "markdown",
   "metadata": {},
   "source": [
    "### Look at single image"
   ]
  },
  {
   "cell_type": "code",
   "execution_count": null,
   "metadata": {},
   "outputs": [],
   "source": [
    "s3 = boto3.client('s3')\n",
    "\n",
    "# grab duck image\n",
    "obj = s3.get_object(Bucket=bucket, Key=f'new_images/ducks/0296/069519c379574fb285d7bb920443ea89.jpg')\n",
    "img_bytes = BytesIO(obj['Body'].read())\n",
    "duck1 = Image.open(img_bytes)\n",
    "\n",
    "# grab hawk image\n",
    "obj = s3.get_object(Bucket=bucket, Key=f'new_images/hawks/0495/03126240f9974b259e1c0bc142af7edc.jpg')\n",
    "img_bytes = BytesIO(obj['Body'].read())\n",
    "hawk1 = Image.open(img_bytes)\n",
    "\n",
    "# grab finch image\n",
    "obj = s3.get_object(Bucket=bucket, Key=f'new_images/finches/1001/0edd165e46054dd388dcb9dae4e58f87.jpg')\n",
    "img_bytes = BytesIO(obj['Body'].read())\n",
    "finch1 = Image.open(img_bytes)"
   ]
  },
  {
   "cell_type": "code",
   "execution_count": null,
   "metadata": {},
   "outputs": [],
   "source": [
    "# By stacking these together into a 3-tensor, we can represent a color image as a single object.\n",
    "\n",
    "fig, axes = plt.subplots(3, 4, figsize=(20,10));\n",
    "\n",
    "fig.suptitle('RBG Channels of Images', y=1.1, fontsize=20)\n",
    "\n",
    "axes[0][0].imshow(duck1);\n",
    "axes[0][0].set_title('original')\n",
    "for ax, channel, name in zip(axes[0][1:], duck1.split(), ['red channel', 'green channel', 'blue channel']):\n",
    "    ax.imshow(channel, cmap=f'{name.split()[0].capitalize()}s_r');\n",
    "    ax.set_title(name)\n",
    "    \n",
    "axes[1][0].imshow(hawk1);\n",
    "axes[1][0].set_title('original')\n",
    "for ax, channel, name in zip(axes[1][1:], hawk1.split(), ['red channel', 'green channel', 'blue channel']):\n",
    "    ax.imshow(channel, cmap=f'{name.split()[0].capitalize()}s_r');\n",
    "    ax.set_title(name)\n",
    "    \n",
    "axes[2][0].imshow(finch1);\n",
    "axes[2][0].set_title('original')\n",
    "for ax, channel, name in zip(axes[2][1:], finch1.split(), ['red channel', 'green channel', 'blue channel']):\n",
    "    ax.imshow(channel, cmap=f'{name.split()[0].capitalize()}s_r');\n",
    "    ax.set_title(name)\n",
    "\n",
    "plt.tight_layout()\n",
    "plt.savefig('graphs/dhf_RBGplot.png')"
   ]
  },
  {
   "cell_type": "markdown",
   "metadata": {},
   "source": [
    "### Normalize Feature Arrays"
   ]
  },
  {
   "cell_type": "code",
   "execution_count": 50,
   "metadata": {},
   "outputs": [],
   "source": [
    "# normalize the RBG values\n",
    "X = X/255.0"
   ]
  },
  {
   "cell_type": "markdown",
   "metadata": {},
   "source": [
    "### Label and Features"
   ]
  },
  {
   "cell_type": "code",
   "execution_count": 51,
   "metadata": {},
   "outputs": [],
   "source": [
    "label = y.copy()"
   ]
  },
  {
   "cell_type": "code",
   "execution_count": 52,
   "metadata": {},
   "outputs": [
    {
     "data": {
      "text/plain": [
       "array(['ducks', 'ducks', 'ducks', ..., 'hawks', 'hawks', 'hawks'],\n",
       "      dtype='<U7')"
      ]
     },
     "execution_count": 52,
     "metadata": {},
     "output_type": "execute_result"
    }
   ],
   "source": [
    "label"
   ]
  },
  {
   "cell_type": "code",
   "execution_count": 53,
   "metadata": {},
   "outputs": [
    {
     "name": "stdout",
     "output_type": "stream",
     "text": [
      "Number of Ducks:  990\n",
      "Number of Finches:  998\n",
      "Number of Hawks:  998\n"
     ]
    }
   ],
   "source": [
    "print('Number of Ducks: ', np.sum(label == 'ducks'))\n",
    "print('Number of Finches: ', np.sum(label == 'finches'))\n",
    "print('Number of Hawks: ', np.sum(label == 'hawks'))"
   ]
  },
  {
   "cell_type": "code",
   "execution_count": 54,
   "metadata": {},
   "outputs": [],
   "source": [
    "y = np.array(label.reshape(-1,1) == folders).astype(float)"
   ]
  },
  {
   "cell_type": "code",
   "execution_count": 55,
   "metadata": {},
   "outputs": [
    {
     "data": {
      "text/plain": [
       "array([[1., 0., 0.],\n",
       "       [1., 0., 0.],\n",
       "       [1., 0., 0.],\n",
       "       [1., 0., 0.],\n",
       "       [1., 0., 0.]])"
      ]
     },
     "execution_count": 55,
     "metadata": {},
     "output_type": "execute_result"
    }
   ],
   "source": [
    "y[:5]"
   ]
  },
  {
   "cell_type": "code",
   "execution_count": 56,
   "metadata": {},
   "outputs": [
    {
     "name": "stdout",
     "output_type": "stream",
     "text": [
      "label shape:  (2986, 3)\n",
      "features shape:  (2986, 299, 299, 3)\n"
     ]
    }
   ],
   "source": [
    "print('label shape: ', y.shape)\n",
    "print('features shape: ', X.shape)"
   ]
  },
  {
   "cell_type": "markdown",
   "metadata": {},
   "source": [
    "# Model Time"
   ]
  },
  {
   "cell_type": "markdown",
   "metadata": {},
   "source": [
    "### Work Flow\n",
    "\n",
    "1. X, and y defined\n",
    "- make sure they are arrays!!\n",
    "\n",
    "2. normalize X values by dividing by 255\n",
    "3. check images\n",
    "4. train test split\n",
    "5. make model Sequential()\n",
    "6. add input layer\n",
    "7. add multiple hidden layers\n",
    "8. ADD FLATTEN LAYER, MUST BE BEFORE OUTPUT\n",
    "9. add dense layer, which are fully connected layers\n",
    "10. add output dense layer, will be the amount of labels there are\n",
    "11. model.compile(loss = 'sparse_categorical_crossentropy', optimizer= 'adam', metrics=['accuracy'])\n",
    "12. model.fit(xtrain, ytrain, epochs) also has validation_split (out of sample) do about 0.1, batchsize: how many at a time, more data requires bigger (20-200 range)\n",
    "13. model.evaluate(xtest,ytest) returns val loss and val accuracy  \n",
    "\n",
    "14. model.save('name') saves the model\n",
    "- to load: new_model = tf.keras.models.load_model('name')"
   ]
  },
  {
   "cell_type": "markdown",
   "metadata": {},
   "source": [
    "### Import Libraries"
   ]
  },
  {
   "cell_type": "code",
   "execution_count": 61,
   "metadata": {},
   "outputs": [
    {
     "data": {
      "text/plain": [
       "'2.2.0'"
      ]
     },
     "execution_count": 61,
     "metadata": {},
     "output_type": "execute_result"
    }
   ],
   "source": [
    "# keras and tensorflow downloads\n",
    "import tensorflow as tf\n",
    "from tensorflow.keras.models import Sequential\n",
    "from tensorflow.keras.layers import Dense, Dropout, Activation, Flatten, GlobalAveragePooling2D\n",
    "from tensorflow.keras.layers import Conv2D, MaxPool2D, BatchNormalization # CNN\n",
    "from tensorflow.keras.models import Model\n",
    "\n",
    "from tensorflow.keras.applications.xception import preprocess_input\n",
    "from tensorflow.keras.applications import Xception\n",
    "from tensorflow.keras.preprocessing.image import img_to_array, load_img\n",
    "from tensorflow.keras.models import Model\n",
    "from tensorflow.keras.optimizers import SGD, RMSprop\n",
    "\n",
    "from tensorflow.keras.callbacks import TensorBoard # graphical visual of loss and accuracy over the epochs of train and test set\n",
    "from sklearn.metrics import accuracy_score\n",
    "from sklearn.model_selection import train_test_split\n",
    "\n",
    "import mlxtend\n",
    "\n",
    "import datetime\n",
    "\n",
    "tf.__version__"
   ]
  },
  {
   "cell_type": "code",
   "execution_count": 58,
   "metadata": {},
   "outputs": [],
   "source": [
    "X_train, X_test, y_train, y_test = train_test_split(X, y, test_size=0.2)"
   ]
  },
  {
   "cell_type": "code",
   "execution_count": null,
   "metadata": {},
   "outputs": [],
   "source": [
    "# check to make sure the bird images and labels are aligned\n",
    "# this is indeed a duck\n",
    "\n",
    "plt.title(f'{folders[y_train[10].argmax()]}')\n",
    "plt.imshow(X_train[10]);\n",
    "\n",
    "# plt.savefig('graphs/duck1.png')"
   ]
  },
  {
   "cell_type": "code",
   "execution_count": null,
   "metadata": {},
   "outputs": [],
   "source": [
    "print('X_train shape: ', X_train.shape)\n",
    "print('X_test shape: ', X_test.shape)\n",
    "print('y_train shape: ', y_train.shape)\n",
    "print('y_test shape: ', y_test.shape)"
   ]
  },
  {
   "cell_type": "markdown",
   "metadata": {},
   "source": [
    "## Xception: Transfer Model"
   ]
  },
  {
   "cell_type": "code",
   "execution_count": null,
   "metadata": {},
   "outputs": [],
   "source": [
    "log_xcept = os.path.join(\"logs/xception\", datetime.datetime.now().strftime(\"%Y%m%d-%H%M%S\"))\n",
    "tensorboard_callback = TensorBoard(log_dir=log_xcept, histogram_freq=1)"
   ]
  },
  {
   "cell_type": "code",
   "execution_count": null,
   "metadata": {},
   "outputs": [],
   "source": [
    "# %load_ext tensorboard\n",
    "\n",
    "# %tensorboard --logdir='logs/'"
   ]
  },
  {
   "cell_type": "code",
   "execution_count": 63,
   "metadata": {},
   "outputs": [],
   "source": [
    "input_size = (299,299,3)\n",
    "model = Xception(weights='imagenet',\n",
    "                          include_top=True,\n",
    "                          input_shape=input_size)"
   ]
  },
  {
   "cell_type": "code",
   "execution_count": 64,
   "metadata": {},
   "outputs": [],
   "source": [
    "def print_model_properties(model, indices = 0):\n",
    "     for i, layer in enumerate(model.layers[indices:]):\n",
    "        print(f\"Layer {i+indices} | Name: {layer.name} | Trainable: {layer.trainable}\")"
   ]
  },
  {
   "cell_type": "code",
   "execution_count": 65,
   "metadata": {
    "collapsed": true,
    "jupyter": {
     "outputs_hidden": true
    }
   },
   "outputs": [
    {
     "name": "stdout",
     "output_type": "stream",
     "text": [
      "Layer 0 | Name: input_1 | Trainable: True\n",
      "Layer 1 | Name: block1_conv1 | Trainable: True\n",
      "Layer 2 | Name: block1_conv1_bn | Trainable: True\n",
      "Layer 3 | Name: block1_conv1_act | Trainable: True\n",
      "Layer 4 | Name: block1_conv2 | Trainable: True\n",
      "Layer 5 | Name: block1_conv2_bn | Trainable: True\n",
      "Layer 6 | Name: block1_conv2_act | Trainable: True\n",
      "Layer 7 | Name: block2_sepconv1 | Trainable: True\n",
      "Layer 8 | Name: block2_sepconv1_bn | Trainable: True\n",
      "Layer 9 | Name: block2_sepconv2_act | Trainable: True\n",
      "Layer 10 | Name: block2_sepconv2 | Trainable: True\n",
      "Layer 11 | Name: block2_sepconv2_bn | Trainable: True\n",
      "Layer 12 | Name: conv2d | Trainable: True\n",
      "Layer 13 | Name: block2_pool | Trainable: True\n",
      "Layer 14 | Name: batch_normalization | Trainable: True\n",
      "Layer 15 | Name: add | Trainable: True\n",
      "Layer 16 | Name: block3_sepconv1_act | Trainable: True\n",
      "Layer 17 | Name: block3_sepconv1 | Trainable: True\n",
      "Layer 18 | Name: block3_sepconv1_bn | Trainable: True\n",
      "Layer 19 | Name: block3_sepconv2_act | Trainable: True\n",
      "Layer 20 | Name: block3_sepconv2 | Trainable: True\n",
      "Layer 21 | Name: block3_sepconv2_bn | Trainable: True\n",
      "Layer 22 | Name: conv2d_1 | Trainable: True\n",
      "Layer 23 | Name: block3_pool | Trainable: True\n",
      "Layer 24 | Name: batch_normalization_1 | Trainable: True\n",
      "Layer 25 | Name: add_1 | Trainable: True\n",
      "Layer 26 | Name: block4_sepconv1_act | Trainable: True\n",
      "Layer 27 | Name: block4_sepconv1 | Trainable: True\n",
      "Layer 28 | Name: block4_sepconv1_bn | Trainable: True\n",
      "Layer 29 | Name: block4_sepconv2_act | Trainable: True\n",
      "Layer 30 | Name: block4_sepconv2 | Trainable: True\n",
      "Layer 31 | Name: block4_sepconv2_bn | Trainable: True\n",
      "Layer 32 | Name: conv2d_2 | Trainable: True\n",
      "Layer 33 | Name: block4_pool | Trainable: True\n",
      "Layer 34 | Name: batch_normalization_2 | Trainable: True\n",
      "Layer 35 | Name: add_2 | Trainable: True\n",
      "Layer 36 | Name: block5_sepconv1_act | Trainable: True\n",
      "Layer 37 | Name: block5_sepconv1 | Trainable: True\n",
      "Layer 38 | Name: block5_sepconv1_bn | Trainable: True\n",
      "Layer 39 | Name: block5_sepconv2_act | Trainable: True\n",
      "Layer 40 | Name: block5_sepconv2 | Trainable: True\n",
      "Layer 41 | Name: block5_sepconv2_bn | Trainable: True\n",
      "Layer 42 | Name: block5_sepconv3_act | Trainable: True\n",
      "Layer 43 | Name: block5_sepconv3 | Trainable: True\n",
      "Layer 44 | Name: block5_sepconv3_bn | Trainable: True\n",
      "Layer 45 | Name: add_3 | Trainable: True\n",
      "Layer 46 | Name: block6_sepconv1_act | Trainable: True\n",
      "Layer 47 | Name: block6_sepconv1 | Trainable: True\n",
      "Layer 48 | Name: block6_sepconv1_bn | Trainable: True\n",
      "Layer 49 | Name: block6_sepconv2_act | Trainable: True\n",
      "Layer 50 | Name: block6_sepconv2 | Trainable: True\n",
      "Layer 51 | Name: block6_sepconv2_bn | Trainable: True\n",
      "Layer 52 | Name: block6_sepconv3_act | Trainable: True\n",
      "Layer 53 | Name: block6_sepconv3 | Trainable: True\n",
      "Layer 54 | Name: block6_sepconv3_bn | Trainable: True\n",
      "Layer 55 | Name: add_4 | Trainable: True\n",
      "Layer 56 | Name: block7_sepconv1_act | Trainable: True\n",
      "Layer 57 | Name: block7_sepconv1 | Trainable: True\n",
      "Layer 58 | Name: block7_sepconv1_bn | Trainable: True\n",
      "Layer 59 | Name: block7_sepconv2_act | Trainable: True\n",
      "Layer 60 | Name: block7_sepconv2 | Trainable: True\n",
      "Layer 61 | Name: block7_sepconv2_bn | Trainable: True\n",
      "Layer 62 | Name: block7_sepconv3_act | Trainable: True\n",
      "Layer 63 | Name: block7_sepconv3 | Trainable: True\n",
      "Layer 64 | Name: block7_sepconv3_bn | Trainable: True\n",
      "Layer 65 | Name: add_5 | Trainable: True\n",
      "Layer 66 | Name: block8_sepconv1_act | Trainable: True\n",
      "Layer 67 | Name: block8_sepconv1 | Trainable: True\n",
      "Layer 68 | Name: block8_sepconv1_bn | Trainable: True\n",
      "Layer 69 | Name: block8_sepconv2_act | Trainable: True\n",
      "Layer 70 | Name: block8_sepconv2 | Trainable: True\n",
      "Layer 71 | Name: block8_sepconv2_bn | Trainable: True\n",
      "Layer 72 | Name: block8_sepconv3_act | Trainable: True\n",
      "Layer 73 | Name: block8_sepconv3 | Trainable: True\n",
      "Layer 74 | Name: block8_sepconv3_bn | Trainable: True\n",
      "Layer 75 | Name: add_6 | Trainable: True\n",
      "Layer 76 | Name: block9_sepconv1_act | Trainable: True\n",
      "Layer 77 | Name: block9_sepconv1 | Trainable: True\n",
      "Layer 78 | Name: block9_sepconv1_bn | Trainable: True\n",
      "Layer 79 | Name: block9_sepconv2_act | Trainable: True\n",
      "Layer 80 | Name: block9_sepconv2 | Trainable: True\n",
      "Layer 81 | Name: block9_sepconv2_bn | Trainable: True\n",
      "Layer 82 | Name: block9_sepconv3_act | Trainable: True\n",
      "Layer 83 | Name: block9_sepconv3 | Trainable: True\n",
      "Layer 84 | Name: block9_sepconv3_bn | Trainable: True\n",
      "Layer 85 | Name: add_7 | Trainable: True\n",
      "Layer 86 | Name: block10_sepconv1_act | Trainable: True\n",
      "Layer 87 | Name: block10_sepconv1 | Trainable: True\n",
      "Layer 88 | Name: block10_sepconv1_bn | Trainable: True\n",
      "Layer 89 | Name: block10_sepconv2_act | Trainable: True\n",
      "Layer 90 | Name: block10_sepconv2 | Trainable: True\n",
      "Layer 91 | Name: block10_sepconv2_bn | Trainable: True\n",
      "Layer 92 | Name: block10_sepconv3_act | Trainable: True\n",
      "Layer 93 | Name: block10_sepconv3 | Trainable: True\n",
      "Layer 94 | Name: block10_sepconv3_bn | Trainable: True\n",
      "Layer 95 | Name: add_8 | Trainable: True\n",
      "Layer 96 | Name: block11_sepconv1_act | Trainable: True\n",
      "Layer 97 | Name: block11_sepconv1 | Trainable: True\n",
      "Layer 98 | Name: block11_sepconv1_bn | Trainable: True\n",
      "Layer 99 | Name: block11_sepconv2_act | Trainable: True\n",
      "Layer 100 | Name: block11_sepconv2 | Trainable: True\n",
      "Layer 101 | Name: block11_sepconv2_bn | Trainable: True\n",
      "Layer 102 | Name: block11_sepconv3_act | Trainable: True\n",
      "Layer 103 | Name: block11_sepconv3 | Trainable: True\n",
      "Layer 104 | Name: block11_sepconv3_bn | Trainable: True\n",
      "Layer 105 | Name: add_9 | Trainable: True\n",
      "Layer 106 | Name: block12_sepconv1_act | Trainable: True\n",
      "Layer 107 | Name: block12_sepconv1 | Trainable: True\n",
      "Layer 108 | Name: block12_sepconv1_bn | Trainable: True\n",
      "Layer 109 | Name: block12_sepconv2_act | Trainable: True\n",
      "Layer 110 | Name: block12_sepconv2 | Trainable: True\n",
      "Layer 111 | Name: block12_sepconv2_bn | Trainable: True\n",
      "Layer 112 | Name: block12_sepconv3_act | Trainable: True\n",
      "Layer 113 | Name: block12_sepconv3 | Trainable: True\n",
      "Layer 114 | Name: block12_sepconv3_bn | Trainable: True\n",
      "Layer 115 | Name: add_10 | Trainable: True\n",
      "Layer 116 | Name: block13_sepconv1_act | Trainable: True\n",
      "Layer 117 | Name: block13_sepconv1 | Trainable: True\n",
      "Layer 118 | Name: block13_sepconv1_bn | Trainable: True\n",
      "Layer 119 | Name: block13_sepconv2_act | Trainable: True\n",
      "Layer 120 | Name: block13_sepconv2 | Trainable: True\n",
      "Layer 121 | Name: block13_sepconv2_bn | Trainable: True\n",
      "Layer 122 | Name: conv2d_3 | Trainable: True\n",
      "Layer 123 | Name: block13_pool | Trainable: True\n",
      "Layer 124 | Name: batch_normalization_3 | Trainable: True\n",
      "Layer 125 | Name: add_11 | Trainable: True\n",
      "Layer 126 | Name: block14_sepconv1 | Trainable: True\n",
      "Layer 127 | Name: block14_sepconv1_bn | Trainable: True\n",
      "Layer 128 | Name: block14_sepconv1_act | Trainable: True\n",
      "Layer 129 | Name: block14_sepconv2 | Trainable: True\n",
      "Layer 130 | Name: block14_sepconv2_bn | Trainable: True\n",
      "Layer 131 | Name: block14_sepconv2_act | Trainable: True\n",
      "Layer 132 | Name: avg_pool | Trainable: True\n",
      "Layer 133 | Name: predictions | Trainable: True\n"
     ]
    }
   ],
   "source": [
    "print_model_properties(model)"
   ]
  },
  {
   "cell_type": "code",
   "execution_count": 67,
   "metadata": {},
   "outputs": [],
   "source": [
    "def create_transfer_model(input_size, n_categories, weights = 'imagenet'):\n",
    "        # note that the \"top\" is not included in the weights below\n",
    "        base_model = Xception(weights=weights,\n",
    "                          include_top=False,\n",
    "                          input_shape=input_size)\n",
    "        \n",
    "        model = base_model.output\n",
    "        model = GlobalAveragePooling2D()(model)\n",
    "        predictions = Dense(n_categories, activation='softmax')(model)\n",
    "        model = Model(inputs=base_model.input, outputs=predictions)\n",
    "        \n",
    "        return model"
   ]
  },
  {
   "cell_type": "code",
   "execution_count": 68,
   "metadata": {},
   "outputs": [],
   "source": [
    "transfer_model = create_transfer_model((299,299,3),3)"
   ]
  },
  {
   "cell_type": "code",
   "execution_count": 69,
   "metadata": {},
   "outputs": [],
   "source": [
    "def change_trainable_layers(model, trainable_index):\n",
    "    for layer in model.layers[:trainable_index]:\n",
    "        layer.trainable = False\n",
    "    for layer in model.layers[trainable_index:]:\n",
    "        layer.trainable = True"
   ]
  },
  {
   "cell_type": "code",
   "execution_count": 70,
   "metadata": {},
   "outputs": [],
   "source": [
    "_ = change_trainable_layers(transfer_model, 132)"
   ]
  },
  {
   "cell_type": "code",
   "execution_count": 71,
   "metadata": {},
   "outputs": [
    {
     "name": "stdout",
     "output_type": "stream",
     "text": [
      "Layer 130 | Name: block14_sepconv2_bn | Trainable: False\n",
      "Layer 131 | Name: block14_sepconv2_act | Trainable: False\n",
      "Layer 132 | Name: global_average_pooling2d | Trainable: True\n",
      "Layer 133 | Name: dense | Trainable: True\n"
     ]
    }
   ],
   "source": [
    "print_model_properties(transfer_model, 130)"
   ]
  },
  {
   "cell_type": "code",
   "execution_count": 72,
   "metadata": {},
   "outputs": [],
   "source": [
    "transfer_model.compile(optimizer=RMSprop(lr=0.001), loss='categorical_crossentropy', metrics=['accuracy'])"
   ]
  },
  {
   "cell_type": "code",
   "execution_count": 73,
   "metadata": {},
   "outputs": [
    {
     "name": "stdout",
     "output_type": "stream",
     "text": [
      "Epoch 1/6\n",
      "68/68 [==============================] - 396s 6s/step - loss: 0.1765 - accuracy: 0.9721 - val_loss: 0.0475 - val_accuracy: 0.9916\n",
      "Epoch 2/6\n",
      "68/68 [==============================] - 394s 6s/step - loss: 0.0502 - accuracy: 0.9874 - val_loss: 0.0266 - val_accuracy: 0.9958\n",
      "Epoch 3/6\n",
      "68/68 [==============================] - 394s 6s/step - loss: 0.0390 - accuracy: 0.9884 - val_loss: 0.0262 - val_accuracy: 0.9958\n",
      "Epoch 4/6\n",
      "68/68 [==============================] - 394s 6s/step - loss: 0.0330 - accuracy: 0.9902 - val_loss: 0.0229 - val_accuracy: 0.9958\n",
      "Epoch 5/6\n",
      "68/68 [==============================] - 393s 6s/step - loss: 0.0291 - accuracy: 0.9907 - val_loss: 0.0206 - val_accuracy: 0.9958\n",
      "Epoch 6/6\n",
      "68/68 [==============================] - 393s 6s/step - loss: 0.0251 - accuracy: 0.9916 - val_loss: 0.0209 - val_accuracy: 0.9958\n"
     ]
    }
   ],
   "source": [
    "transfer_test = transfer_model.fit(X_train, y_train, batch_size = 32, epochs=6, validation_split=0.1)"
   ]
  },
  {
   "cell_type": "code",
   "execution_count": 74,
   "metadata": {},
   "outputs": [
    {
     "data": {
      "image/png": "[encoded data removed]",
      "text/plain": [
       "<Figure size 576x576 with 1 Axes>"
      ]
     },
     "metadata": {},
     "output_type": "display_data"
    }
   ],
   "source": [
    "from mlxtend.plotting import plot_confusion_matrix\n",
    "from sklearn.metrics import confusion_matrix\n",
    "\n",
    "pred1 = transfer_model.predict(X_test)\n",
    "\n",
    "y_true = y_test.copy()\n",
    "\n",
    "y_true = np.array([i.argmax() for i in y_true]).reshape(-1,1)\n",
    "\n",
    "y_predicted = (pred1 > 0.5).astype(float)\n",
    "\n",
    "y_predicted = np.array([i.argmax() for i in y_predicted]).reshape(-1,1)\n",
    "\n",
    "mat = confusion_matrix(y_true, y_predicted)\n",
    "\n",
    "plot_confusion_matrix(conf_mat=mat, figsize=(8,8), class_names=folders);\n",
    "\n",
    "# plt.savefig('graphs/modelx_7_conf_mat.png')"
   ]
  },
  {
   "cell_type": "code",
   "execution_count": null,
   "metadata": {},
   "outputs": [],
   "source": [
    "print('Transfer Model1: Loss and Accuracy')\n",
    "evaluate = transfer_model.evaluate(X_test, y_test)"
   ]
  },
  {
   "cell_type": "code",
   "execution_count": 75,
   "metadata": {},
   "outputs": [
    {
     "name": "stdout",
     "output_type": "stream",
     "text": [
      "Epoch 1/6\n",
      "84/84 [==============================] - 493s 6s/step - loss: 0.0203 - accuracy: 0.9937 - val_loss: 0.0365 - val_accuracy: 0.9900\n",
      "Epoch 2/6\n",
      "84/84 [==============================] - 493s 6s/step - loss: 0.0168 - accuracy: 0.9948 - val_loss: 0.0370 - val_accuracy: 0.9900\n",
      "Epoch 3/6\n",
      "84/84 [==============================] - 493s 6s/step - loss: 0.0150 - accuracy: 0.9955 - val_loss: 0.0560 - val_accuracy: 0.9799\n",
      "Epoch 4/6\n",
      "84/84 [==============================] - 494s 6s/step - loss: 0.0132 - accuracy: 0.9963 - val_loss: 0.0462 - val_accuracy: 0.9866\n",
      "Epoch 5/6\n",
      "84/84 [==============================] - 493s 6s/step - loss: 0.0108 - accuracy: 0.9970 - val_loss: 0.0998 - val_accuracy: 0.9532\n",
      "Epoch 6/6\n",
      "84/84 [==============================] - 494s 6s/step - loss: 0.0097 - accuracy: 0.9963 - val_loss: 0.1000 - val_accuracy: 0.9565\n"
     ]
    }
   ],
   "source": [
    "xception_final = transfer_model.fit(X, y, batch_size = 32, epochs=6, validation_split=0.1)"
   ]
  },
  {
   "cell_type": "code",
   "execution_count": 78,
   "metadata": {},
   "outputs": [],
   "source": [
    "# transfer_model.save('saved_models/xception_final.h5')\n",
    "load_xception = tf.keras.models.load_model('saved_models/xception_final.h5')"
   ]
  },
  {
   "cell_type": "code",
   "execution_count": null,
   "metadata": {},
   "outputs": [],
   "source": [
    "from tensorflow.keras.applications.vgg16 import VGG16\n",
    "from tensorflow.keras.applications.vgg16 import preprocess_input\n",
    "import tensorflow.keras.backend as K\n",
    "import shap"
   ]
  },
  {
   "cell_type": "code",
   "execution_count": null,
   "metadata": {},
   "outputs": [],
   "source": [
    "# load pre-trained model and choose two images to explain\n",
    "vgg_model = VGG16(weights='imagenet', include_top=True)\n",
    "to_explain = X[[39,41]]\n",
    "\n",
    "# load the ImageNet class names\n",
    "# url = \"https://s3.amazonaws.com/deep-learning-models/image-models/imagenet_class_index.json\"\n",
    "# fname = shap.datasets.cache(url)\n",
    "# with open(fname) as f:\n",
    "#     class_names = json.load(f)\n",
    "\n",
    "# explain how the input to the 7th layer of the model explains the top two classes\n",
    "def map2layer(x, layer):\n",
    "    feed_dict = dict(zip([vgg_model.layers[0].input], [preprocess_input(x.copy())]))\n",
    "    return K.get_session().run(model.layers[layer].input, feed_dict)\n",
    "e = shap.GradientExplainer(\n",
    "    (model.layers[7].input, model.layers[-1].output),\n",
    "    map2layer(X, 7),\n",
    "    local_smoothing=0 # std dev of smoothing noise\n",
    ")\n",
    "shap_values,indexes = e.shap_values(map2layer(to_explain, 7), ranked_outputs=2)\n",
    "\n",
    "# get the names for the classes\n",
    "# index_names = np.vectorize(lambda x: class_names[str(x)][1])(indexes)\n",
    "\n",
    "# plot the explanations\n",
    "shap.image_plot(shap_values, to_explain, label)"
   ]
  },
  {
   "cell_type": "code",
   "execution_count": null,
   "metadata": {},
   "outputs": [],
   "source": []
  }
 ],
 "metadata": {
  "kernelspec": {
   "display_name": "Python 3",
   "language": "python",
   "name": "python3"
  },
  "language_info": {
   "codemirror_mode": {
    "name": "ipython",
    "version": 3
   },
   "file_extension": ".py",
   "mimetype": "text/x-python",
   "name": "python",
   "nbconvert_exporter": "python",
   "pygments_lexer": "ipython3",
   "version": "3.7.6"
  }
 },
 "nbformat": 4,
 "nbformat_minor": 4
}

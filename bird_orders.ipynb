{
 "cells": [
  {
   "cell_type": "code",
   "execution_count": 152,
   "metadata": {},
   "outputs": [],
   "source": [
    "import pandas as pd\n",
    "import numpy as np\n",
    "import seaborn as sns\n",
    "import matplotlib.pyplot as plt\n",
    "import os\n",
    "import cv2\n",
    "\n",
    "import random\n",
    "import math\n",
    "import networkx as nx\n",
    "\n",
    "import boto3\n",
    "from PIL import Image\n",
    "\n",
    "import requests\n",
    "import json\n",
    "\n",
    "from tqdm import tqdm\n",
    "getattr(tqdm, '_instances', {}).clear()  # ⬅ add this line\n",
    "\n",
    "%matplotlib inline\n",
    "\n",
    "plt.style.use('ggplot')\n",
    "\n",
    "pd.set_option('display.max_columns', 50)"
   ]
  },
  {
   "cell_type": "code",
   "execution_count": 170,
   "metadata": {},
   "outputs": [],
   "source": [
    "import pickle # save images\n",
    "import time # get time stamp of models trained"
   ]
  },
  {
   "cell_type": "code",
   "execution_count": 171,
   "metadata": {},
   "outputs": [],
   "source": [
    "import matplotlib.image as mpimg # show images\n",
    "from io import BytesIO # reading bytes"
   ]
  },
  {
   "cell_type": "code",
   "execution_count": 7,
   "metadata": {},
   "outputs": [],
   "source": [
    "bird_orders = pd.read_csv('data/eBird-Clements-v2019-integrated-checklist-August-2019.csv', encoding = \"ISO-8859-1\", error_bad_lines=False)"
   ]
  },
  {
   "cell_type": "code",
   "execution_count": 8,
   "metadata": {},
   "outputs": [
    {
     "data": {
      "text/html": [
       "<div>\n",
       "<style>\n",
       "    .dataframe thead tr:only-child th {\n",
       "        text-align: right;\n",
       "    }\n",
       "\n",
       "    .dataframe thead th {\n",
       "        text-align: left;\n",
       "    }\n",
       "\n",
       "    .dataframe tbody tr th {\n",
       "        vertical-align: top;\n",
       "    }\n",
       "</style>\n",
       "<table border=\"1\" class=\"dataframe\">\n",
       "  <thead>\n",
       "    <tr style=\"text-align: right;\">\n",
       "      <th></th>\n",
       "      <th>eBird species code 2019</th>\n",
       "      <th>TAXON_ORDER</th>\n",
       "      <th>category</th>\n",
       "      <th>English name</th>\n",
       "      <th>scientific name</th>\n",
       "      <th>range</th>\n",
       "      <th>order</th>\n",
       "      <th>family</th>\n",
       "      <th>eBird species group</th>\n",
       "      <th>extinct</th>\n",
       "      <th>extinct year</th>\n",
       "    </tr>\n",
       "  </thead>\n",
       "  <tbody>\n",
       "    <tr>\n",
       "      <th>0</th>\n",
       "      <td>ostric2</td>\n",
       "      <td>1.0</td>\n",
       "      <td>species</td>\n",
       "      <td>Common Ostrich</td>\n",
       "      <td>Struthio camelus</td>\n",
       "      <td>NaN</td>\n",
       "      <td>Struthioniformes</td>\n",
       "      <td>Struthionidae (Ostriches)</td>\n",
       "      <td>Ostriches</td>\n",
       "      <td>NaN</td>\n",
       "      <td>NaN</td>\n",
       "    </tr>\n",
       "    <tr>\n",
       "      <th>1</th>\n",
       "      <td>NaN</td>\n",
       "      <td>2.0</td>\n",
       "      <td>subspecies</td>\n",
       "      <td>NaN</td>\n",
       "      <td>Struthio camelus camelus</td>\n",
       "      <td>Sahel of North Africa and the Sudan</td>\n",
       "      <td>Struthioniformes</td>\n",
       "      <td>Struthionidae (Ostriches)</td>\n",
       "      <td>Ostriches</td>\n",
       "      <td>NaN</td>\n",
       "      <td>NaN</td>\n",
       "    </tr>\n",
       "    <tr>\n",
       "      <th>2</th>\n",
       "      <td>NaN</td>\n",
       "      <td>3.0</td>\n",
       "      <td>subspecies</td>\n",
       "      <td>NaN</td>\n",
       "      <td>Struthio camelus syriacus</td>\n",
       "      <td>Formerly Syrian and Arabian deserts. Extinct c...</td>\n",
       "      <td>Struthioniformes</td>\n",
       "      <td>Struthionidae (Ostriches)</td>\n",
       "      <td>Ostriches</td>\n",
       "      <td>1.0</td>\n",
       "      <td>1966</td>\n",
       "    </tr>\n",
       "    <tr>\n",
       "      <th>3</th>\n",
       "      <td>NaN</td>\n",
       "      <td>4.0</td>\n",
       "      <td>subspecies</td>\n",
       "      <td>NaN</td>\n",
       "      <td>Struthio camelus massaicus</td>\n",
       "      <td>S Kenya and e Tanzania</td>\n",
       "      <td>Struthioniformes</td>\n",
       "      <td>Struthionidae (Ostriches)</td>\n",
       "      <td>Ostriches</td>\n",
       "      <td>NaN</td>\n",
       "      <td>NaN</td>\n",
       "    </tr>\n",
       "    <tr>\n",
       "      <th>4</th>\n",
       "      <td>NaN</td>\n",
       "      <td>5.0</td>\n",
       "      <td>subspecies</td>\n",
       "      <td>NaN</td>\n",
       "      <td>Struthio camelus australis</td>\n",
       "      <td>Southern Africa</td>\n",
       "      <td>Struthioniformes</td>\n",
       "      <td>Struthionidae (Ostriches)</td>\n",
       "      <td>Ostriches</td>\n",
       "      <td>NaN</td>\n",
       "      <td>NaN</td>\n",
       "    </tr>\n",
       "  </tbody>\n",
       "</table>\n",
       "</div>"
      ],
      "text/plain": [
       "  eBird species code 2019  TAXON_ORDER    category    English name  \\\n",
       "0                 ostric2          1.0     species  Common Ostrich   \n",
       "1                     NaN          2.0  subspecies             NaN   \n",
       "2                     NaN          3.0  subspecies             NaN   \n",
       "3                     NaN          4.0  subspecies             NaN   \n",
       "4                     NaN          5.0  subspecies             NaN   \n",
       "\n",
       "              scientific name  \\\n",
       "0            Struthio camelus   \n",
       "1    Struthio camelus camelus   \n",
       "2   Struthio camelus syriacus   \n",
       "3  Struthio camelus massaicus   \n",
       "4  Struthio camelus australis   \n",
       "\n",
       "                                               range             order  \\\n",
       "0                                                NaN  Struthioniformes   \n",
       "1                Sahel of North Africa and the Sudan  Struthioniformes   \n",
       "2  Formerly Syrian and Arabian deserts. Extinct c...  Struthioniformes   \n",
       "3                             S Kenya and e Tanzania  Struthioniformes   \n",
       "4                                    Southern Africa  Struthioniformes   \n",
       "\n",
       "                      family eBird species group  extinct extinct year  \n",
       "0  Struthionidae (Ostriches)           Ostriches      NaN          NaN  \n",
       "1  Struthionidae (Ostriches)           Ostriches      NaN          NaN  \n",
       "2  Struthionidae (Ostriches)           Ostriches      1.0         1966  \n",
       "3  Struthionidae (Ostriches)           Ostriches      NaN          NaN  \n",
       "4  Struthionidae (Ostriches)           Ostriches      NaN          NaN  "
      ]
     },
     "execution_count": 8,
     "metadata": {},
     "output_type": "execute_result"
    }
   ],
   "source": [
    "bird_orders.head()"
   ]
  },
  {
   "cell_type": "code",
   "execution_count": 82,
   "metadata": {},
   "outputs": [],
   "source": [
    "bird_orders.columns = ['eBird_code', 'order_num', 'category', 'txt_labels',\n",
    "       'sci_name', 'range', 'order', 'family', 'species_group',\n",
    "       'extinct', 'extinct_year']"
   ]
  },
  {
   "cell_type": "code",
   "execution_count": 83,
   "metadata": {},
   "outputs": [
    {
     "data": {
      "text/html": [
       "<div>\n",
       "<style>\n",
       "    .dataframe thead tr:only-child th {\n",
       "        text-align: right;\n",
       "    }\n",
       "\n",
       "    .dataframe thead th {\n",
       "        text-align: left;\n",
       "    }\n",
       "\n",
       "    .dataframe tbody tr th {\n",
       "        vertical-align: top;\n",
       "    }\n",
       "</style>\n",
       "<table border=\"1\" class=\"dataframe\">\n",
       "  <thead>\n",
       "    <tr style=\"text-align: right;\">\n",
       "      <th></th>\n",
       "      <th>eBird_code</th>\n",
       "      <th>order_num</th>\n",
       "      <th>category</th>\n",
       "      <th>txt_labels</th>\n",
       "      <th>sci_name</th>\n",
       "      <th>range</th>\n",
       "      <th>order</th>\n",
       "      <th>family</th>\n",
       "      <th>species_group</th>\n",
       "      <th>extinct</th>\n",
       "      <th>extinct_year</th>\n",
       "    </tr>\n",
       "  </thead>\n",
       "  <tbody>\n",
       "    <tr>\n",
       "      <th>0</th>\n",
       "      <td>ostric2</td>\n",
       "      <td>1.0</td>\n",
       "      <td>species</td>\n",
       "      <td>Common Ostrich</td>\n",
       "      <td>Struthio camelus</td>\n",
       "      <td>NaN</td>\n",
       "      <td>Struthioniformes</td>\n",
       "      <td>Struthionidae (Ostriches)</td>\n",
       "      <td>Ostriches</td>\n",
       "      <td>NaN</td>\n",
       "      <td>NaN</td>\n",
       "    </tr>\n",
       "  </tbody>\n",
       "</table>\n",
       "</div>"
      ],
      "text/plain": [
       "  eBird_code  order_num category      txt_labels          sci_name range  \\\n",
       "0    ostric2        1.0  species  Common Ostrich  Struthio camelus   NaN   \n",
       "\n",
       "              order                     family species_group  extinct  \\\n",
       "0  Struthioniformes  Struthionidae (Ostriches)     Ostriches      NaN   \n",
       "\n",
       "  extinct_year  \n",
       "0          NaN  "
      ]
     },
     "execution_count": 83,
     "metadata": {},
     "output_type": "execute_result"
    }
   ],
   "source": [
    "bird_orders.head(1)"
   ]
  },
  {
   "cell_type": "code",
   "execution_count": 91,
   "metadata": {},
   "outputs": [
    {
     "data": {
      "text/html": [
       "<div>\n",
       "<style>\n",
       "    .dataframe thead tr:only-child th {\n",
       "        text-align: right;\n",
       "    }\n",
       "\n",
       "    .dataframe thead th {\n",
       "        text-align: left;\n",
       "    }\n",
       "\n",
       "    .dataframe tbody tr th {\n",
       "        vertical-align: top;\n",
       "    }\n",
       "</style>\n",
       "<table border=\"1\" class=\"dataframe\">\n",
       "  <thead>\n",
       "    <tr style=\"text-align: right;\">\n",
       "      <th></th>\n",
       "      <th>eBird_code</th>\n",
       "      <th>order_num</th>\n",
       "      <th>category</th>\n",
       "      <th>txt_labels</th>\n",
       "      <th>sci_name</th>\n",
       "      <th>range</th>\n",
       "      <th>order</th>\n",
       "      <th>family</th>\n",
       "      <th>species_group</th>\n",
       "      <th>extinct</th>\n",
       "      <th>extinct_year</th>\n",
       "    </tr>\n",
       "  </thead>\n",
       "  <tbody>\n",
       "    <tr>\n",
       "      <th>625</th>\n",
       "      <td>harduc</td>\n",
       "      <td>626.0</td>\n",
       "      <td>species</td>\n",
       "      <td>Harlequin Duck</td>\n",
       "      <td>Histrionicus histrionicus</td>\n",
       "      <td>breeds eastern Siberia and northern Japan, Ala...</td>\n",
       "      <td>Anseriformes</td>\n",
       "      <td>Anatidae (Ducks, Geese, and Waterfowl)</td>\n",
       "      <td>Waterfowl</td>\n",
       "      <td>NaN</td>\n",
       "      <td>NaN</td>\n",
       "    </tr>\n",
       "  </tbody>\n",
       "</table>\n",
       "</div>"
      ],
      "text/plain": [
       "    eBird_code  order_num category      txt_labels                   sci_name  \\\n",
       "625     harduc      626.0  species  Harlequin Duck  Histrionicus histrionicus   \n",
       "\n",
       "                                                 range         order  \\\n",
       "625  breeds eastern Siberia and northern Japan, Ala...  Anseriformes   \n",
       "\n",
       "                                     family species_group  extinct  \\\n",
       "625  Anatidae (Ducks, Geese, and Waterfowl)     Waterfowl      NaN   \n",
       "\n",
       "    extinct_year  \n",
       "625          NaN  "
      ]
     },
     "execution_count": 91,
     "metadata": {},
     "output_type": "execute_result"
    }
   ],
   "source": [
    "bird_orders[bird_orders['txt_labels'] == 'Harlequin Duck']"
   ]
  },
  {
   "cell_type": "code",
   "execution_count": 79,
   "metadata": {},
   "outputs": [
    {
     "data": {
      "text/plain": [
       "array(['Struthioniformes', 'Rheiformes', 'Tinamiformes', 'Casuariiformes',\n",
       "       'Apterygiformes', 'Anseriformes', 'Galliformes',\n",
       "       'Phoenicopteriformes', 'Podicipediformes', 'Columbiformes',\n",
       "       'Mesitornithiformes', 'Pterocliformes', 'Otidiformes',\n",
       "       'Musophagiformes', 'Cuculiformes', 'Caprimulgiformes',\n",
       "       'Opisthocomiformes', 'Gruiformes', 'Charadriiformes',\n",
       "       'Eurypygiformes', 'Phaethontiformes', 'Gaviiformes',\n",
       "       'Sphenisciformes', 'Procellariiformes', 'Ciconiiformes',\n",
       "       'Suliformes', 'Pelecaniformes', 'Cathartiformes',\n",
       "       'Accipitriformes', 'Strigiformes', 'Coliiformes',\n",
       "       'Leptosomiformes', 'Trogoniformes', 'Bucerotiformes',\n",
       "       'Coraciiformes', 'Galbuliformes', 'Piciformes', 'Cariamiformes',\n",
       "       'Falconiformes', nan, 'Psittaciformes', 'Passeriformes'],\n",
       "      dtype=object)"
      ]
     },
     "execution_count": 79,
     "metadata": {},
     "output_type": "execute_result"
    }
   ],
   "source": [
    "bird_orders['order'].unique()"
   ]
  },
  {
   "cell_type": "code",
   "execution_count": 11,
   "metadata": {},
   "outputs": [],
   "source": [
    "master_df = pd.read_csv('data/master_df.csv', index_col=0)"
   ]
  },
  {
   "cell_type": "code",
   "execution_count": 12,
   "metadata": {},
   "outputs": [
    {
     "data": {
      "text/html": [
       "<div>\n",
       "<style>\n",
       "    .dataframe thead tr:only-child th {\n",
       "        text-align: right;\n",
       "    }\n",
       "\n",
       "    .dataframe thead th {\n",
       "        text-align: left;\n",
       "    }\n",
       "\n",
       "    .dataframe tbody tr th {\n",
       "        vertical-align: top;\n",
       "    }\n",
       "</style>\n",
       "<table border=\"1\" class=\"dataframe\">\n",
       "  <thead>\n",
       "    <tr style=\"text-align: right;\">\n",
       "      <th></th>\n",
       "      <th>file_path</th>\n",
       "      <th>img_name</th>\n",
       "      <th>class_id</th>\n",
       "      <th>txt_labels</th>\n",
       "    </tr>\n",
       "  </thead>\n",
       "  <tbody>\n",
       "    <tr>\n",
       "      <th>0</th>\n",
       "      <td>0817/0000139e21dc4d0cbfe14cae3c85c829.jpg</td>\n",
       "      <td>0000139e-21dc-4d0c-bfe1-4cae3c85c829</td>\n",
       "      <td>817</td>\n",
       "      <td>Oak Titmouse</td>\n",
       "    </tr>\n",
       "    <tr>\n",
       "      <th>1</th>\n",
       "      <td>0817/01a472d8e93047a080aae4f958a2ef47.jpg</td>\n",
       "      <td>01a472d8-e930-47a0-80aa-e4f958a2ef47</td>\n",
       "      <td>817</td>\n",
       "      <td>Oak Titmouse</td>\n",
       "    </tr>\n",
       "    <tr>\n",
       "      <th>2</th>\n",
       "      <td>0817/036fba7c96374635853511ead2c1c728.jpg</td>\n",
       "      <td>036fba7c-9637-4635-8535-11ead2c1c728</td>\n",
       "      <td>817</td>\n",
       "      <td>Oak Titmouse</td>\n",
       "    </tr>\n",
       "    <tr>\n",
       "      <th>3</th>\n",
       "      <td>0817/07814887f59b44cb9b7f399999634fba.jpg</td>\n",
       "      <td>07814887-f59b-44cb-9b7f-399999634fba</td>\n",
       "      <td>817</td>\n",
       "      <td>Oak Titmouse</td>\n",
       "    </tr>\n",
       "    <tr>\n",
       "      <th>4</th>\n",
       "      <td>0817/0822865741de43128a6a6c8897387975.jpg</td>\n",
       "      <td>08228657-41de-4312-8a6a-6c8897387975</td>\n",
       "      <td>817</td>\n",
       "      <td>Oak Titmouse</td>\n",
       "    </tr>\n",
       "  </tbody>\n",
       "</table>\n",
       "</div>"
      ],
      "text/plain": [
       "                                   file_path  \\\n",
       "0  0817/0000139e21dc4d0cbfe14cae3c85c829.jpg   \n",
       "1  0817/01a472d8e93047a080aae4f958a2ef47.jpg   \n",
       "2  0817/036fba7c96374635853511ead2c1c728.jpg   \n",
       "3  0817/07814887f59b44cb9b7f399999634fba.jpg   \n",
       "4  0817/0822865741de43128a6a6c8897387975.jpg   \n",
       "\n",
       "                               img_name  class_id    txt_labels  \n",
       "0  0000139e-21dc-4d0c-bfe1-4cae3c85c829       817  Oak Titmouse  \n",
       "1  01a472d8-e930-47a0-80aa-e4f958a2ef47       817  Oak Titmouse  \n",
       "2  036fba7c-9637-4635-8535-11ead2c1c728       817  Oak Titmouse  \n",
       "3  07814887-f59b-44cb-9b7f-399999634fba       817  Oak Titmouse  \n",
       "4  08228657-41de-4312-8a6a-6c8897387975       817  Oak Titmouse  "
      ]
     },
     "execution_count": 12,
     "metadata": {},
     "output_type": "execute_result"
    }
   ],
   "source": [
    "master_df.head(5)"
   ]
  },
  {
   "cell_type": "code",
   "execution_count": 108,
   "metadata": {},
   "outputs": [],
   "source": [
    "import re\n",
    "\n",
    "master_df['txt_labels'] = master_df['txt_labels'].str.replace(r'\\([\\s\\S]*\\)', '').str.strip()"
   ]
  },
  {
   "cell_type": "code",
   "execution_count": 113,
   "metadata": {},
   "outputs": [],
   "source": [
    "orders = bird_orders[['order','txt_labels', 'family', 'species_group']].copy()"
   ]
  },
  {
   "cell_type": "code",
   "execution_count": 114,
   "metadata": {},
   "outputs": [
    {
     "name": "stdout",
     "output_type": "stream",
     "text": [
      "<class 'pandas.core.frame.DataFrame'>\n",
      "RangeIndex: 34501 entries, 0 to 34500\n",
      "Data columns (total 4 columns):\n",
      "order            34499 non-null object\n",
      "txt_labels       16513 non-null object\n",
      "family           34492 non-null object\n",
      "species_group    34501 non-null object\n",
      "dtypes: object(4)\n",
      "memory usage: 1.1+ MB\n"
     ]
    }
   ],
   "source": [
    "orders.info()"
   ]
  },
  {
   "cell_type": "code",
   "execution_count": 179,
   "metadata": {},
   "outputs": [
    {
     "data": {
      "text/plain": [
       "41"
      ]
     },
     "execution_count": 179,
     "metadata": {},
     "output_type": "execute_result"
    }
   ],
   "source": [
    "orders['order'].nunique()"
   ]
  },
  {
   "cell_type": "code",
   "execution_count": 94,
   "metadata": {},
   "outputs": [
    {
     "name": "stdout",
     "output_type": "stream",
     "text": [
      "<class 'pandas.core.frame.DataFrame'>\n",
      "Int64Index: 48562 entries, 0 to 48561\n",
      "Data columns (total 4 columns):\n",
      "file_path     48562 non-null object\n",
      "img_name      48562 non-null object\n",
      "class_id      48562 non-null int64\n",
      "txt_labels    48562 non-null object\n",
      "dtypes: int64(1), object(3)\n",
      "memory usage: 3.1+ MB\n"
     ]
    }
   ],
   "source": [
    "master_df.info()"
   ]
  },
  {
   "cell_type": "code",
   "execution_count": 128,
   "metadata": {},
   "outputs": [],
   "source": [
    "orders_df = master_df.merge(orders, on='txt_labels')"
   ]
  },
  {
   "cell_type": "code",
   "execution_count": 172,
   "metadata": {},
   "outputs": [
    {
     "data": {
      "text/plain": [
       "43"
      ]
     },
     "execution_count": 172,
     "metadata": {},
     "output_type": "execute_result"
    }
   ],
   "source": [
    "orders_df['family'].nunique()"
   ]
  },
  {
   "cell_type": "code",
   "execution_count": 173,
   "metadata": {},
   "outputs": [
    {
     "data": {
      "text/plain": [
       "38"
      ]
     },
     "execution_count": 173,
     "metadata": {},
     "output_type": "execute_result"
    }
   ],
   "source": [
    "orders_df['species_group'].nunique()"
   ]
  },
  {
   "cell_type": "code",
   "execution_count": 148,
   "metadata": {},
   "outputs": [],
   "source": [
    "# orders_df.to_csv('data/orders_df.csv')"
   ]
  },
  {
   "cell_type": "code",
   "execution_count": 176,
   "metadata": {},
   "outputs": [
    {
     "data": {
      "text/html": [
       "<div>\n",
       "<style>\n",
       "    .dataframe thead tr:only-child th {\n",
       "        text-align: right;\n",
       "    }\n",
       "\n",
       "    .dataframe thead th {\n",
       "        text-align: left;\n",
       "    }\n",
       "\n",
       "    .dataframe tbody tr th {\n",
       "        vertical-align: top;\n",
       "    }\n",
       "</style>\n",
       "<table border=\"1\" class=\"dataframe\">\n",
       "  <thead>\n",
       "    <tr style=\"text-align: right;\">\n",
       "      <th></th>\n",
       "      <th>file_path</th>\n",
       "      <th>img_name</th>\n",
       "      <th>class_id</th>\n",
       "      <th>txt_labels</th>\n",
       "      <th>order</th>\n",
       "      <th>family</th>\n",
       "      <th>species_group</th>\n",
       "    </tr>\n",
       "  </thead>\n",
       "  <tbody>\n",
       "    <tr>\n",
       "      <th>0</th>\n",
       "      <td>0817/0000139e21dc4d0cbfe14cae3c85c829.jpg</td>\n",
       "      <td>0000139e-21dc-4d0c-bfe1-4cae3c85c829</td>\n",
       "      <td>817</td>\n",
       "      <td>Oak Titmouse</td>\n",
       "      <td>Piciformes</td>\n",
       "      <td>Picidae (Woodpeckers)</td>\n",
       "      <td>Woodpeckers</td>\n",
       "    </tr>\n",
       "    <tr>\n",
       "      <th>1</th>\n",
       "      <td>0817/01a472d8e93047a080aae4f958a2ef47.jpg</td>\n",
       "      <td>01a472d8-e930-47a0-80aa-e4f958a2ef47</td>\n",
       "      <td>817</td>\n",
       "      <td>Oak Titmouse</td>\n",
       "      <td>Piciformes</td>\n",
       "      <td>Picidae (Woodpeckers)</td>\n",
       "      <td>Woodpeckers</td>\n",
       "    </tr>\n",
       "  </tbody>\n",
       "</table>\n",
       "</div>"
      ],
      "text/plain": [
       "                                   file_path  \\\n",
       "0  0817/0000139e21dc4d0cbfe14cae3c85c829.jpg   \n",
       "1  0817/01a472d8e93047a080aae4f958a2ef47.jpg   \n",
       "\n",
       "                               img_name  class_id    txt_labels       order  \\\n",
       "0  0000139e-21dc-4d0c-bfe1-4cae3c85c829       817  Oak Titmouse  Piciformes   \n",
       "1  01a472d8-e930-47a0-80aa-e4f958a2ef47       817  Oak Titmouse  Piciformes   \n",
       "\n",
       "                  family species_group  \n",
       "0  Picidae (Woodpeckers)   Woodpeckers  \n",
       "1  Picidae (Woodpeckers)   Woodpeckers  "
      ]
     },
     "execution_count": 176,
     "metadata": {},
     "output_type": "execute_result"
    }
   ],
   "source": [
    "orders_df.head(2)"
   ]
  },
  {
   "cell_type": "code",
   "execution_count": 178,
   "metadata": {},
   "outputs": [
    {
     "data": {
      "text/plain": [
       "18"
      ]
     },
     "execution_count": 178,
     "metadata": {},
     "output_type": "execute_result"
    }
   ],
   "source": [
    "orders_df['order'].nunique()"
   ]
  },
  {
   "cell_type": "code",
   "execution_count": 175,
   "metadata": {},
   "outputs": [
    {
     "data": {
      "text/plain": [
       "48271"
      ]
     },
     "execution_count": 175,
     "metadata": {},
     "output_type": "execute_result"
    }
   ],
   "source": [
    "len(orders_df)"
   ]
  },
  {
   "cell_type": "code",
   "execution_count": 182,
   "metadata": {},
   "outputs": [
    {
     "data": {
      "text/plain": [
       "0"
      ]
     },
     "execution_count": 182,
     "metadata": {},
     "output_type": "execute_result"
    }
   ],
   "source": [
    "sum(orders_df['order'].isnull())"
   ]
  },
  {
   "cell_type": "code",
   "execution_count": 169,
   "metadata": {},
   "outputs": [
    {
     "data": {
      "image/png": "[encoded data removed]",
      "text/plain": [
       "<matplotlib.figure.Figure at 0x7fee6a7c4940>"
      ]
     },
     "metadata": {},
     "output_type": "display_data"
    }
   ],
   "source": [
    "fig, ax = plt.subplots(figsize=(10,10))\n",
    "\n",
    "ax = orders_df['species_group'].hist(bins=75);\n",
    "plt.xticks(rotation=90);\n",
    "ax.set_title('Number of Species in Family Group')\n",
    "ax.set_xlabel('Family Groups')\n",
    "ax.set_ylabel('Number of Species')\n",
    "\n",
    "plt.tight_layout()"
   ]
  },
  {
   "cell_type": "code",
   "execution_count": 203,
   "metadata": {},
   "outputs": [],
   "source": [
    "img_dir = 'images' # folder containing all other folders of images\n",
    "paths = orders_df['file_path']\n",
    "bucket = 'cwbirdsimages'\n",
    "\n",
    "def resize_images_array(img_dir, file_paths):\n",
    "    # arrays of image pixels\n",
    "    img_arrays = []\n",
    "    \n",
    "    paths = []\n",
    "    \n",
    "    # loop through the dataframe that is linked to its label so that all images are in the same order\n",
    "    for path in tqdm(file_paths):\n",
    "        s3 = boto3.client('s3')\n",
    "        try:\n",
    "            obj = s3.get_object(Bucket=bucket, Key=f'{img_dir}/{path}')\n",
    "            img_bytes = BytesIO(obj['Body'].read())\n",
    "            open_img = Image.open(img_bytes)\n",
    "            arr = np.array(open_img.resize((299,299))) # resize to 200,200. possible to play around with better or worse resolution\n",
    "            img_arrays.append(arr)\n",
    "            paths.append(path)\n",
    "        except:\n",
    "#             print(path) # get file_path of ones that fail to load\n",
    "            continue\n",
    "    return np.array(img_arrays)"
   ]
  },
  {
   "cell_type": "code",
   "execution_count": null,
   "metadata": {},
   "outputs": [
    {
     "name": "stderr",
     "output_type": "stream",
     "text": [
      " 19%|█▉        | 9015/47001 [17:52<1:20:07,  7.90it/s] "
     ]
    }
   ],
   "source": [
    "X = resize_images_array(img_dir, orders_df['file_path'][:47001])"
   ]
  },
  {
   "cell_type": "code",
   "execution_count": null,
   "metadata": {},
   "outputs": [],
   "source": [
    "print('length of sample: ', len(X))\n",
    "X.shape"
   ]
  },
  {
   "cell_type": "code",
   "execution_count": null,
   "metadata": {},
   "outputs": [],
   "source": [
    "# normalize the RBG values\n",
    "X = X/255.0"
   ]
  },
  {
   "cell_type": "code",
   "execution_count": null,
   "metadata": {},
   "outputs": [],
   "source": [
    "# grab numeric label\n",
    "# VALUES MUST BE NP.ARRAYS\n",
    "\n",
    "label = np.array(orders_df['order'][:47001].values)"
   ]
  },
  {
   "cell_type": "code",
   "execution_count": null,
   "metadata": {},
   "outputs": [],
   "source": [
    "y = (label.reshape(-1,1) == orders_df['order'][:47001].unique()).astype(float)"
   ]
  },
  {
   "cell_type": "code",
   "execution_count": null,
   "metadata": {},
   "outputs": [],
   "source": [
    "y[0]"
   ]
  },
  {
   "cell_type": "code",
   "execution_count": null,
   "metadata": {},
   "outputs": [],
   "source": [
    "print('label shape: ', y.shape)\n",
    "print('features shape: ', X.shape)"
   ]
  },
  {
   "cell_type": "code",
   "execution_count": null,
   "metadata": {},
   "outputs": [],
   "source": [
    "n_categories = y.shape[1]"
   ]
  },
  {
   "cell_type": "code",
   "execution_count": null,
   "metadata": {},
   "outputs": [],
   "source": [
    "n_categories"
   ]
  },
  {
   "cell_type": "markdown",
   "metadata": {},
   "source": [
    "## Transfer Learning"
   ]
  },
  {
   "cell_type": "code",
   "execution_count": 201,
   "metadata": {},
   "outputs": [
    {
     "data": {
      "text/plain": [
       "'2.2.0'"
      ]
     },
     "execution_count": 201,
     "metadata": {},
     "output_type": "execute_result"
    }
   ],
   "source": [
    "import tensorflow as tf\n",
    "from tensorflow.keras.models import Sequential\n",
    "from tensorflow.keras.layers import Dense, Dropout, Activation, Flatten, GlobalAveragePooling2D\n",
    "from tensorflow.keras.layers import Conv2D, MaxPool2D, BatchNormalization # CNN\n",
    "from tensorflow.keras.models import Model\n",
    "\n",
    "from tensorflow.keras.applications.xception import preprocess_input\n",
    "from tensorflow.keras.applications import Xception\n",
    "from tensorflow.keras.preprocessing.image import img_to_array, load_img\n",
    "from tensorflow.keras.models import Model\n",
    "from tensorflow.keras.optimizers import SGD, RMSprop\n",
    "\n",
    "from tensorflow.keras.callbacks import TensorBoard # graphical visual of loss and accuracy over the epochs of train and test set\n",
    "from sklearn.metrics import accuracy_score\n",
    "from sklearn.model_selection import train_test_split\n",
    "\n",
    "import datetime\n",
    "\n",
    "tf.__version__"
   ]
  },
  {
   "cell_type": "code",
   "execution_count": null,
   "metadata": {},
   "outputs": [],
   "source": [
    "X_train, X_test, y_train, y_test = train_test_split(X, y, test_size=0.2)"
   ]
  },
  {
   "cell_type": "code",
   "execution_count": null,
   "metadata": {},
   "outputs": [],
   "source": [
    "print('X_train shape: ', X_train.shape)\n",
    "print('X_test shape: ', X_test.shape)\n",
    "print('y_train shape: ', y_train.shape)\n",
    "print('y_test shape: ', y_test.shape)"
   ]
  },
  {
   "cell_type": "code",
   "execution_count": null,
   "metadata": {},
   "outputs": [],
   "source": [
    "log_xcept = os.path.join(\"logs/orders_xception\", datetime.datetime.now().strftime(\"%Y%m%d-%H%M%S\"))\n",
    "tensorboard_callback = TensorBoard(log_dir=log_xcept, histogram_freq=1)"
   ]
  },
  {
   "cell_type": "code",
   "execution_count": null,
   "metadata": {},
   "outputs": [],
   "source": [
    "input_size = (299,299,3)"
   ]
  },
  {
   "cell_type": "code",
   "execution_count": null,
   "metadata": {},
   "outputs": [],
   "source": [
    "def create_transfer_model(input_size, n_categories, weights = 'imagenet'):\n",
    "        # note that the \"top\" is not included in the weights below\n",
    "        base_model = Xception(weights=weights,\n",
    "                          include_top=False,\n",
    "                          input_shape=input_size)\n",
    "        \n",
    "        model = base_model.output\n",
    "        model = GlobalAveragePooling2D()(model)\n",
    "        predictions = Dense(n_categories, activation='softmax')(model)\n",
    "        model = Model(inputs=base_model.input, outputs=predictions)\n",
    "        \n",
    "        return model"
   ]
  },
  {
   "cell_type": "code",
   "execution_count": null,
   "metadata": {},
   "outputs": [],
   "source": [
    "transfer_model = create_transfer_model((299,299,3),n_categories)"
   ]
  },
  {
   "cell_type": "code",
   "execution_count": null,
   "metadata": {},
   "outputs": [],
   "source": [
    "def change_trainable_layers(model, trainable_index):\n",
    "    for layer in model.layers[:trainable_index]:\n",
    "        layer.trainable = False\n",
    "    for layer in model.layers[trainable_index:]:\n",
    "        layer.trainable = True"
   ]
  },
  {
   "cell_type": "code",
   "execution_count": null,
   "metadata": {},
   "outputs": [],
   "source": [
    "_ = change_trainable_layers(transfer_model, 132)"
   ]
  },
  {
   "cell_type": "code",
   "execution_count": null,
   "metadata": {},
   "outputs": [],
   "source": [
    "print_model_properties(transfer_model, 130)"
   ]
  },
  {
   "cell_type": "code",
   "execution_count": null,
   "metadata": {},
   "outputs": [],
   "source": [
    "transfer_model.compile(optimizer=RMSprop(lr=0.001), loss='categorical_crossentropy', metrics=['accuracy'], callbacks=[tensorboard_callback])"
   ]
  },
  {
   "cell_type": "code",
   "execution_count": null,
   "metadata": {},
   "outputs": [],
   "source": [
    "xception_final = transfer_model.fit(X, y, batch_size=1000, epochs=5, validation_split=0.1)"
   ]
  },
  {
   "cell_type": "code",
   "execution_count": null,
   "metadata": {},
   "outputs": [],
   "source": [
    "transfer_model.save('saved_models/orders_xception.h5')\n",
    "# load_L_xception = tf.keras.models.load_model('saved_models/large_xception.h5')"
   ]
  },
  {
   "cell_type": "code",
   "execution_count": null,
   "metadata": {},
   "outputs": [],
   "source": []
  }
 ],
 "metadata": {
  "kernelspec": {
   "display_name": "Python 3",
   "language": "python",
   "name": "python3"
  },
  "language_info": {
   "codemirror_mode": {
    "name": "ipython",
    "version": 3
   },
   "file_extension": ".py",
   "mimetype": "text/x-python",
   "name": "python",
   "nbconvert_exporter": "python",
   "pygments_lexer": "ipython3",
   "version": "3.6.3"
  }
 },
 "nbformat": 4,
 "nbformat_minor": 4
}

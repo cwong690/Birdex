{
 "cells": [
  {
   "cell_type": "code",
   "execution_count": 1,
   "metadata": {},
   "outputs": [],
   "source": [
    "import pandas as pd\n",
    "import numpy as np\n",
    "import seaborn as sns\n",
    "import matplotlib.pyplot as plt\n",
    "import os\n",
    "import cv2\n",
    "\n",
    "import random\n",
    "import math\n",
    "import networkx as nx\n",
    "\n",
    "import boto3\n",
    "from PIL import Image\n",
    "\n",
    "import requests\n",
    "import json\n",
    "\n",
    "from tqdm import tqdm\n",
    "getattr(tqdm, '_instances', {}).clear()  # ⬅ add this line\n",
    "\n",
    "%matplotlib inline\n",
    "\n",
    "plt.style.use('ggplot')\n",
    "\n",
    "pd.set_option('display.max_columns', 50)"
   ]
  },
  {
   "cell_type": "code",
   "execution_count": 2,
   "metadata": {},
   "outputs": [],
   "source": [
    "import pickle # save images\n",
    "import time # get time stamp of models trained\n",
    "\n",
    "import matplotlib.image as mpimg # show images\n",
    "from io import BytesIO # reading bytes"
   ]
  },
  {
   "cell_type": "code",
   "execution_count": null,
   "metadata": {},
   "outputs": [],
   "source": [
    "# bird_orders = pd.read_csv('data/eBird-Clements-v2019-integrated-checklist-August-2019.csv', encoding = \"ISO-8859-1\", error_bad_lines=False)"
   ]
  },
  {
   "cell_type": "code",
   "execution_count": null,
   "metadata": {},
   "outputs": [],
   "source": [
    "# bird_orders.head()\n",
    "\n",
    "# bird_orders.columns = ['eBird_code', 'order_num', 'category', 'txt_labels',\n",
    "#        'sci_name', 'range', 'order', 'family', 'species_group',\n",
    "#        'extinct', 'extinct_year']\n",
    "\n",
    "# bird_orders.head(1)\n",
    "\n",
    "# bird_orders[bird_orders['txt_labels'] == 'Harlequin Duck']\n",
    "\n",
    "# bird_orders['order'].unique()"
   ]
  },
  {
   "cell_type": "code",
   "execution_count": null,
   "metadata": {},
   "outputs": [],
   "source": [
    "# master_df = pd.read_csv('data/master_df.csv', index_col=0)"
   ]
  },
  {
   "cell_type": "code",
   "execution_count": null,
   "metadata": {},
   "outputs": [],
   "source": [
    "# import re\n",
    "\n",
    "# master_df['txt_labels'] = master_df['txt_labels'].str.replace(r'\\([\\s\\S]*\\)', '').str.strip()"
   ]
  },
  {
   "cell_type": "code",
   "execution_count": null,
   "metadata": {},
   "outputs": [],
   "source": [
    "# orders = bird_orders[['order','txt_labels', 'family', 'species_group']].copy()\n",
    "\n",
    "# orders.info()\n",
    "\n",
    "# orders['order'].nunique()\n",
    "\n",
    "# master_df.info()\n",
    "\n",
    "# orders_df = master_df.merge(orders, on='txt_labels')\n",
    "\n",
    "# orders_df['family'].nunique()\n",
    "\n",
    "# orders_df['species_group'].nunique()"
   ]
  },
  {
   "cell_type": "code",
   "execution_count": null,
   "metadata": {},
   "outputs": [],
   "source": [
    "# orders_df.to_csv('data/orders_df.csv')"
   ]
  },
  {
   "cell_type": "markdown",
   "metadata": {},
   "source": [
    "## Read in final csv"
   ]
  },
  {
   "cell_type": "code",
   "execution_count": 3,
   "metadata": {},
   "outputs": [],
   "source": [
    "orders_df = pd.read_csv('data/orders_df.csv', index_col=0)"
   ]
  },
  {
   "cell_type": "code",
   "execution_count": 4,
   "metadata": {},
   "outputs": [
    {
     "data": {
      "text/html": [
       "<div>\n",
       "<style>\n",
       "    .dataframe thead tr:only-child th {\n",
       "        text-align: right;\n",
       "    }\n",
       "\n",
       "    .dataframe thead th {\n",
       "        text-align: left;\n",
       "    }\n",
       "\n",
       "    .dataframe tbody tr th {\n",
       "        vertical-align: top;\n",
       "    }\n",
       "</style>\n",
       "<table border=\"1\" class=\"dataframe\">\n",
       "  <thead>\n",
       "    <tr style=\"text-align: right;\">\n",
       "      <th></th>\n",
       "      <th>file_path</th>\n",
       "      <th>img_name</th>\n",
       "      <th>class_id</th>\n",
       "      <th>txt_labels</th>\n",
       "      <th>order</th>\n",
       "      <th>family</th>\n",
       "      <th>species_group</th>\n",
       "    </tr>\n",
       "  </thead>\n",
       "  <tbody>\n",
       "    <tr>\n",
       "      <th>0</th>\n",
       "      <td>0817/0000139e21dc4d0cbfe14cae3c85c829.jpg</td>\n",
       "      <td>0000139e-21dc-4d0c-bfe1-4cae3c85c829</td>\n",
       "      <td>817</td>\n",
       "      <td>Oak Titmouse</td>\n",
       "      <td>Passeriformes</td>\n",
       "      <td>Paridae (Tits, Chickadees, and Titmice)</td>\n",
       "      <td>Tits, Chickadees, and Titmice</td>\n",
       "    </tr>\n",
       "    <tr>\n",
       "      <th>1</th>\n",
       "      <td>0817/01a472d8e93047a080aae4f958a2ef47.jpg</td>\n",
       "      <td>01a472d8-e930-47a0-80aa-e4f958a2ef47</td>\n",
       "      <td>817</td>\n",
       "      <td>Oak Titmouse</td>\n",
       "      <td>Passeriformes</td>\n",
       "      <td>Paridae (Tits, Chickadees, and Titmice)</td>\n",
       "      <td>Tits, Chickadees, and Titmice</td>\n",
       "    </tr>\n",
       "  </tbody>\n",
       "</table>\n",
       "</div>"
      ],
      "text/plain": [
       "                                   file_path  \\\n",
       "0  0817/0000139e21dc4d0cbfe14cae3c85c829.jpg   \n",
       "1  0817/01a472d8e93047a080aae4f958a2ef47.jpg   \n",
       "\n",
       "                               img_name  class_id    txt_labels  \\\n",
       "0  0000139e-21dc-4d0c-bfe1-4cae3c85c829       817  Oak Titmouse   \n",
       "1  01a472d8-e930-47a0-80aa-e4f958a2ef47       817  Oak Titmouse   \n",
       "\n",
       "           order                                   family  \\\n",
       "0  Passeriformes  Paridae (Tits, Chickadees, and Titmice)   \n",
       "1  Passeriformes  Paridae (Tits, Chickadees, and Titmice)   \n",
       "\n",
       "                   species_group  \n",
       "0  Tits, Chickadees, and Titmice  \n",
       "1  Tits, Chickadees, and Titmice  "
      ]
     },
     "execution_count": 4,
     "metadata": {},
     "output_type": "execute_result"
    }
   ],
   "source": [
    "orders_df.head(2)"
   ]
  },
  {
   "cell_type": "code",
   "execution_count": 5,
   "metadata": {},
   "outputs": [
    {
     "data": {
      "text/plain": [
       "20"
      ]
     },
     "execution_count": 5,
     "metadata": {},
     "output_type": "execute_result"
    }
   ],
   "source": [
    "orders_df['order'].nunique()"
   ]
  },
  {
   "cell_type": "code",
   "execution_count": 6,
   "metadata": {},
   "outputs": [
    {
     "data": {
      "text/plain": [
       "48271"
      ]
     },
     "execution_count": 6,
     "metadata": {},
     "output_type": "execute_result"
    }
   ],
   "source": [
    "len(orders_df)"
   ]
  },
  {
   "cell_type": "code",
   "execution_count": 7,
   "metadata": {},
   "outputs": [
    {
     "data": {
      "text/plain": [
       "0"
      ]
     },
     "execution_count": 7,
     "metadata": {},
     "output_type": "execute_result"
    }
   ],
   "source": [
    "sum(orders_df['order'].isnull())"
   ]
  },
  {
   "cell_type": "code",
   "execution_count": 8,
   "metadata": {},
   "outputs": [
    {
     "data": {
      "text/plain": [
       "Int64Index([    0,     1,     2,     3,     4,     5,     6,     7,     8,\n",
       "                9,\n",
       "            ...\n",
       "            48261, 48262, 48263, 48264, 48265, 48266, 48267, 48268, 48269,\n",
       "            48270],\n",
       "           dtype='int64', length=48271)"
      ]
     },
     "execution_count": 8,
     "metadata": {},
     "output_type": "execute_result"
    }
   ],
   "source": [
    "orders_df['species_group'].index"
   ]
  },
  {
   "cell_type": "code",
   "execution_count": 10,
   "metadata": {},
   "outputs": [
    {
     "data": {
      "text/plain": [
       "array(['Paridae (Tits, Chickadees, and Titmice)',\n",
       "       'Parulidae (New World Warblers)',\n",
       "       'Passerellidae (New World Sparrows)', 'Podicipedidae (Grebes)',\n",
       "       'Tyrannidae (Tyrant Flycatchers)',\n",
       "       'Ardeidae (Herons, Egrets, and Bitterns)',\n",
       "       'Corvidae (Crows, Jays, and Magpies)',\n",
       "       'Icteridae (Troupials and Allies)',\n",
       "       'Laridae (Gulls, Terns, and Skimmers)',\n",
       "       'Turdidae (Thrushes and Allies)',\n",
       "       'Anatidae (Ducks, Geese, and Waterfowl)',\n",
       "       'Cardinalidae (Cardinals and Allies)',\n",
       "       'Accipitridae (Hawks, Eagles, and Kites)',\n",
       "       'Vireonidae (Vireos, Shrike-Babblers, and Erpornis)',\n",
       "       'Picidae (Woodpeckers)', 'Trochilidae (Hummingbirds)',\n",
       "       'Phalacrocoracidae (Cormorants and Shags)',\n",
       "       'Remizidae (Penduline-Tits)',\n",
       "       'Charadriidae (Plovers and Lapwings)',\n",
       "       'Fringillidae (Finches, Euphonias, and Allies)',\n",
       "       'Scolopacidae (Sandpipers and Allies)',\n",
       "       'Columbidae (Pigeons and Doves)', 'Strigidae (Owls)',\n",
       "       'Regulidae (Kinglets)', 'Pelecanidae (Pelicans)',\n",
       "       'Odontophoridae (New World Quail)',\n",
       "       'Mimidae (Mockingbirds and Thrashers)',\n",
       "       'Phasianidae (Pheasants, Grouse, and Allies)',\n",
       "       'Cuculidae (Cuckoos)', 'Sturnidae (Starlings)',\n",
       "       'Haematopodidae (Oystercatchers)', 'Anhingidae (Anhingas)',\n",
       "       'Troglodytidae (Wrens)',\n",
       "       'Calcariidae (Longspurs and Snow Buntings)',\n",
       "       'Motacillidae (Wagtails and Pipits)', 'Hirundinidae (Swallows)',\n",
       "       'Falconidae (Falcons and Caracaras)', 'Apodidae (Swifts)',\n",
       "       'Gaviidae (Loons)', 'Tytonidae (Barn-Owls)',\n",
       "       'Cathartidae (New World Vultures)', 'Sittidae (Nuthatches)',\n",
       "       'Alcidae (Auks, Murres, and Puffins)', 'Alcedinidae (Kingfishers)',\n",
       "       'Laniidae (Shrikes)', 'Recurvirostridae (Stilts and Avocets)',\n",
       "       'Rallidae (Rails, Gallinules, and Coots)',\n",
       "       'Bombycillidae (Waxwings)',\n",
       "       'Threskiornithidae (Ibises and Spoonbills)',\n",
       "       'Pandionidae (Osprey)', 'Ptiliogonatidae (Silky-flycatchers)',\n",
       "       'Certhiidae (Treecreepers)', 'Sulidae (Boobies and Gannets)',\n",
       "       'Caprimulgidae (Nightjars and Allies)',\n",
       "       'Passeridae (Old World Sparrows)', 'Cinclidae (Dippers)',\n",
       "       'Polioptilidae (Gnatcatchers)',\n",
       "       'Icteriidae (Yellow-breasted Chat)', 'Gruidae (Cranes)',\n",
       "       'Aegithalidae (Long-tailed Tits)', 'Alaudidae (Larks)',\n",
       "       'Ciconiidae (Storks)',\n",
       "       'Sylviidae (Sylviid Warblers, Parrotbills, and Allies)',\n",
       "       'Psittacidae (New World and African Parrots)'], dtype=object)"
      ]
     },
     "execution_count": 10,
     "metadata": {},
     "output_type": "execute_result"
    }
   ],
   "source": [
    "orders_df['family'].unique()"
   ]
  },
  {
   "cell_type": "markdown",
   "metadata": {},
   "source": [
    "### previously [:21129]\n",
    "### current: [:23555]"
   ]
  },
  {
   "cell_type": "code",
   "execution_count": 29,
   "metadata": {},
   "outputs": [
    {
     "data": {
      "text/html": [
       "<div>\n",
       "<style>\n",
       "    .dataframe thead tr:only-child th {\n",
       "        text-align: right;\n",
       "    }\n",
       "\n",
       "    .dataframe thead th {\n",
       "        text-align: left;\n",
       "    }\n",
       "\n",
       "    .dataframe tbody tr th {\n",
       "        vertical-align: top;\n",
       "    }\n",
       "</style>\n",
       "<table border=\"1\" class=\"dataframe\">\n",
       "  <thead>\n",
       "    <tr style=\"text-align: right;\">\n",
       "      <th></th>\n",
       "      <th>file_path</th>\n",
       "      <th>img_name</th>\n",
       "      <th>class_id</th>\n",
       "      <th>txt_labels</th>\n",
       "      <th>order</th>\n",
       "      <th>family</th>\n",
       "      <th>species_group</th>\n",
       "    </tr>\n",
       "  </thead>\n",
       "  <tbody>\n",
       "    <tr>\n",
       "      <th>21128</th>\n",
       "      <td>0934/fe76ffde47ed46ddb4687b59a6cdb0eb.jpg</td>\n",
       "      <td>fe76ffde-47ed-46dd-b468-7b59a6cdb0eb</td>\n",
       "      <td>934</td>\n",
       "      <td>Western Kingbird</td>\n",
       "      <td>Passeriformes</td>\n",
       "      <td>Tyrannidae (Tyrant Flycatchers)</td>\n",
       "      <td>Tyrant Flycatchers: Pewees, Kingbirds, and Allies</td>\n",
       "    </tr>\n",
       "    <tr>\n",
       "      <th>21129</th>\n",
       "      <td>0501/0113a9878a344e43a2f29ce6cbbd196b.jpg</td>\n",
       "      <td>0113a987-8a34-4e43-a2f2-9ce6cbbd196b</td>\n",
       "      <td>501</td>\n",
       "      <td>American Coot</td>\n",
       "      <td>Gruiformes</td>\n",
       "      <td>Rallidae (Rails, Gallinules, and Coots)</td>\n",
       "      <td>Rails, Gallinules, and Allies</td>\n",
       "    </tr>\n",
       "  </tbody>\n",
       "</table>\n",
       "</div>"
      ],
      "text/plain": [
       "                                       file_path  \\\n",
       "21128  0934/fe76ffde47ed46ddb4687b59a6cdb0eb.jpg   \n",
       "21129  0501/0113a9878a344e43a2f29ce6cbbd196b.jpg   \n",
       "\n",
       "                                   img_name  class_id        txt_labels  \\\n",
       "21128  fe76ffde-47ed-46dd-b468-7b59a6cdb0eb       934  Western Kingbird   \n",
       "21129  0113a987-8a34-4e43-a2f2-9ce6cbbd196b       501     American Coot   \n",
       "\n",
       "               order                                   family  \\\n",
       "21128  Passeriformes          Tyrannidae (Tyrant Flycatchers)   \n",
       "21129     Gruiformes  Rallidae (Rails, Gallinules, and Coots)   \n",
       "\n",
       "                                           species_group  \n",
       "21128  Tyrant Flycatchers: Pewees, Kingbirds, and Allies  \n",
       "21129                      Rails, Gallinules, and Allies  "
      ]
     },
     "execution_count": 29,
     "metadata": {},
     "output_type": "execute_result"
    }
   ],
   "source": [
    "orders_df[21128:21130]"
   ]
  },
  {
   "cell_type": "code",
   "execution_count": 36,
   "metadata": {},
   "outputs": [
    {
     "data": {
      "text/html": [
       "<div>\n",
       "<style>\n",
       "    .dataframe thead tr:only-child th {\n",
       "        text-align: right;\n",
       "    }\n",
       "\n",
       "    .dataframe thead th {\n",
       "        text-align: left;\n",
       "    }\n",
       "\n",
       "    .dataframe tbody tr th {\n",
       "        vertical-align: top;\n",
       "    }\n",
       "</style>\n",
       "<table border=\"1\" class=\"dataframe\">\n",
       "  <thead>\n",
       "    <tr style=\"text-align: right;\">\n",
       "      <th></th>\n",
       "      <th>file_path</th>\n",
       "      <th>img_name</th>\n",
       "      <th>class_id</th>\n",
       "      <th>txt_labels</th>\n",
       "      <th>order</th>\n",
       "      <th>family</th>\n",
       "    </tr>\n",
       "    <tr>\n",
       "      <th>species_group</th>\n",
       "      <th></th>\n",
       "      <th></th>\n",
       "      <th></th>\n",
       "      <th></th>\n",
       "      <th></th>\n",
       "      <th></th>\n",
       "    </tr>\n",
       "  </thead>\n",
       "  <tbody>\n",
       "    <tr>\n",
       "      <th>Alcids</th>\n",
       "      <td>196</td>\n",
       "      <td>196</td>\n",
       "      <td>196</td>\n",
       "      <td>196</td>\n",
       "      <td>196</td>\n",
       "      <td>196</td>\n",
       "    </tr>\n",
       "    <tr>\n",
       "      <th>Blackbirds</th>\n",
       "      <td>1587</td>\n",
       "      <td>1587</td>\n",
       "      <td>1587</td>\n",
       "      <td>1587</td>\n",
       "      <td>1587</td>\n",
       "      <td>1587</td>\n",
       "    </tr>\n",
       "    <tr>\n",
       "      <th>Cardinals, Grosbeaks, and Allies</th>\n",
       "      <td>1219</td>\n",
       "      <td>1219</td>\n",
       "      <td>1219</td>\n",
       "      <td>1219</td>\n",
       "      <td>1219</td>\n",
       "      <td>1219</td>\n",
       "    </tr>\n",
       "    <tr>\n",
       "      <th>Catbirds, Mockingbirds, and Thrashers</th>\n",
       "      <td>198</td>\n",
       "      <td>198</td>\n",
       "      <td>198</td>\n",
       "      <td>198</td>\n",
       "      <td>198</td>\n",
       "      <td>198</td>\n",
       "    </tr>\n",
       "    <tr>\n",
       "      <th>Cormorants and Anhingas</th>\n",
       "      <td>447</td>\n",
       "      <td>447</td>\n",
       "      <td>447</td>\n",
       "      <td>447</td>\n",
       "      <td>447</td>\n",
       "      <td>447</td>\n",
       "    </tr>\n",
       "    <tr>\n",
       "      <th>Cuckoos</th>\n",
       "      <td>230</td>\n",
       "      <td>230</td>\n",
       "      <td>230</td>\n",
       "      <td>230</td>\n",
       "      <td>230</td>\n",
       "      <td>230</td>\n",
       "    </tr>\n",
       "    <tr>\n",
       "      <th>Falcons and Caracaras</th>\n",
       "      <td>446</td>\n",
       "      <td>446</td>\n",
       "      <td>446</td>\n",
       "      <td>446</td>\n",
       "      <td>446</td>\n",
       "      <td>446</td>\n",
       "    </tr>\n",
       "    <tr>\n",
       "      <th>Finches, Euphonias, and Allies</th>\n",
       "      <td>934</td>\n",
       "      <td>934</td>\n",
       "      <td>934</td>\n",
       "      <td>934</td>\n",
       "      <td>934</td>\n",
       "      <td>934</td>\n",
       "    </tr>\n",
       "    <tr>\n",
       "      <th>Grebes</th>\n",
       "      <td>253</td>\n",
       "      <td>253</td>\n",
       "      <td>253</td>\n",
       "      <td>253</td>\n",
       "      <td>253</td>\n",
       "      <td>253</td>\n",
       "    </tr>\n",
       "    <tr>\n",
       "      <th>Grouse, Quail, and Allies</th>\n",
       "      <td>508</td>\n",
       "      <td>508</td>\n",
       "      <td>508</td>\n",
       "      <td>508</td>\n",
       "      <td>508</td>\n",
       "      <td>508</td>\n",
       "    </tr>\n",
       "    <tr>\n",
       "      <th>Gulls, Terns, and Skimmers</th>\n",
       "      <td>932</td>\n",
       "      <td>932</td>\n",
       "      <td>932</td>\n",
       "      <td>932</td>\n",
       "      <td>932</td>\n",
       "      <td>932</td>\n",
       "    </tr>\n",
       "    <tr>\n",
       "      <th>Herons, Ibis, and Allies</th>\n",
       "      <td>666</td>\n",
       "      <td>666</td>\n",
       "      <td>666</td>\n",
       "      <td>666</td>\n",
       "      <td>666</td>\n",
       "      <td>666</td>\n",
       "    </tr>\n",
       "    <tr>\n",
       "      <th>Hummingbirds</th>\n",
       "      <td>896</td>\n",
       "      <td>896</td>\n",
       "      <td>896</td>\n",
       "      <td>896</td>\n",
       "      <td>896</td>\n",
       "      <td>896</td>\n",
       "    </tr>\n",
       "    <tr>\n",
       "      <th>Jays, Magpies, Crows, and Ravens</th>\n",
       "      <td>295</td>\n",
       "      <td>295</td>\n",
       "      <td>295</td>\n",
       "      <td>295</td>\n",
       "      <td>295</td>\n",
       "      <td>295</td>\n",
       "    </tr>\n",
       "    <tr>\n",
       "      <th>Kingfishers</th>\n",
       "      <td>109</td>\n",
       "      <td>109</td>\n",
       "      <td>109</td>\n",
       "      <td>109</td>\n",
       "      <td>109</td>\n",
       "      <td>109</td>\n",
       "    </tr>\n",
       "    <tr>\n",
       "      <th>Kinglets</th>\n",
       "      <td>120</td>\n",
       "      <td>120</td>\n",
       "      <td>120</td>\n",
       "      <td>120</td>\n",
       "      <td>120</td>\n",
       "      <td>120</td>\n",
       "    </tr>\n",
       "    <tr>\n",
       "      <th>Longspurs and Snow Buntings</th>\n",
       "      <td>128</td>\n",
       "      <td>128</td>\n",
       "      <td>128</td>\n",
       "      <td>128</td>\n",
       "      <td>128</td>\n",
       "      <td>128</td>\n",
       "    </tr>\n",
       "    <tr>\n",
       "      <th>Loons</th>\n",
       "      <td>117</td>\n",
       "      <td>117</td>\n",
       "      <td>117</td>\n",
       "      <td>117</td>\n",
       "      <td>117</td>\n",
       "      <td>117</td>\n",
       "    </tr>\n",
       "    <tr>\n",
       "      <th>Martins and Swallows</th>\n",
       "      <td>284</td>\n",
       "      <td>284</td>\n",
       "      <td>284</td>\n",
       "      <td>284</td>\n",
       "      <td>284</td>\n",
       "      <td>284</td>\n",
       "    </tr>\n",
       "    <tr>\n",
       "      <th>New World Sparrows</th>\n",
       "      <td>1428</td>\n",
       "      <td>1428</td>\n",
       "      <td>1428</td>\n",
       "      <td>1428</td>\n",
       "      <td>1428</td>\n",
       "      <td>1428</td>\n",
       "    </tr>\n",
       "    <tr>\n",
       "      <th>Nuthatches</th>\n",
       "      <td>80</td>\n",
       "      <td>80</td>\n",
       "      <td>80</td>\n",
       "      <td>80</td>\n",
       "      <td>80</td>\n",
       "      <td>80</td>\n",
       "    </tr>\n",
       "    <tr>\n",
       "      <th>Owls</th>\n",
       "      <td>509</td>\n",
       "      <td>509</td>\n",
       "      <td>509</td>\n",
       "      <td>509</td>\n",
       "      <td>509</td>\n",
       "      <td>509</td>\n",
       "    </tr>\n",
       "    <tr>\n",
       "      <th>Pelicans</th>\n",
       "      <td>65</td>\n",
       "      <td>65</td>\n",
       "      <td>65</td>\n",
       "      <td>65</td>\n",
       "      <td>65</td>\n",
       "      <td>65</td>\n",
       "    </tr>\n",
       "    <tr>\n",
       "      <th>Penduline-Tits and Verdin</th>\n",
       "      <td>83</td>\n",
       "      <td>83</td>\n",
       "      <td>83</td>\n",
       "      <td>83</td>\n",
       "      <td>83</td>\n",
       "      <td>83</td>\n",
       "    </tr>\n",
       "    <tr>\n",
       "      <th>Pigeons and Doves</th>\n",
       "      <td>192</td>\n",
       "      <td>192</td>\n",
       "      <td>192</td>\n",
       "      <td>192</td>\n",
       "      <td>192</td>\n",
       "      <td>192</td>\n",
       "    </tr>\n",
       "    <tr>\n",
       "      <th>Shorebirds</th>\n",
       "      <td>1217</td>\n",
       "      <td>1217</td>\n",
       "      <td>1217</td>\n",
       "      <td>1217</td>\n",
       "      <td>1217</td>\n",
       "      <td>1217</td>\n",
       "    </tr>\n",
       "    <tr>\n",
       "      <th>Shrikes</th>\n",
       "      <td>120</td>\n",
       "      <td>120</td>\n",
       "      <td>120</td>\n",
       "      <td>120</td>\n",
       "      <td>120</td>\n",
       "      <td>120</td>\n",
       "    </tr>\n",
       "    <tr>\n",
       "      <th>Starlings and Mynas</th>\n",
       "      <td>308</td>\n",
       "      <td>308</td>\n",
       "      <td>308</td>\n",
       "      <td>308</td>\n",
       "      <td>308</td>\n",
       "      <td>308</td>\n",
       "    </tr>\n",
       "    <tr>\n",
       "      <th>Swifts</th>\n",
       "      <td>57</td>\n",
       "      <td>57</td>\n",
       "      <td>57</td>\n",
       "      <td>57</td>\n",
       "      <td>57</td>\n",
       "      <td>57</td>\n",
       "    </tr>\n",
       "    <tr>\n",
       "      <th>Thrushes</th>\n",
       "      <td>532</td>\n",
       "      <td>532</td>\n",
       "      <td>532</td>\n",
       "      <td>532</td>\n",
       "      <td>532</td>\n",
       "      <td>532</td>\n",
       "    </tr>\n",
       "    <tr>\n",
       "      <th>Tits, Chickadees, and Titmice</th>\n",
       "      <td>307</td>\n",
       "      <td>307</td>\n",
       "      <td>307</td>\n",
       "      <td>307</td>\n",
       "      <td>307</td>\n",
       "      <td>307</td>\n",
       "    </tr>\n",
       "    <tr>\n",
       "      <th>Tyrant Flycatchers: Pewees, Kingbirds, and Allies</th>\n",
       "      <td>720</td>\n",
       "      <td>720</td>\n",
       "      <td>720</td>\n",
       "      <td>720</td>\n",
       "      <td>720</td>\n",
       "      <td>720</td>\n",
       "    </tr>\n",
       "    <tr>\n",
       "      <th>Vireos</th>\n",
       "      <td>390</td>\n",
       "      <td>390</td>\n",
       "      <td>390</td>\n",
       "      <td>390</td>\n",
       "      <td>390</td>\n",
       "      <td>390</td>\n",
       "    </tr>\n",
       "    <tr>\n",
       "      <th>Vultures, Hawks, and Allies</th>\n",
       "      <td>992</td>\n",
       "      <td>992</td>\n",
       "      <td>992</td>\n",
       "      <td>992</td>\n",
       "      <td>992</td>\n",
       "      <td>992</td>\n",
       "    </tr>\n",
       "    <tr>\n",
       "      <th>Wagtails and Pipits</th>\n",
       "      <td>118</td>\n",
       "      <td>118</td>\n",
       "      <td>118</td>\n",
       "      <td>118</td>\n",
       "      <td>118</td>\n",
       "      <td>118</td>\n",
       "    </tr>\n",
       "    <tr>\n",
       "      <th>Waterfowl</th>\n",
       "      <td>1999</td>\n",
       "      <td>1999</td>\n",
       "      <td>1999</td>\n",
       "      <td>1999</td>\n",
       "      <td>1999</td>\n",
       "      <td>1999</td>\n",
       "    </tr>\n",
       "    <tr>\n",
       "      <th>Wood-Warblers</th>\n",
       "      <td>1902</td>\n",
       "      <td>1902</td>\n",
       "      <td>1902</td>\n",
       "      <td>1902</td>\n",
       "      <td>1902</td>\n",
       "      <td>1902</td>\n",
       "    </tr>\n",
       "    <tr>\n",
       "      <th>Woodpeckers</th>\n",
       "      <td>274</td>\n",
       "      <td>274</td>\n",
       "      <td>274</td>\n",
       "      <td>274</td>\n",
       "      <td>274</td>\n",
       "      <td>274</td>\n",
       "    </tr>\n",
       "    <tr>\n",
       "      <th>Wrens</th>\n",
       "      <td>271</td>\n",
       "      <td>271</td>\n",
       "      <td>271</td>\n",
       "      <td>271</td>\n",
       "      <td>271</td>\n",
       "      <td>271</td>\n",
       "    </tr>\n",
       "  </tbody>\n",
       "</table>\n",
       "</div>"
      ],
      "text/plain": [
       "                                                   file_path  img_name  \\\n",
       "species_group                                                            \n",
       "Alcids                                                   196       196   \n",
       "Blackbirds                                              1587      1587   \n",
       "Cardinals, Grosbeaks, and Allies                        1219      1219   \n",
       "Catbirds, Mockingbirds, and Thrashers                    198       198   \n",
       "Cormorants and Anhingas                                  447       447   \n",
       "Cuckoos                                                  230       230   \n",
       "Falcons and Caracaras                                    446       446   \n",
       "Finches, Euphonias, and Allies                           934       934   \n",
       "Grebes                                                   253       253   \n",
       "Grouse, Quail, and Allies                                508       508   \n",
       "Gulls, Terns, and Skimmers                               932       932   \n",
       "Herons, Ibis, and Allies                                 666       666   \n",
       "Hummingbirds                                             896       896   \n",
       "Jays, Magpies, Crows, and Ravens                         295       295   \n",
       "Kingfishers                                              109       109   \n",
       "Kinglets                                                 120       120   \n",
       "Longspurs and Snow Buntings                              128       128   \n",
       "Loons                                                    117       117   \n",
       "Martins and Swallows                                     284       284   \n",
       "New World Sparrows                                      1428      1428   \n",
       "Nuthatches                                                80        80   \n",
       "Owls                                                     509       509   \n",
       "Pelicans                                                  65        65   \n",
       "Penduline-Tits and Verdin                                 83        83   \n",
       "Pigeons and Doves                                        192       192   \n",
       "Shorebirds                                              1217      1217   \n",
       "Shrikes                                                  120       120   \n",
       "Starlings and Mynas                                      308       308   \n",
       "Swifts                                                    57        57   \n",
       "Thrushes                                                 532       532   \n",
       "Tits, Chickadees, and Titmice                            307       307   \n",
       "Tyrant Flycatchers: Pewees, Kingbirds, and Allies        720       720   \n",
       "Vireos                                                   390       390   \n",
       "Vultures, Hawks, and Allies                              992       992   \n",
       "Wagtails and Pipits                                      118       118   \n",
       "Waterfowl                                               1999      1999   \n",
       "Wood-Warblers                                           1902      1902   \n",
       "Woodpeckers                                              274       274   \n",
       "Wrens                                                    271       271   \n",
       "\n",
       "                                                   class_id  txt_labels  \\\n",
       "species_group                                                             \n",
       "Alcids                                                  196         196   \n",
       "Blackbirds                                             1587        1587   \n",
       "Cardinals, Grosbeaks, and Allies                       1219        1219   \n",
       "Catbirds, Mockingbirds, and Thrashers                   198         198   \n",
       "Cormorants and Anhingas                                 447         447   \n",
       "Cuckoos                                                 230         230   \n",
       "Falcons and Caracaras                                   446         446   \n",
       "Finches, Euphonias, and Allies                          934         934   \n",
       "Grebes                                                  253         253   \n",
       "Grouse, Quail, and Allies                               508         508   \n",
       "Gulls, Terns, and Skimmers                              932         932   \n",
       "Herons, Ibis, and Allies                                666         666   \n",
       "Hummingbirds                                            896         896   \n",
       "Jays, Magpies, Crows, and Ravens                        295         295   \n",
       "Kingfishers                                             109         109   \n",
       "Kinglets                                                120         120   \n",
       "Longspurs and Snow Buntings                             128         128   \n",
       "Loons                                                   117         117   \n",
       "Martins and Swallows                                    284         284   \n",
       "New World Sparrows                                     1428        1428   \n",
       "Nuthatches                                               80          80   \n",
       "Owls                                                    509         509   \n",
       "Pelicans                                                 65          65   \n",
       "Penduline-Tits and Verdin                                83          83   \n",
       "Pigeons and Doves                                       192         192   \n",
       "Shorebirds                                             1217        1217   \n",
       "Shrikes                                                 120         120   \n",
       "Starlings and Mynas                                     308         308   \n",
       "Swifts                                                   57          57   \n",
       "Thrushes                                                532         532   \n",
       "Tits, Chickadees, and Titmice                           307         307   \n",
       "Tyrant Flycatchers: Pewees, Kingbirds, and Allies       720         720   \n",
       "Vireos                                                  390         390   \n",
       "Vultures, Hawks, and Allies                             992         992   \n",
       "Wagtails and Pipits                                     118         118   \n",
       "Waterfowl                                              1999        1999   \n",
       "Wood-Warblers                                          1902        1902   \n",
       "Woodpeckers                                             274         274   \n",
       "Wrens                                                   271         271   \n",
       "\n",
       "                                                   order  family  \n",
       "species_group                                                     \n",
       "Alcids                                               196     196  \n",
       "Blackbirds                                          1587    1587  \n",
       "Cardinals, Grosbeaks, and Allies                    1219    1219  \n",
       "Catbirds, Mockingbirds, and Thrashers                198     198  \n",
       "Cormorants and Anhingas                              447     447  \n",
       "Cuckoos                                              230     230  \n",
       "Falcons and Caracaras                                446     446  \n",
       "Finches, Euphonias, and Allies                       934     934  \n",
       "Grebes                                               253     253  \n",
       "Grouse, Quail, and Allies                            508     508  \n",
       "Gulls, Terns, and Skimmers                           932     932  \n",
       "Herons, Ibis, and Allies                             666     666  \n",
       "Hummingbirds                                         896     896  \n",
       "Jays, Magpies, Crows, and Ravens                     295     295  \n",
       "Kingfishers                                          109     109  \n",
       "Kinglets                                             120     120  \n",
       "Longspurs and Snow Buntings                          128     128  \n",
       "Loons                                                117     117  \n",
       "Martins and Swallows                                 284     284  \n",
       "New World Sparrows                                  1428    1428  \n",
       "Nuthatches                                            80      80  \n",
       "Owls                                                 509     509  \n",
       "Pelicans                                              65      65  \n",
       "Penduline-Tits and Verdin                             83      83  \n",
       "Pigeons and Doves                                    192     192  \n",
       "Shorebirds                                          1217    1217  \n",
       "Shrikes                                              120     120  \n",
       "Starlings and Mynas                                  308     308  \n",
       "Swifts                                                57      57  \n",
       "Thrushes                                             532     532  \n",
       "Tits, Chickadees, and Titmice                        307     307  \n",
       "Tyrant Flycatchers: Pewees, Kingbirds, and Allies    720     720  \n",
       "Vireos                                               390     390  \n",
       "Vultures, Hawks, and Allies                          992     992  \n",
       "Wagtails and Pipits                                  118     118  \n",
       "Waterfowl                                           1999    1999  \n",
       "Wood-Warblers                                       1902    1902  \n",
       "Woodpeckers                                          274     274  \n",
       "Wrens                                                271     271  "
      ]
     },
     "execution_count": 36,
     "metadata": {},
     "output_type": "execute_result"
    }
   ],
   "source": [
    "orders_df[:21129].groupby('species_group').count()"
   ]
  },
  {
   "cell_type": "code",
   "execution_count": 20,
   "metadata": {},
   "outputs": [
    {
     "data": {
      "text/plain": [
       "array(['Alcids', 'Blackbirds', 'Cardinals, Grosbeaks, and Allies',\n",
       "       'Catbirds, Mockingbirds, and Thrashers', 'Cormorants and Anhingas',\n",
       "       'Cranes', 'Cuckoos', 'Dippers', 'Falcons and Caracaras',\n",
       "       'Finches, Euphonias, and Allies',\n",
       "       'Frigatebirds, Boobies, and Gannets', 'Gnatcatchers', 'Grebes',\n",
       "       'Grouse, Quail, and Allies', 'Gulls, Terns, and Skimmers',\n",
       "       'Herons, Ibis, and Allies', 'Hummingbirds',\n",
       "       'Jays, Magpies, Crows, and Ravens', 'Kingfishers', 'Kinglets',\n",
       "       'Larks', 'Long-tailed Tits and Bushtit',\n",
       "       'Longspurs and Snow Buntings', 'Loons', 'Martins and Swallows',\n",
       "       'New World Sparrows', 'Nightjars', 'Nuthatches',\n",
       "       'Old World Sparrows', 'Owls', 'Parrotbills, Wrentit, and Allies',\n",
       "       'Parrots, Parakeets, and Allies', 'Pelicans',\n",
       "       'Penduline-Tits and Verdin', 'Pigeons and Doves',\n",
       "       'Rails, Gallinules, and Allies', 'Shorebirds', 'Shrikes',\n",
       "       'Silky-flycatchers', 'Starlings and Mynas', 'Storks', 'Swifts',\n",
       "       'Thrushes', 'Tits, Chickadees, and Titmice', 'Treecreepers',\n",
       "       'Tyrant Flycatchers: Pewees, Kingbirds, and Allies', 'Vireos',\n",
       "       'Vultures, Hawks, and Allies', 'Wagtails and Pipits', 'Waterfowl',\n",
       "       'Waxwings', 'Wood-Warblers', 'Woodpeckers', 'Wrens',\n",
       "       'Yellow-breasted Chat'], dtype=object)"
      ]
     },
     "execution_count": 20,
     "metadata": {},
     "output_type": "execute_result"
    }
   ],
   "source": [
    "np.unique(orders_df['species_group'])"
   ]
  },
  {
   "cell_type": "code",
   "execution_count": 21,
   "metadata": {},
   "outputs": [
    {
     "data": {
      "text/plain": [
       "array(['Tits, Chickadees, and Titmice', 'Tits, Chickadees, and Titmice',\n",
       "       'Tits, Chickadees, and Titmice', ..., 'Vireos', 'Vireos', 'Vireos'],\n",
       "      dtype=object)"
      ]
     },
     "execution_count": 21,
     "metadata": {},
     "output_type": "execute_result"
    }
   ],
   "source": [
    "np.array(orders_df['species_group'].values)"
   ]
  },
  {
   "cell_type": "code",
   "execution_count": 22,
   "metadata": {},
   "outputs": [
    {
     "data": {
      "text/plain": [
       "array([0., 0., 0., 0., 0., 0., 0., 0., 0., 0., 0., 0., 0., 0., 0., 0., 0.,\n",
       "       0., 0., 0., 0., 0., 0., 0., 0., 0., 0., 0., 0., 0., 0., 0., 0., 0.,\n",
       "       0., 0., 0., 0., 0., 0., 0., 0., 0., 1., 0., 0., 0., 0., 0., 0., 0.,\n",
       "       0., 0., 0., 0.])"
      ]
     },
     "execution_count": 22,
     "metadata": {},
     "output_type": "execute_result"
    }
   ],
   "source": [
    "(np.array(orders_df['species_group'].values).reshape(-1,1) == np.unique(orders_df['species_group'])).astype(float)[0]"
   ]
  },
  {
   "cell_type": "code",
   "execution_count": 20,
   "metadata": {},
   "outputs": [
    {
     "data": {
      "image/png": "[encoded data removed]",
      "text/plain": [
       "<matplotlib.figure.Figure at 0x7fc78170fd30>"
      ]
     },
     "metadata": {},
     "output_type": "display_data"
    }
   ],
   "source": [
    "fig, ax = plt.subplots(figsize=(10,10))\n",
    "\n",
    "ax = orders_df['species_group'][:21129].hist(bins=80);\n",
    "plt.xticks(rotation=90);\n",
    "ax.set_title('Number of Species in Family Group')\n",
    "ax.set_xlabel('Family Groups')\n",
    "ax.set_ylabel('Number of Species')\n",
    "\n",
    "plt.tight_layout()"
   ]
  },
  {
   "cell_type": "code",
   "execution_count": 24,
   "metadata": {},
   "outputs": [
    {
     "data": {
      "image/png": "[encoded data removed]",
      "text/plain": [
       "<matplotlib.figure.Figure at 0x7fb10fa5e400>"
      ]
     },
     "metadata": {},
     "output_type": "display_data"
    }
   ],
   "source": [
    "fig, ax = plt.subplots(figsize=(10,10))\n",
    "\n",
    "ax = orders_df['order'][:21129].hist(bins=40);\n",
    "plt.xticks(rotation=90);\n",
    "ax.set_title('Number of Species in Order')\n",
    "ax.set_xlabel('Orders Name')\n",
    "ax.set_ylabel('Number of Species')\n",
    "\n",
    "plt.tight_layout()"
   ]
  },
  {
   "cell_type": "code",
   "execution_count": 25,
   "metadata": {},
   "outputs": [],
   "source": [
    "img_dir = 'images' # folder containing all other folders of images\n",
    "paths = orders_df['file_path']\n",
    "bucket = 'cwbirdsimages'\n",
    "\n",
    "def resize_images_array(img_dir, file_paths):\n",
    "    # arrays of image pixels\n",
    "    img_arrays = []\n",
    "    \n",
    "    paths = []\n",
    "    \n",
    "    # loop through the dataframe that is linked to its label so that all images are in the same order\n",
    "    for path in tqdm(file_paths):\n",
    "        s3 = boto3.client('s3')\n",
    "        try:\n",
    "            obj = s3.get_object(Bucket=bucket, Key=f'{img_dir}/{path}')\n",
    "            img_bytes = BytesIO(obj['Body'].read())\n",
    "            open_img = Image.open(img_bytes)\n",
    "            arr = np.array(open_img.resize((299,299))) # resize to 200,200. possible to play around with better or worse resolution\n",
    "            img_arrays.append(arr)\n",
    "            paths.append(path)\n",
    "        except:\n",
    "#             print(path) # get file_path of ones that fail to load\n",
    "            continue\n",
    "    return np.array(img_arrays)"
   ]
  },
  {
   "cell_type": "code",
   "execution_count": 26,
   "metadata": {},
   "outputs": [],
   "source": [
    "# X = resize_images_array(img_dir, orders_df['file_path'][:21129])"
   ]
  },
  {
   "cell_type": "code",
   "execution_count": null,
   "metadata": {},
   "outputs": [],
   "source": [
    "print('length of sample: ', len(X))\n",
    "X.shape"
   ]
  },
  {
   "cell_type": "code",
   "execution_count": null,
   "metadata": {},
   "outputs": [],
   "source": [
    "# normalize the RBG values\n",
    "X = X/255.0"
   ]
  },
  {
   "cell_type": "code",
   "execution_count": null,
   "metadata": {},
   "outputs": [],
   "source": [
    "# grab numeric label\n",
    "# VALUES MUST BE NP.ARRAYS\n",
    "\n",
    "label = np.array(orders_df['order'][:21129].values)"
   ]
  },
  {
   "cell_type": "code",
   "execution_count": null,
   "metadata": {},
   "outputs": [],
   "source": [
    "label"
   ]
  },
  {
   "cell_type": "code",
   "execution_count": null,
   "metadata": {},
   "outputs": [],
   "source": [
    "# labels are alphabetical\n",
    "y = (label.reshape(-1,1) == np.unique(orders_df['order'][:21129])).astype(float)"
   ]
  },
  {
   "cell_type": "code",
   "execution_count": null,
   "metadata": {},
   "outputs": [],
   "source": [
    "y[0]"
   ]
  },
  {
   "cell_type": "code",
   "execution_count": null,
   "metadata": {},
   "outputs": [],
   "source": [
    "print('label shape: ', y.shape)\n",
    "print('features shape: ', X.shape)"
   ]
  },
  {
   "cell_type": "code",
   "execution_count": null,
   "metadata": {},
   "outputs": [],
   "source": [
    "n_categories = y.shape[1]"
   ]
  },
  {
   "cell_type": "code",
   "execution_count": null,
   "metadata": {},
   "outputs": [],
   "source": [
    "n_categories"
   ]
  },
  {
   "cell_type": "markdown",
   "metadata": {},
   "source": [
    "## Transfer Learning"
   ]
  },
  {
   "cell_type": "code",
   "execution_count": 17,
   "metadata": {},
   "outputs": [
    {
     "data": {
      "text/plain": [
       "'2.2.0'"
      ]
     },
     "execution_count": 17,
     "metadata": {},
     "output_type": "execute_result"
    }
   ],
   "source": [
    "import tensorflow as tf\n",
    "from tensorflow.keras.models import Sequential\n",
    "from tensorflow.keras.layers import Dense, Dropout, Activation, Flatten, GlobalAveragePooling2D\n",
    "from tensorflow.keras.layers import Conv2D, MaxPool2D, BatchNormalization # CNN\n",
    "from tensorflow.keras.models import Model\n",
    "\n",
    "from tensorflow.keras.applications.xception import preprocess_input\n",
    "from tensorflow.keras.applications import Xception\n",
    "from tensorflow.keras.preprocessing.image import img_to_array, load_img\n",
    "from tensorflow.keras.models import Model\n",
    "from tensorflow.keras.optimizers import SGD, RMSprop\n",
    "\n",
    "from tensorflow.keras.callbacks import TensorBoard # graphical visual of loss and accuracy over the epochs of train and test set\n",
    "from sklearn.metrics import accuracy_score\n",
    "from sklearn.model_selection import train_test_split\n",
    "\n",
    "import datetime\n",
    "\n",
    "tf.__version__"
   ]
  },
  {
   "cell_type": "code",
   "execution_count": null,
   "metadata": {},
   "outputs": [],
   "source": [
    "X_train, X_test, y_train, y_test = train_test_split(X, y, test_size=0.2)"
   ]
  },
  {
   "cell_type": "code",
   "execution_count": null,
   "metadata": {},
   "outputs": [],
   "source": [
    "print('X_train shape: ', X_train.shape)\n",
    "print('X_test shape: ', X_test.shape)\n",
    "print('y_train shape: ', y_train.shape)\n",
    "print('y_test shape: ', y_test.shape)"
   ]
  },
  {
   "cell_type": "code",
   "execution_count": null,
   "metadata": {},
   "outputs": [],
   "source": [
    "log_xcept = os.path.join(\"logs/orders_xception\", datetime.datetime.now().strftime(\"%Y%m%d-%H%M%S\"))\n",
    "tensorboard_callback = TensorBoard(log_dir=log_xcept, histogram_freq=1)"
   ]
  },
  {
   "cell_type": "code",
   "execution_count": null,
   "metadata": {},
   "outputs": [],
   "source": [
    "input_size = (299,299,3)"
   ]
  },
  {
   "cell_type": "code",
   "execution_count": null,
   "metadata": {},
   "outputs": [],
   "source": [
    "def create_transfer_model(input_size, n_categories, weights = 'imagenet'):\n",
    "        # note that the \"top\" is not included in the weights below\n",
    "        base_model = Xception(weights=weights,\n",
    "                          include_top=False,\n",
    "                          input_shape=input_size)\n",
    "        \n",
    "        model = base_model.output\n",
    "        model = GlobalAveragePooling2D()(model)\n",
    "        predictions = Dense(n_categories, activation='softmax')(model)\n",
    "        model = Model(inputs=base_model.input, outputs=predictions)\n",
    "        \n",
    "        return model"
   ]
  },
  {
   "cell_type": "code",
   "execution_count": null,
   "metadata": {},
   "outputs": [],
   "source": [
    "transfer_model = create_transfer_model((299,299,3),n_categories)"
   ]
  },
  {
   "cell_type": "code",
   "execution_count": null,
   "metadata": {},
   "outputs": [],
   "source": []
  },
  {
   "cell_type": "code",
   "execution_count": null,
   "metadata": {},
   "outputs": [],
   "source": [
    "def change_trainable_layers(model, trainable_index):\n",
    "    for layer in model.layers[:trainable_index]:\n",
    "        layer.trainable = False\n",
    "    for layer in model.layers[trainable_index:]:\n",
    "        layer.trainable = True"
   ]
  },
  {
   "cell_type": "code",
   "execution_count": null,
   "metadata": {},
   "outputs": [],
   "source": [
    "_ = change_trainable_layers(transfer_model, 132)"
   ]
  },
  {
   "cell_type": "code",
   "execution_count": null,
   "metadata": {},
   "outputs": [],
   "source": [
    "# print_model_properties(transfer_model, 130)"
   ]
  },
  {
   "cell_type": "code",
   "execution_count": null,
   "metadata": {},
   "outputs": [],
   "source": [
    "transfer_model.compile(optimizer=RMSprop(lr=0.001), loss='categorical_crossentropy', metrics=['accuracy'])"
   ]
  },
  {
   "cell_type": "code",
   "execution_count": null,
   "metadata": {},
   "outputs": [],
   "source": [
    "xception_final = transfer_model.fit(X, y, batch_size=1000, epochs=5, validation_split=0.1, callbacks=[tensorboard_callback])"
   ]
  },
  {
   "cell_type": "code",
   "execution_count": 18,
   "metadata": {},
   "outputs": [],
   "source": [
    "# transfer_model.save('saved_models/orders_xception.h5')\n",
    "try:\n",
    "    species_xception = tf.keras.models.load_model('saved_models/species_xception.h5')\n",
    "except:\n",
    "    pass"
   ]
  },
  {
   "cell_type": "code",
   "execution_count": 40,
   "metadata": {},
   "outputs": [
    {
     "ename": "TypeError",
     "evalue": "'list' object is not callable",
     "output_type": "error",
     "traceback": [
      "\u001b[0;31m---------------------------------------------------------------------------\u001b[0m",
      "\u001b[0;31mTypeError\u001b[0m                                 Traceback (most recent call last)",
      "\u001b[0;32m<ipython-input-40-6bf77dfbc5c0>\u001b[0m in \u001b[0;36m<module>\u001b[0;34m()\u001b[0m\n\u001b[0;32m----> 1\u001b[0;31m \u001b[0mspecies_xception\u001b[0m\u001b[0;34m.\u001b[0m\u001b[0mweights\u001b[0m\u001b[0;34m(\u001b[0m\u001b[0;34m)\u001b[0m\u001b[0;34m\u001b[0m\u001b[0m\n\u001b[0m",
      "\u001b[0;31mTypeError\u001b[0m: 'list' object is not callable"
     ]
    }
   ],
   "source": [
    "species_xception."
   ]
  },
  {
   "cell_type": "code",
   "execution_count": null,
   "metadata": {},
   "outputs": [],
   "source": [
    "file = 'static/images/meet_duck.png'\n",
    "a = Image.open(file)\n",
    "c = np.array(a.resize((299,299)))"
   ]
  },
  {
   "cell_type": "code",
   "execution_count": null,
   "metadata": {},
   "outputs": [],
   "source": [
    "ans = orders_xception.predict(c.reshape(1,299,299,3))"
   ]
  },
  {
   "cell_type": "code",
   "execution_count": null,
   "metadata": {},
   "outputs": [],
   "source": [
    "ans"
   ]
  },
  {
   "cell_type": "code",
   "execution_count": null,
   "metadata": {},
   "outputs": [],
   "source": [
    "np.round(ans * 100, 1)[0].argsort()[-1:-4:-1]"
   ]
  },
  {
   "cell_type": "code",
   "execution_count": null,
   "metadata": {},
   "outputs": [],
   "source": [
    "np.unique(label)"
   ]
  },
  {
   "cell_type": "code",
   "execution_count": 28,
   "metadata": {},
   "outputs": [],
   "source": [
    "# %reload_ext tensorboard\n",
    "\n",
    "# %tensorboard --logdir='logs/orders_xception/'"
   ]
  },
  {
   "cell_type": "code",
   "execution_count": null,
   "metadata": {},
   "outputs": [],
   "source": []
  },
  {
   "cell_type": "code",
   "execution_count": null,
   "metadata": {},
   "outputs": [],
   "source": []
  },
  {
   "cell_type": "code",
   "execution_count": null,
   "metadata": {},
   "outputs": [],
   "source": []
  },
  {
   "cell_type": "code",
   "execution_count": null,
   "metadata": {},
   "outputs": [],
   "source": []
  },
  {
   "cell_type": "code",
   "execution_count": 16,
   "metadata": {},
   "outputs": [],
   "source": [
    "# # graphs\n",
    "# fig, ax = plt.subplots(2, 1, 1, figsize=(8, 8))\n",
    "# plt.plot(acc, label='Training Accuracy')\n",
    "# plt.plot(val_acc, label='Validation Accuracy')\n",
    "# plt.legend(loc='lower right')\n",
    "# plt.ylabel('Accuracy')\n",
    "# plt.ylim([min(plt.ylim()),1])\n",
    "# plt.title('Training and Validation Accuracy')\n",
    "# plt.savefig('graphs/mobilenet_acc.png')\n",
    "\n",
    "# plt.subplot(2, 1, 2)\n",
    "# plt.plot(loss, label='Training Loss')\n",
    "# plt.plot(val_loss, label='Validation Loss')\n",
    "# plt.legend(loc='upper right')\n",
    "# plt.ylabel('Cross Entropy')\n",
    "# plt.ylim([0,1.0])\n",
    "# plt.title('Training and Validation Loss')\n",
    "# plt.xlabel('epoch')\n",
    "# plt.savefig('graphs/mobilenet_loss.png')"
   ]
  },
  {
   "cell_type": "code",
   "execution_count": null,
   "metadata": {},
   "outputs": [],
   "source": []
  }
 ],
 "metadata": {
  "kernelspec": {
   "display_name": "Python 3",
   "language": "python",
   "name": "python3"
  },
  "language_info": {
   "codemirror_mode": {
    "name": "ipython",
    "version": 3
   },
   "file_extension": ".py",
   "mimetype": "text/x-python",
   "name": "python",
   "nbconvert_exporter": "python",
   "pygments_lexer": "ipython3",
   "version": "3.7.0"
  }
 },
 "nbformat": 4,
 "nbformat_minor": 4
}
